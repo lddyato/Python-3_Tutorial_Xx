{
 "cells": [
  {
   "cell_type": "code",
   "execution_count": 204,
   "metadata": {
    "collapsed": true
   },
   "outputs": [],
   "source": [
    "from IPython.core.interactiveshell import InteractiveShell\n",
    "InteractiveShell.ast_node_interactivity = \"all\""
   ]
  },
  {
   "cell_type": "code",
   "execution_count": 9,
   "metadata": {},
   "outputs": [],
   "source": [
    "import zipfile\n",
    "import urllib.request\n",
    "import pandas as pd\n",
    "import numpy as np\n",
    "import matplotlib.pyplot as plt"
   ]
  },
  {
   "cell_type": "markdown",
   "metadata": {},
   "source": [
    "## Assignment-Hospital Data"
   ]
  },
  {
   "cell_type": "markdown",
   "metadata": {},
   "source": [
    "### Introduction\n",
    "The zip file containing the data for this assignment can be downloaded here:\n",
    "\n",
    "[Hospital Quality Data](https://d396qusza40orc.cloudfront.net/rprog%2Fdata%2FProgAssignment3-data.zip) [832K]\n",
    "\n",
    "The data for this assignment come from the Hospital Compare web site (http://hospitalcompare.hhs.gov) \n",
    "run by the U.S. Department of Health and Human Services. \n",
    "The purpose of the web site is to provide data and information about the quality of care at over 4,000 Medicare-certified hospitals \n",
    "in the U.S. This dataset es- sentially covers all major U.S. hospitals. \n",
    "This dataset is used for a variety of purposes, \n",
    "including determining whether hospitals should be fined for not providing high quality care to patients \n",
    "(see http://goo.gl/jAXFX for some background on this particular topic).\n",
    "\n",
    "The Hospital Compare web site contains a lot of data and we will only look at a small subset for this assignment. \n",
    "The zip file for this assignment contains three files:\n",
    "* outcome-of-care-measures.csv: Contains information about 30-day mortality and \n",
    "readmission rates for heart attacks, heart failure, and \n",
    "pneumonia for over 4,000 hospitals.\n",
    "* hospital-data.csv: Contains information about each hospital.\n",
    "\n",
    "* Hospital_Revised_Flatfiles.pdf: Descriptions of the variables in each file (i.e the code book).\n",
    "\n",
    "A description of the variables in each of the files is in the included PDF file named Hospital_Revised_Flatfiles.pdf. \n",
    "This document contains information about many other files that are not included with this programming assignment. \n",
    "You will want to focus on the variables for Number 19 (“Outcome of Care Measures.csv”) and Number 11 (“Hospital Data.csv”). \n",
    "You may find it useful to print out this document (at least the pages for Tables 19 and 11) to have next to you \n",
    "while you work on this assignment. \n",
    "In particular, the numbers of the variables for each table indicate column indices in each table \n",
    "(i.e. “Hospital Name” is column 2 in the outcome-of-care-measures.csv file)."
   ]
  },
  {
   "cell_type": "markdown",
   "metadata": {},
   "source": [
    "### Check and Clean data"
   ]
  },
  {
   "cell_type": "code",
   "execution_count": 30,
   "metadata": {
    "scrolled": true
   },
   "outputs": [
    {
     "data": {
      "text/html": [
       "<div>\n",
       "<style>\n",
       "    .dataframe thead tr:only-child th {\n",
       "        text-align: right;\n",
       "    }\n",
       "\n",
       "    .dataframe thead th {\n",
       "        text-align: left;\n",
       "    }\n",
       "\n",
       "    .dataframe tbody tr th {\n",
       "        vertical-align: top;\n",
       "    }\n",
       "</style>\n",
       "<table border=\"1\" class=\"dataframe\">\n",
       "  <thead>\n",
       "    <tr style=\"text-align: right;\">\n",
       "      <th></th>\n",
       "      <th>Provider Number</th>\n",
       "      <th>Hospital Name</th>\n",
       "      <th>Address 1</th>\n",
       "      <th>Address 2</th>\n",
       "      <th>Address 3</th>\n",
       "      <th>City</th>\n",
       "      <th>State</th>\n",
       "      <th>ZIP Code</th>\n",
       "      <th>County Name</th>\n",
       "      <th>Phone Number</th>\n",
       "      <th>...</th>\n",
       "      <th>Lower Readmission Estimate - Hospital 30-Day Readmission Rates from Heart Failure</th>\n",
       "      <th>Upper Readmission Estimate - Hospital 30-Day Readmission Rates from Heart Failure</th>\n",
       "      <th>Number of Patients - Hospital 30-Day Readmission Rates from Heart Failure</th>\n",
       "      <th>Footnote - Hospital 30-Day Readmission Rates from Heart Failure</th>\n",
       "      <th>Hospital 30-Day Readmission Rates from Pneumonia</th>\n",
       "      <th>Comparison to U.S. Rate - Hospital 30-Day Readmission Rates from Pneumonia</th>\n",
       "      <th>Lower Readmission Estimate - Hospital 30-Day Readmission Rates from Pneumonia</th>\n",
       "      <th>Upper Readmission Estimate - Hospital 30-Day Readmission Rates from Pneumonia</th>\n",
       "      <th>Number of Patients - Hospital 30-Day Readmission Rates from Pneumonia</th>\n",
       "      <th>Footnote - Hospital 30-Day Readmission Rates from Pneumonia</th>\n",
       "    </tr>\n",
       "  </thead>\n",
       "  <tbody>\n",
       "    <tr>\n",
       "      <th>0</th>\n",
       "      <td>010001</td>\n",
       "      <td>SOUTHEAST ALABAMA MEDICAL CENTER</td>\n",
       "      <td>1108 ROSS CLARK CIRCLE</td>\n",
       "      <td>NaN</td>\n",
       "      <td>NaN</td>\n",
       "      <td>DOTHAN</td>\n",
       "      <td>AL</td>\n",
       "      <td>36301</td>\n",
       "      <td>HOUSTON</td>\n",
       "      <td>3347938701</td>\n",
       "      <td>...</td>\n",
       "      <td>21.3</td>\n",
       "      <td>26.5</td>\n",
       "      <td>891</td>\n",
       "      <td>NaN</td>\n",
       "      <td>17.1</td>\n",
       "      <td>No Different than U.S. National Rate</td>\n",
       "      <td>14.4</td>\n",
       "      <td>20.4</td>\n",
       "      <td>400</td>\n",
       "      <td>NaN</td>\n",
       "    </tr>\n",
       "    <tr>\n",
       "      <th>1</th>\n",
       "      <td>010005</td>\n",
       "      <td>MARSHALL MEDICAL CENTER SOUTH</td>\n",
       "      <td>2505 U S HIGHWAY 431 NORTH</td>\n",
       "      <td>NaN</td>\n",
       "      <td>NaN</td>\n",
       "      <td>BOAZ</td>\n",
       "      <td>AL</td>\n",
       "      <td>35957</td>\n",
       "      <td>MARSHALL</td>\n",
       "      <td>2565938310</td>\n",
       "      <td>...</td>\n",
       "      <td>19.2</td>\n",
       "      <td>26.1</td>\n",
       "      <td>264</td>\n",
       "      <td>NaN</td>\n",
       "      <td>17.6</td>\n",
       "      <td>No Different than U.S. National Rate</td>\n",
       "      <td>15.0</td>\n",
       "      <td>20.6</td>\n",
       "      <td>374</td>\n",
       "      <td>NaN</td>\n",
       "    </tr>\n",
       "    <tr>\n",
       "      <th>2</th>\n",
       "      <td>010006</td>\n",
       "      <td>ELIZA COFFEE MEMORIAL HOSPITAL</td>\n",
       "      <td>205 MARENGO STREET</td>\n",
       "      <td>NaN</td>\n",
       "      <td>NaN</td>\n",
       "      <td>FLORENCE</td>\n",
       "      <td>AL</td>\n",
       "      <td>35631</td>\n",
       "      <td>LAUDERDALE</td>\n",
       "      <td>2567688400</td>\n",
       "      <td>...</td>\n",
       "      <td>17.2</td>\n",
       "      <td>22.9</td>\n",
       "      <td>614</td>\n",
       "      <td>NaN</td>\n",
       "      <td>16.9</td>\n",
       "      <td>No Different than U.S. National Rate</td>\n",
       "      <td>14.7</td>\n",
       "      <td>19.5</td>\n",
       "      <td>842</td>\n",
       "      <td>NaN</td>\n",
       "    </tr>\n",
       "    <tr>\n",
       "      <th>3</th>\n",
       "      <td>010007</td>\n",
       "      <td>MIZELL MEMORIAL HOSPITAL</td>\n",
       "      <td>702 N MAIN ST</td>\n",
       "      <td>NaN</td>\n",
       "      <td>NaN</td>\n",
       "      <td>OPP</td>\n",
       "      <td>AL</td>\n",
       "      <td>36467</td>\n",
       "      <td>COVINGTON</td>\n",
       "      <td>3344933541</td>\n",
       "      <td>...</td>\n",
       "      <td>22.4</td>\n",
       "      <td>31.9</td>\n",
       "      <td>135</td>\n",
       "      <td>NaN</td>\n",
       "      <td>19.4</td>\n",
       "      <td>No Different than U.S. National Rate</td>\n",
       "      <td>15.9</td>\n",
       "      <td>23.2</td>\n",
       "      <td>254</td>\n",
       "      <td>NaN</td>\n",
       "    </tr>\n",
       "    <tr>\n",
       "      <th>4</th>\n",
       "      <td>010008</td>\n",
       "      <td>CRENSHAW COMMUNITY HOSPITAL</td>\n",
       "      <td>101 HOSPITAL CIRCLE</td>\n",
       "      <td>NaN</td>\n",
       "      <td>NaN</td>\n",
       "      <td>LUVERNE</td>\n",
       "      <td>AL</td>\n",
       "      <td>36049</td>\n",
       "      <td>CRENSHAW</td>\n",
       "      <td>3343353374</td>\n",
       "      <td>...</td>\n",
       "      <td>19.9</td>\n",
       "      <td>30.2</td>\n",
       "      <td>59</td>\n",
       "      <td>NaN</td>\n",
       "      <td>18.0</td>\n",
       "      <td>No Different than U.S. National Rate</td>\n",
       "      <td>14.0</td>\n",
       "      <td>22.8</td>\n",
       "      <td>56</td>\n",
       "      <td>NaN</td>\n",
       "    </tr>\n",
       "  </tbody>\n",
       "</table>\n",
       "<p>5 rows × 46 columns</p>\n",
       "</div>"
      ],
      "text/plain": [
       "  Provider Number                     Hospital Name  \\\n",
       "0          010001  SOUTHEAST ALABAMA MEDICAL CENTER   \n",
       "1          010005     MARSHALL MEDICAL CENTER SOUTH   \n",
       "2          010006    ELIZA COFFEE MEMORIAL HOSPITAL   \n",
       "3          010007          MIZELL MEMORIAL HOSPITAL   \n",
       "4          010008       CRENSHAW COMMUNITY HOSPITAL   \n",
       "\n",
       "                    Address 1  Address 2  Address 3      City State  ZIP Code  \\\n",
       "0      1108 ROSS CLARK CIRCLE        NaN        NaN    DOTHAN    AL     36301   \n",
       "1  2505 U S HIGHWAY 431 NORTH        NaN        NaN      BOAZ    AL     35957   \n",
       "2          205 MARENGO STREET        NaN        NaN  FLORENCE    AL     35631   \n",
       "3               702 N MAIN ST        NaN        NaN       OPP    AL     36467   \n",
       "4         101 HOSPITAL CIRCLE        NaN        NaN   LUVERNE    AL     36049   \n",
       "\n",
       "  County Name  Phone Number  \\\n",
       "0     HOUSTON    3347938701   \n",
       "1    MARSHALL    2565938310   \n",
       "2  LAUDERDALE    2567688400   \n",
       "3   COVINGTON    3344933541   \n",
       "4    CRENSHAW    3343353374   \n",
       "\n",
       "                              ...                              \\\n",
       "0                             ...                               \n",
       "1                             ...                               \n",
       "2                             ...                               \n",
       "3                             ...                               \n",
       "4                             ...                               \n",
       "\n",
       "  Lower Readmission Estimate - Hospital 30-Day Readmission Rates from Heart Failure  \\\n",
       "0                                               21.3                                  \n",
       "1                                               19.2                                  \n",
       "2                                               17.2                                  \n",
       "3                                               22.4                                  \n",
       "4                                               19.9                                  \n",
       "\n",
       "  Upper Readmission Estimate - Hospital 30-Day Readmission Rates from Heart Failure  \\\n",
       "0                                               26.5                                  \n",
       "1                                               26.1                                  \n",
       "2                                               22.9                                  \n",
       "3                                               31.9                                  \n",
       "4                                               30.2                                  \n",
       "\n",
       "  Number of Patients - Hospital 30-Day Readmission Rates from Heart Failure  \\\n",
       "0                                                891                          \n",
       "1                                                264                          \n",
       "2                                                614                          \n",
       "3                                                135                          \n",
       "4                                                 59                          \n",
       "\n",
       "  Footnote - Hospital 30-Day Readmission Rates from Heart Failure  \\\n",
       "0                                                NaN                \n",
       "1                                                NaN                \n",
       "2                                                NaN                \n",
       "3                                                NaN                \n",
       "4                                                NaN                \n",
       "\n",
       "  Hospital 30-Day Readmission Rates from Pneumonia  \\\n",
       "0                                             17.1   \n",
       "1                                             17.6   \n",
       "2                                             16.9   \n",
       "3                                             19.4   \n",
       "4                                             18.0   \n",
       "\n",
       "  Comparison to U.S. Rate - Hospital 30-Day Readmission Rates from Pneumonia  \\\n",
       "0               No Different than U.S. National Rate                           \n",
       "1               No Different than U.S. National Rate                           \n",
       "2               No Different than U.S. National Rate                           \n",
       "3               No Different than U.S. National Rate                           \n",
       "4               No Different than U.S. National Rate                           \n",
       "\n",
       "  Lower Readmission Estimate - Hospital 30-Day Readmission Rates from Pneumonia  \\\n",
       "0                                               14.4                              \n",
       "1                                               15.0                              \n",
       "2                                               14.7                              \n",
       "3                                               15.9                              \n",
       "4                                               14.0                              \n",
       "\n",
       "  Upper Readmission Estimate - Hospital 30-Day Readmission Rates from Pneumonia  \\\n",
       "0                                               20.4                              \n",
       "1                                               20.6                              \n",
       "2                                               19.5                              \n",
       "3                                               23.2                              \n",
       "4                                               22.8                              \n",
       "\n",
       "  Number of Patients - Hospital 30-Day Readmission Rates from Pneumonia  \\\n",
       "0                                                400                      \n",
       "1                                                374                      \n",
       "2                                                842                      \n",
       "3                                                254                      \n",
       "4                                                 56                      \n",
       "\n",
       "  Footnote - Hospital 30-Day Readmission Rates from Pneumonia  \n",
       "0                                                NaN           \n",
       "1                                                NaN           \n",
       "2                                                NaN           \n",
       "3                                                NaN           \n",
       "4                                                NaN           \n",
       "\n",
       "[5 rows x 46 columns]"
      ]
     },
     "execution_count": 30,
     "metadata": {},
     "output_type": "execute_result"
    }
   ],
   "source": [
    "df = pd.read_csv('outcome-of-care-measures.csv').replace('Not Available',np.nan)\n",
    "df.head()"
   ]
  },
  {
   "cell_type": "code",
   "execution_count": 205,
   "metadata": {},
   "outputs": [
    {
     "data": {
      "text/plain": [
       "(4706, 46)"
      ]
     },
     "execution_count": 205,
     "metadata": {},
     "output_type": "execute_result"
    },
    {
     "data": {
      "text/plain": [
       "4706"
      ]
     },
     "execution_count": 205,
     "metadata": {},
     "output_type": "execute_result"
    },
    {
     "data": {
      "text/plain": [
       "46"
      ]
     },
     "execution_count": 205,
     "metadata": {},
     "output_type": "execute_result"
    }
   ],
   "source": [
    "df.shape\n",
    "df.shape[0]\n",
    "df.shape[1]"
   ]
  },
  {
   "cell_type": "code",
   "execution_count": 32,
   "metadata": {
    "scrolled": true
   },
   "outputs": [
    {
     "data": {
      "text/plain": [
       "Provider Number                                                                           object\n",
       "Hospital Name                                                                             object\n",
       "Address 1                                                                                 object\n",
       "Address 2                                                                                float64\n",
       "Address 3                                                                                float64\n",
       "City                                                                                      object\n",
       "State                                                                                     object\n",
       "ZIP Code                                                                                   int64\n",
       "County Name                                                                               object\n",
       "Phone Number                                                                               int64\n",
       "Hospital 30-Day Death (Mortality) Rates from Heart Attack                                 object\n",
       "Comparison to U.S. Rate - Hospital 30-Day Death (Mortality) Rates from Heart Attack       object\n",
       "Lower Mortality Estimate - Hospital 30-Day Death (Mortality) Rates from Heart Attack      object\n",
       "Upper Mortality Estimate - Hospital 30-Day Death (Mortality) Rates from Heart Attack      object\n",
       "Number of Patients - Hospital 30-Day Death (Mortality) Rates from Heart Attack            object\n",
       "Footnote - Hospital 30-Day Death (Mortality) Rates from Heart Attack                      object\n",
       "Hospital 30-Day Death (Mortality) Rates from Heart Failure                                object\n",
       "Comparison to U.S. Rate - Hospital 30-Day Death (Mortality) Rates from Heart Failure      object\n",
       "Lower Mortality Estimate - Hospital 30-Day Death (Mortality) Rates from Heart Failure     object\n",
       "Upper Mortality Estimate - Hospital 30-Day Death (Mortality) Rates from Heart Failure     object\n",
       "Number of Patients - Hospital 30-Day Death (Mortality) Rates from Heart Failure           object\n",
       "Footnote - Hospital 30-Day Death (Mortality) Rates from Heart Failure                     object\n",
       "Hospital 30-Day Death (Mortality) Rates from Pneumonia                                    object\n",
       "Comparison to U.S. Rate - Hospital 30-Day Death (Mortality) Rates from Pneumonia          object\n",
       "Lower Mortality Estimate - Hospital 30-Day Death (Mortality) Rates from Pneumonia         object\n",
       "Upper Mortality Estimate - Hospital 30-Day Death (Mortality) Rates from Pneumonia         object\n",
       "Number of Patients - Hospital 30-Day Death (Mortality) Rates from Pneumonia               object\n",
       "Footnote - Hospital 30-Day Death (Mortality) Rates from Pneumonia                         object\n",
       "Hospital 30-Day Readmission Rates from Heart Attack                                       object\n",
       "Comparison to U.S. Rate - Hospital 30-Day Readmission Rates from Heart Attack             object\n",
       "Lower Readmission Estimate - Hospital 30-Day Readmission Rates from Heart Attack          object\n",
       "Upper Readmission Estimate - Hospital 30-Day Readmission Rates from Heart Attack          object\n",
       "Number of Patients - Hospital 30-Day Readmission Rates from Heart Attack                  object\n",
       "Footnote - Hospital 30-Day Readmission Rates from Heart Attack                            object\n",
       "Hospital 30-Day Readmission Rates from Heart Failure                                      object\n",
       "Comparison to U.S. Rate - Hospital 30-Day Readmission Rates from Heart Failure            object\n",
       "Lower Readmission Estimate - Hospital 30-Day Readmission Rates from Heart Failure         object\n",
       "Upper Readmission Estimate - Hospital 30-Day Readmission Rates from Heart Failure         object\n",
       "Number of Patients - Hospital 30-Day Readmission Rates from Heart Failure                 object\n",
       "Footnote - Hospital 30-Day Readmission Rates from Heart Failure                           object\n",
       "Hospital 30-Day Readmission Rates from Pneumonia                                          object\n",
       "Comparison to U.S. Rate - Hospital 30-Day Readmission Rates from Pneumonia                object\n",
       "Lower Readmission Estimate - Hospital 30-Day Readmission Rates from Pneumonia             object\n",
       "Upper Readmission Estimate - Hospital 30-Day Readmission Rates from Pneumonia             object\n",
       "Number of Patients - Hospital 30-Day Readmission Rates from Pneumonia                     object\n",
       "Footnote - Hospital 30-Day Readmission Rates from Pneumonia                               object\n",
       "dtype: object"
      ]
     },
     "execution_count": 32,
     "metadata": {},
     "output_type": "execute_result"
    }
   ],
   "source": [
    "df.dtypes #全部是object类型, Pandas主要有以下几种dtype：\n",
    "#object--字符串类型; int--整型; float--浮点数类型; datetime--时间类型; bool--布尔类型"
   ]
  },
  {
   "cell_type": "code",
   "execution_count": 199,
   "metadata": {
    "scrolled": true
   },
   "outputs": [
    {
     "data": {
      "text/plain": [
       "Index(['Provider Number', 'Hospital Name', 'Address 1', 'Address 2',\n",
       "       'Address 3', 'City', 'State', 'ZIP Code', 'County Name', 'Phone Number',\n",
       "       'Hospital 30-Day Death (Mortality) Rates from Heart Attack',\n",
       "       'Comparison to U.S. Rate - Hospital 30-Day Death (Mortality) Rates from Heart Attack',\n",
       "       'Lower Mortality Estimate - Hospital 30-Day Death (Mortality) Rates from Heart Attack',\n",
       "       'Upper Mortality Estimate - Hospital 30-Day Death (Mortality) Rates from Heart Attack',\n",
       "       'Number of Patients - Hospital 30-Day Death (Mortality) Rates from Heart Attack'],\n",
       "      dtype='object')"
      ]
     },
     "execution_count": 199,
     "metadata": {},
     "output_type": "execute_result"
    }
   ],
   "source": [
    "df.columns[:15]"
   ]
  },
  {
   "cell_type": "code",
   "execution_count": 201,
   "metadata": {},
   "outputs": [
    {
     "data": {
      "text/plain": [
       "['Provider Number',\n",
       " 'Hospital Name',\n",
       " 'Address 1',\n",
       " 'Address 2',\n",
       " 'Address 3',\n",
       " 'City',\n",
       " 'State',\n",
       " 'ZIP Code',\n",
       " 'County Name',\n",
       " 'Phone Number',\n",
       " 'Hospital 30-Day Death (Mortality) Rates from Heart Attack',\n",
       " 'Comparison to U.S. Rate - Hospital 30-Day Death (Mortality) Rates from Heart Attack',\n",
       " 'Lower Mortality Estimate - Hospital 30-Day Death (Mortality) Rates from Heart Attack',\n",
       " 'Upper Mortality Estimate - Hospital 30-Day Death (Mortality) Rates from Heart Attack',\n",
       " 'Number of Patients - Hospital 30-Day Death (Mortality) Rates from Heart Attack']"
      ]
     },
     "execution_count": 201,
     "metadata": {},
     "output_type": "execute_result"
    }
   ],
   "source": [
    "# 使用tolist()函数将列名转换为list格式\n",
    "\n",
    "df.columns.tolist()[:15]"
   ]
  },
  {
   "cell_type": "code",
   "execution_count": 33,
   "metadata": {
    "collapsed": true
   },
   "outputs": [],
   "source": [
    "# 更改变量数据类型\n",
    "\n",
    "index1 = list(df.columns)[10::2]\n",
    "index2=list(df.columns)[13::6]\n",
    "\n",
    "for i in index1:\n",
    "    df.loc[:,i]=df.loc[:,i].astype(float)\n",
    "    \n",
    "for i in index2:\n",
    "    df.loc[:,i]=df.loc[:,i].astype(float)"
   ]
  },
  {
   "cell_type": "code",
   "execution_count": 34,
   "metadata": {
    "scrolled": false
   },
   "outputs": [
    {
     "data": {
      "text/plain": [
       "Provider Number                                                                           object\n",
       "Hospital Name                                                                             object\n",
       "Address 1                                                                                 object\n",
       "Address 2                                                                                float64\n",
       "Address 3                                                                                float64\n",
       "City                                                                                      object\n",
       "State                                                                                     object\n",
       "ZIP Code                                                                                   int64\n",
       "County Name                                                                               object\n",
       "Phone Number                                                                               int64\n",
       "Hospital 30-Day Death (Mortality) Rates from Heart Attack                                float64\n",
       "Comparison to U.S. Rate - Hospital 30-Day Death (Mortality) Rates from Heart Attack       object\n",
       "Lower Mortality Estimate - Hospital 30-Day Death (Mortality) Rates from Heart Attack     float64\n",
       "Upper Mortality Estimate - Hospital 30-Day Death (Mortality) Rates from Heart Attack     float64\n",
       "Number of Patients - Hospital 30-Day Death (Mortality) Rates from Heart Attack           float64\n",
       "Footnote - Hospital 30-Day Death (Mortality) Rates from Heart Attack                      object\n",
       "Hospital 30-Day Death (Mortality) Rates from Heart Failure                               float64\n",
       "Comparison to U.S. Rate - Hospital 30-Day Death (Mortality) Rates from Heart Failure      object\n",
       "Lower Mortality Estimate - Hospital 30-Day Death (Mortality) Rates from Heart Failure    float64\n",
       "Upper Mortality Estimate - Hospital 30-Day Death (Mortality) Rates from Heart Failure    float64\n",
       "Number of Patients - Hospital 30-Day Death (Mortality) Rates from Heart Failure          float64\n",
       "Footnote - Hospital 30-Day Death (Mortality) Rates from Heart Failure                     object\n",
       "Hospital 30-Day Death (Mortality) Rates from Pneumonia                                   float64\n",
       "Comparison to U.S. Rate - Hospital 30-Day Death (Mortality) Rates from Pneumonia          object\n",
       "Lower Mortality Estimate - Hospital 30-Day Death (Mortality) Rates from Pneumonia        float64\n",
       "Upper Mortality Estimate - Hospital 30-Day Death (Mortality) Rates from Pneumonia        float64\n",
       "Number of Patients - Hospital 30-Day Death (Mortality) Rates from Pneumonia              float64\n",
       "Footnote - Hospital 30-Day Death (Mortality) Rates from Pneumonia                         object\n",
       "Hospital 30-Day Readmission Rates from Heart Attack                                      float64\n",
       "Comparison to U.S. Rate - Hospital 30-Day Readmission Rates from Heart Attack             object\n",
       "Lower Readmission Estimate - Hospital 30-Day Readmission Rates from Heart Attack         float64\n",
       "Upper Readmission Estimate - Hospital 30-Day Readmission Rates from Heart Attack         float64\n",
       "Number of Patients - Hospital 30-Day Readmission Rates from Heart Attack                 float64\n",
       "Footnote - Hospital 30-Day Readmission Rates from Heart Attack                            object\n",
       "Hospital 30-Day Readmission Rates from Heart Failure                                     float64\n",
       "Comparison to U.S. Rate - Hospital 30-Day Readmission Rates from Heart Failure            object\n",
       "Lower Readmission Estimate - Hospital 30-Day Readmission Rates from Heart Failure        float64\n",
       "Upper Readmission Estimate - Hospital 30-Day Readmission Rates from Heart Failure        float64\n",
       "Number of Patients - Hospital 30-Day Readmission Rates from Heart Failure                float64\n",
       "Footnote - Hospital 30-Day Readmission Rates from Heart Failure                           object\n",
       "Hospital 30-Day Readmission Rates from Pneumonia                                         float64\n",
       "Comparison to U.S. Rate - Hospital 30-Day Readmission Rates from Pneumonia                object\n",
       "Lower Readmission Estimate - Hospital 30-Day Readmission Rates from Pneumonia            float64\n",
       "Upper Readmission Estimate - Hospital 30-Day Readmission Rates from Pneumonia            float64\n",
       "Number of Patients - Hospital 30-Day Readmission Rates from Pneumonia                    float64\n",
       "Footnote - Hospital 30-Day Readmission Rates from Pneumonia                               object\n",
       "dtype: object"
      ]
     },
     "execution_count": 34,
     "metadata": {},
     "output_type": "execute_result"
    }
   ],
   "source": [
    "df.dtypes"
   ]
  },
  {
   "cell_type": "code",
   "execution_count": 35,
   "metadata": {
    "scrolled": true
   },
   "outputs": [
    {
     "data": {
      "text/plain": [
       "array(['AL', 'AK', 'AZ', 'AR', 'CA', 'CO', 'CT', 'DE', 'DC', 'FL', 'GA',\n",
       "       'HI', 'ID', 'IL', 'IN', 'IA', 'KS', 'KY', 'LA', 'ME', 'MD', 'MA',\n",
       "       'MI', 'MN', 'MS', 'MO', 'MT', 'NE', 'NV', 'NH', 'NJ', 'NM', 'NY',\n",
       "       'NC', 'ND', 'OH', 'OK', 'OR', 'PA', 'PR', 'RI', 'SC', 'SD', 'TN',\n",
       "       'TX', 'UT', 'VT', 'VI', 'VA', 'WA', 'WV', 'WI', 'WY', 'GU'], dtype=object)"
      ]
     },
     "execution_count": 35,
     "metadata": {},
     "output_type": "execute_result"
    }
   ],
   "source": [
    "df.iloc[:,6].unique()"
   ]
  },
  {
   "cell_type": "markdown",
   "metadata": {},
   "source": [
    "### Part 1: Plot the 30-day mortality rates for heart attack\n",
    "\n",
    "plot默认生成是曲线图，你可以通过kind参数生成其他的图形，可选的值为：line, bar, barh, kde, density, scatter。"
   ]
  },
  {
   "cell_type": "code",
   "execution_count": 36,
   "metadata": {},
   "outputs": [
    {
     "data": {
      "image/png": "[encoded data removed]",
      "text/plain": [
       "<matplotlib.figure.Figure at 0x1dd9551f5c0>"
      ]
     },
     "metadata": {},
     "output_type": "display_data"
    }
   ],
   "source": [
    "df.iloc[:,10].hist(color='green', bins=60, ec='black')\n",
    "plt.show()"
   ]
  },
  {
   "cell_type": "code",
   "execution_count": 556,
   "metadata": {},
   "outputs": [
    {
     "data": {
      "text/plain": [
       "<matplotlib.axes._subplots.AxesSubplot at 0x1dd99cf0cc0>"
      ]
     },
     "execution_count": 556,
     "metadata": {},
     "output_type": "execute_result"
    },
    {
     "data": {
      "image/png": "[encoded data removed]",
      "text/plain": [
       "<matplotlib.figure.Figure at 0x1dda6f45f98>"
      ]
     },
     "metadata": {},
     "output_type": "display_data"
    }
   ],
   "source": [
    "df.iloc[:,[12,13]].plot(color=['pink','gray'])\n",
    "plt.show()"
   ]
  },
  {
   "cell_type": "code",
   "execution_count": 562,
   "metadata": {},
   "outputs": [
    {
     "data": {
      "text/plain": [
       "<matplotlib.axes._subplots.AxesSubplot at 0x1ddb9880fd0>"
      ]
     },
     "execution_count": 562,
     "metadata": {},
     "output_type": "execute_result"
    },
    {
     "data": {
      "text/plain": [
       "<matplotlib.text.Text at 0x1ddb8aa0c50>"
      ]
     },
     "execution_count": 562,
     "metadata": {},
     "output_type": "execute_result"
    },
    {
     "data": {
      "image/png": "[encoded data removed]",
      "text/plain": [
       "<matplotlib.figure.Figure at 0x1ddbbe45550>"
      ]
     },
     "metadata": {},
     "output_type": "display_data"
    }
   ],
   "source": [
    "df.iloc[:,14].hist()\n",
    "plt.title('Number of Patients\\nHospital 30-Day Death (Mortality) Rates from Heart Attack')\n",
    "plt.show()"
   ]
  },
  {
   "cell_type": "markdown",
   "metadata": {},
   "source": [
    "### Part 2-Finding the best hospital in a state\n",
    "\n",
    "Write a function called best that take two arguments: the 2-character abbreviated name of a state and an outcome name. The function reads the outcome-of-care-measures.csv file and returns a character vector with the name of the hospital that has the best (i.e. lowest) 30-day mortality for the specified outcome in that state. The hospital name is the name provided in the Hospital.Name variable. The outcomes can be one of “heart attack”, “heart failure”, or “pneumonia”. Hospitals that do not have data on a particular outcome should be excluded from the set of hospitals when deciding the rankings.\n",
    "\n",
    "Handling ties. If there is a tie for the best hospital for a given outcome, then the hospital names should be sorted in alphabetical order and the first hospital in that set should be chosen (i.e. if hospitals “b”, “c”, and “f” are tied for best, then hospital “b” should be returned).\n",
    "\n",
    "The function should check the validity of its arguments. If an invalid state value is passed to best, the function should throw an error via the stop function with the exact message “invalid state”. If an invalid outcome value is passed to best, the function should throw an error via the stop function with the exact message “invalid outcome”.\n",
    "\n",
    "Here is some sample output from the function.\n",
    "```r\n",
    "> source(\"best.R\")\n",
    "> best(\"TX\", \"heart attack\")\n",
    "[1] \"CYPRESS FAIRBANKS MEDICAL CENTER\"\n",
    "> best(\"TX\", \"heart failure\")\n",
    "[1] \"FORT DUNCAN MEDICAL CENTER\"\n",
    "> best(\"MD\", \"heart attack\")\n",
    "[1] \"JOHNS HOPKINS HOSPITAL, THE\"\n",
    "> best(\"MD\", \"pneumonia\")\n",
    "[1] \"GREATER BALTIMORE MEDICAL CENTER\"\n",
    "```"
   ]
  },
  {
   "cell_type": "code",
   "execution_count": 184,
   "metadata": {
    "collapsed": true
   },
   "outputs": [],
   "source": [
    "def best(state, outcome):    \n",
    "    newstate = df.iloc[:,6].unique()\n",
    "    newoutcome = ['heart attack','heart failure','pneumonia']\n",
    "    \n",
    "    if outcome == 'heart attack':col = 10\n",
    "    if outcome == 'heart failure': col = 16\n",
    "    if outcome == 'pneumonia':col = 22  \n",
    "        \n",
    "    if state in newstate:\n",
    "        if outcome in newoutcome:\n",
    "            newdf = df[df.State == state][[:,[1,col]]]\n",
    "            idmin = newdf.iloc[:,col].idxmin() # 先清理变量格式，若数据格式有问题，会导致大小排序错误，比如9.7比10.5大\n",
    "            return(newdf.loc[idmin, 'Hospital Name'])\n",
    "        else:\n",
    "            print('invalid outcome')\n",
    "    else:\n",
    "        print('invalid state')"
   ]
  },
  {
   "cell_type": "code",
   "execution_count": 185,
   "metadata": {},
   "outputs": [
    {
     "data": {
      "text/plain": [
       "'MUSC MEDICAL CENTER'"
      ]
     },
     "execution_count": 185,
     "metadata": {},
     "output_type": "execute_result"
    }
   ],
   "source": [
    "best('SC','heart attack')"
   ]
  },
  {
   "cell_type": "code",
   "execution_count": 186,
   "metadata": {},
   "outputs": [
    {
     "name": "stdout",
     "output_type": "stream",
     "text": [
      "invalid state\n"
     ]
    }
   ],
   "source": [
    "best('XX','heart attack')"
   ]
  },
  {
   "cell_type": "code",
   "execution_count": 187,
   "metadata": {},
   "outputs": [
    {
     "name": "stdout",
     "output_type": "stream",
     "text": [
      "invalid outcome\n"
     ]
    }
   ],
   "source": [
    "best('SC','heart attakk')"
   ]
  },
  {
   "cell_type": "code",
   "execution_count": 188,
   "metadata": {},
   "outputs": [
    {
     "data": {
      "text/plain": [
       "'MAIMONIDES MEDICAL CENTER'"
      ]
     },
     "execution_count": 188,
     "metadata": {},
     "output_type": "execute_result"
    }
   ],
   "source": [
    "best('NY', \"pneumonia\")"
   ]
  },
  {
   "cell_type": "code",
   "execution_count": 189,
   "metadata": {},
   "outputs": [
    {
     "data": {
      "text/plain": [
       "'CYPRESS FAIRBANKS MEDICAL CENTER'"
      ]
     },
     "execution_count": 189,
     "metadata": {},
     "output_type": "execute_result"
    }
   ],
   "source": [
    "best(\"TX\", \"heart attack\")"
   ]
  },
  {
   "cell_type": "code",
   "execution_count": 190,
   "metadata": {},
   "outputs": [
    {
     "data": {
      "text/plain": [
       "'FORT DUNCAN MEDICAL CENTER'"
      ]
     },
     "execution_count": 190,
     "metadata": {},
     "output_type": "execute_result"
    }
   ],
   "source": [
    "best(\"TX\", \"heart failure\")"
   ]
  },
  {
   "cell_type": "code",
   "execution_count": 191,
   "metadata": {},
   "outputs": [
    {
     "data": {
      "text/plain": [
       "'JOHNS HOPKINS HOSPITAL, THE'"
      ]
     },
     "execution_count": 191,
     "metadata": {},
     "output_type": "execute_result"
    }
   ],
   "source": [
    "best(\"MD\", \"heart attack\")"
   ]
  },
  {
   "cell_type": "code",
   "execution_count": 192,
   "metadata": {
    "scrolled": true
   },
   "outputs": [
    {
     "data": {
      "text/plain": [
       "'GREATER BALTIMORE MEDICAL CENTER'"
      ]
     },
     "execution_count": 192,
     "metadata": {},
     "output_type": "execute_result"
    }
   ],
   "source": [
    "best(\"MD\", \"pneumonia\")"
   ]
  },
  {
   "cell_type": "markdown",
   "metadata": {},
   "source": [
    "### Part 3-Ranking hospitals by outcome in a state\n",
    "\n",
    "Write a function called rankhospital that takes three arguments: the 2-character abbreviated name of a state (state), an outcome (outcome), and the ranking of a hospital in that state for that outcome (num). The function reads the outcome-of-care-measures.csv file and returns a character vector with the name of the hospital that has the ranking specified by the num argument. For example, the call\n",
    "```r\n",
    "> rankhospital(\"MD\", \"heart failure\", 5)\n",
    "```\n",
    "would return a character vector containing the name of the hospital with the 5th lowest 30-day death rate for heart failure. The num argument can take values “best”, “worst”, or an integer indicating the ranking (smaller numbers are better). If the number given by num is larger than the number of hospitals in that state, then the function should return NA. Hospitals that do not have data on a particular outcome should be excluded from the set of hospitals when deciding the rankings.\n",
    "\n",
    "Handling ties. It may occur that multiple hospitals have the same 30-day mortality rate for a given cause of death. In those cases ties should be broken by using the hospital name. For example, in Texas (“TX”), the hospitals with lowest 30-day mortality rate for heart failure are shown here.\n",
    "```r\n",
    "> head(texas)\n",
    "                         Hospital.Name Rate Rank\n",
    "3935       FORT DUNCAN MEDICAL CENTER  8.1   1\n",
    "4085  TOMBALL REGIONAL MEDICAL CENTER  8.5   2\n",
    "4103 CYPRESS FAIRBANKS MEDICAL CENTER  8.7   3\n",
    "3954           DETAR HOSPITAL NAVARRO  8.7   4\n",
    "4010           METHODIST HOSPITAL,THE  8.8   5\n",
    "3962  MISSION REGIONAL MEDICAL CENTER  8.8   6\n",
    "```\n",
    "Note that Cypress Fairbanks Medical Center and Detar Hospital Navarro both have the same 30-day rate (8.7). However, because Cypress comes before Detar alphabetically, Cypress is ranked number 3 in this scheme and Detar is ranked number 4. One can use the order function to sort multiple vectors in this manner (i.e. where one vector is used to break ties in another vector).\n",
    "\n",
    "The function should check the validity of its arguments. If an invalid state value is passed to rankhospital, the function should throw an error with the exact message “invalid state”. If an invalid outcome value is passed to rankhospital, the function should throw an error via the stop function with the exact message “invalid outcome”.\n",
    "\n",
    "Here is some sample output from the function.\n",
    "```r\n",
    "> source(\"rankhospital.R\")\n",
    "> rankhospital(\"TX\", \"heart failure\", 4)\n",
    "[1] \"DETAR HOSPITAL NAVARRO\"\n",
    "> rankhospital(\"MD\", \"heart attack\", \"worst\")\n",
    "[1] \"HARFORD MEMORIAL HOSPITAL\"\n",
    "> rankhospital(\"MN\", \"heart attack\", 5000)\n",
    "[1] NA\n",
    "```"
   ]
  },
  {
   "cell_type": "code",
   "execution_count": 307,
   "metadata": {},
   "outputs": [
    {
     "data": {
      "text/plain": [
       "0"
      ]
     },
     "execution_count": 307,
     "metadata": {},
     "output_type": "execute_result"
    }
   ],
   "source": [
    "sum(df.iloc[:,1].isnull())"
   ]
  },
  {
   "cell_type": "code",
   "execution_count": 310,
   "metadata": {},
   "outputs": [],
   "source": [
    "def rankhospital(state, outcome, number='best'):    \n",
    "    newstate = df.iloc[:,6].unique()\n",
    "    newoutcome = ['heart attack','heart failure','pneumonia']\n",
    "\n",
    "    if outcome == 'heart attack':col = 10\n",
    "    if outcome == 'heart failure': col = 16\n",
    "    if outcome == 'pneumonia':col = 22  \n",
    "    \n",
    "    if state in newstate:\n",
    "        if outcome in newoutcome:\n",
    "            newdf = df[df.State == state][[df.columns[col],'Hospital Name']]\n",
    "            rankdf = newdf.sort_values([df.columns[col],'Hospital Name']).dropna(axis=0, how='any')\n",
    "            \n",
    "            if number=='worst': number=-1\n",
    "            elif number=='best': number=0\n",
    "            elif (number < len(rankdf)) and (number>0): number=int(number)-1      \n",
    "            else: return(np.nan)\n",
    "            \n",
    "            return(rankdf.iloc[number, 1])\n",
    "        else:\n",
    "            print('invalid outcome')\n",
    "    else:\n",
    "        print('invalid state')"
   ]
  },
  {
   "cell_type": "code",
   "execution_count": 311,
   "metadata": {
    "scrolled": false
   },
   "outputs": [
    {
     "data": {
      "text/plain": [
       "'HARFORD MEMORIAL HOSPITAL'"
      ]
     },
     "execution_count": 311,
     "metadata": {},
     "output_type": "execute_result"
    }
   ],
   "source": [
    "rankhospital(\"MD\", \"heart attack\", \"worst\") \n",
    "\n",
    "# 正确答案是\"HARFORD MEMORIAL HOSPITAL\",之前一直出错，是因为没有去处Nan值，因为排序的话nan值自动排在最后面"
   ]
  },
  {
   "cell_type": "code",
   "execution_count": 312,
   "metadata": {},
   "outputs": [
    {
     "data": {
      "text/plain": [
       "'WAYNE MEMORIAL HOSPITAL'"
      ]
     },
     "execution_count": 312,
     "metadata": {},
     "output_type": "execute_result"
    }
   ],
   "source": [
    "rankhospital(\"NC\", \"heart attack\", \"worst\")"
   ]
  },
  {
   "cell_type": "code",
   "execution_count": 298,
   "metadata": {},
   "outputs": [
    {
     "data": {
      "text/plain": [
       "'DETAR HOSPITAL NAVARRO'"
      ]
     },
     "execution_count": 298,
     "metadata": {},
     "output_type": "execute_result"
    }
   ],
   "source": [
    "rankhospital(\"TX\", \"heart failure\", 4)"
   ]
  },
  {
   "cell_type": "code",
   "execution_count": 299,
   "metadata": {},
   "outputs": [
    {
     "data": {
      "text/plain": [
       "nan"
      ]
     },
     "execution_count": 299,
     "metadata": {},
     "output_type": "execute_result"
    }
   ],
   "source": [
    "rankhospital(\"MN\", \"heart attack\", 5000)"
   ]
  },
  {
   "cell_type": "code",
   "execution_count": 313,
   "metadata": {},
   "outputs": [
    {
     "data": {
      "text/plain": [
       "'SETON SMITHVILLE REGIONAL HOSPITAL'"
      ]
     },
     "execution_count": 313,
     "metadata": {},
     "output_type": "execute_result"
    }
   ],
   "source": [
    "rankhospital(\"TX\", \"pneumonia\", 10)"
   ]
  },
  {
   "cell_type": "code",
   "execution_count": 314,
   "metadata": {},
   "outputs": [
    {
     "data": {
      "text/plain": [
       "'BELLEVUE HOSPITAL CENTER'"
      ]
     },
     "execution_count": 314,
     "metadata": {},
     "output_type": "execute_result"
    }
   ],
   "source": [
    "rankhospital(\"NY\", \"heart attack\", 7)"
   ]
  },
  {
   "cell_type": "code",
   "execution_count": 315,
   "metadata": {},
   "outputs": [
    {
     "data": {
      "text/plain": [
       "'YAKIMA VALLEY MEMORIAL HOSPITAL'"
      ]
     },
     "execution_count": 315,
     "metadata": {},
     "output_type": "execute_result"
    }
   ],
   "source": [
    "rankhospital(\"WA\", \"heart attack\", 7)"
   ]
  },
  {
   "cell_type": "code",
   "execution_count": 316,
   "metadata": {},
   "outputs": [
    {
     "name": "stdout",
     "output_type": "stream",
     "text": [
      "invalid state\n"
     ]
    }
   ],
   "source": [
    "rankhospital(\"XX\", \"heart attack\", 7)"
   ]
  },
  {
   "cell_type": "markdown",
   "metadata": {},
   "source": [
    "### Part 4-Ranking hospitals in all states\n",
    "\n",
    "Write a function called rankall that takes two arguments: an outcome name (outcome) and a hospital ranking (num). The function reads the outcome-of-care-measures.csv file and returns a 2-column data frame containing the hospital in each state that has the ranking specified in num. For example the function call rankall(“heart attack”, “best”) would return a data frame containing the names of the hospitals that are the best in their respective states for 30-day heart attack death rates. The function should return a value for every state (some may be NA). The first column in the data frame is named hospital, which contains the hospital name, and the second column is named state, which contains the 2-character abbreviation for the state name. Hospitals that do not have data on a particular outcome should be excluded from the set of hospitals when deciding the rankings.\n",
    "\n",
    "Handling ties. The rankall function should handle ties in the 30-day mortality rates in the same way that the rankhospital function handles ties.\n",
    "\n",
    "NOTE: For the purpose of this part of the assignment (and for efficiency), your function should NOT call the rankhospital function from the previous section.\n",
    "\n",
    "The function should check the validity of its arguments. If an invalid outcome value is passed to rankall, the function should throw an error via the stop function with the exact message “invalid outcome”. The num variable can take values “best”, “worst”, or an integer indicating the ranking (smaller numbers are better). If the number given by num is larger than the number of hospitals in that state, then the function should return NA.\n",
    "\n",
    "Here is some sample output from the function.\n",
    "```r\n",
    "\n",
    "> head(rankall(\"heart attack\", 20), 10)\n",
    "                              hospital state\n",
    "AK                                <NA>   AK\n",
    "AL      D W MCMILLAN MEMORIAL HOSPITAL   AL\n",
    "AR   ARKANSAS METHODIST MEDICAL CENTER   AR\n",
    "AZ JOHN C LINCOLN DEER VALLEY HOSPITAL   AZ\n",
    "CA               SHERMAN OAKS HOSPITAL   CA\n",
    "CO            SKY RIDGE MEDICAL CENTER   CO\n",
    "CT             MIDSTATE MEDICAL CENTER   CT\n",
    "DC                                <NA>   DC\n",
    "DE                                <NA>   DE\n",
    "FL      SOUTH FLORIDA BAPTIST HOSPITAL   FL\n",
    "> tail(rankall(\"pneumonia\", \"worst\"), 3)\n",
    "                                     hospital state\n",
    "WI MAYO CLINIC HEALTH SYSTEM - NORTHLAND, INC   WI\n",
    "WV                     PLATEAU MEDICAL CENTER   WV\n",
    "WY           NORTH BIG HORN HOSPITAL DISTRICT   WY\n",
    "> tail(rankall(\"heart failure\"), 10)\n",
    "                                                            hospital state\n",
    "TN                         WELLMONT HAWKINS COUNTY MEMORIAL HOSPITAL   TN\n",
    "TX                                        FORT DUNCAN MEDICAL CENTER   TX\n",
    "UT VA SALT LAKE CITY HEALTHCARE - GEORGE E. WAHLEN VA MEDICAL CENTER   UT\n",
    "VA                                          SENTARA POTOMAC HOSPITAL   VA\n",
    "VI                            GOV JUAN F LUIS HOSPITAL & MEDICAL CTR   VI\n",
    "VT                                              SPRINGFIELD HOSPITAL   VT\n",
    "WA                                         HARBORVIEW MEDICAL CENTER   WA\n",
    "WI                                    AURORA ST LUKES MEDICAL CENTER   WI\n",
    "WV                                         FAIRMONT GENERAL HOSPITAL   WV\n",
    "WY                                        CHEYENNE VA MEDICAL CENTER   WY\n",
    "```"
   ]
  },
  {
   "cell_type": "code",
   "execution_count": 475,
   "metadata": {},
   "outputs": [
    {
     "data": {
      "text/plain": [
       "<function list.sort>"
      ]
     },
     "execution_count": 475,
     "metadata": {},
     "output_type": "execute_result"
    }
   ],
   "source": [
    "df.iloc[:,6].(unique().tolist().sort)"
   ]
  },
  {
   "cell_type": "code",
   "execution_count": 539,
   "metadata": {
    "collapsed": true
   },
   "outputs": [],
   "source": [
    "def rankall(outcome, number='best'):    \n",
    "    newstate = sorted(df.iloc[:,6].unique().tolist())\n",
    "    newoutcome = ['heart attack','heart failure','pneumonia']\n",
    "    hospital = [] \n",
    "    \n",
    "    if outcome in newoutcome:        \n",
    "        for state in newstate: \n",
    "            if outcome == 'heart attack':col = 10\n",
    "            elif outcome == 'heart failure': col = 16\n",
    "            elif outcome == 'pneumonia':col = 22  \n",
    "            newdf = df[df.State == state][[df.columns[col],'Hospital Name']]\n",
    "            rankdf = newdf.sort_values([df.columns[col],'Hospital Name']).dropna() # axis=0,how='any'is the default\n",
    "            if number=='worst': hospital.append(rankdf.iloc[-1, 1])\n",
    "            elif number=='best': hospital.append(rankdf.iloc[0, 1])\n",
    "            elif (number < len(rankdf)) and (number>0): hospital.append(rankdf.iloc[int(number)-1, 1])    \n",
    "            else: hospital.append('NaN')  \n",
    "        return(pd.DataFrame({'Hospital': hospital, 'State': newstate}))  \n",
    "    else:\n",
    "        print('invalid outcome')  \n",
    "# 之前试过几次总是出错，原因是在设置number时，会超出rankdf的长度，比如AK，一共有17行数据，但想选每个州的排名为20的医院名，就会返回nan值\n",
    "# 所以在number的条件判断句中，需要将else语句设为在hospital填充nan值。"
   ]
  },
  {
   "cell_type": "code",
   "execution_count": 540,
   "metadata": {
    "scrolled": true
   },
   "outputs": [
    {
     "data": {
      "text/html": [
       "<div>\n",
       "<style>\n",
       "    .dataframe thead tr:only-child th {\n",
       "        text-align: right;\n",
       "    }\n",
       "\n",
       "    .dataframe thead th {\n",
       "        text-align: left;\n",
       "    }\n",
       "\n",
       "    .dataframe tbody tr th {\n",
       "        vertical-align: top;\n",
       "    }\n",
       "</style>\n",
       "<table border=\"1\" class=\"dataframe\">\n",
       "  <thead>\n",
       "    <tr style=\"text-align: right;\">\n",
       "      <th></th>\n",
       "      <th>Hospital</th>\n",
       "      <th>State</th>\n",
       "    </tr>\n",
       "  </thead>\n",
       "  <tbody>\n",
       "    <tr>\n",
       "      <th>0</th>\n",
       "      <td>NaN</td>\n",
       "      <td>AK</td>\n",
       "    </tr>\n",
       "    <tr>\n",
       "      <th>1</th>\n",
       "      <td>D W MCMILLAN MEMORIAL HOSPITAL</td>\n",
       "      <td>AL</td>\n",
       "    </tr>\n",
       "    <tr>\n",
       "      <th>2</th>\n",
       "      <td>ARKANSAS METHODIST MEDICAL CENTER</td>\n",
       "      <td>AR</td>\n",
       "    </tr>\n",
       "    <tr>\n",
       "      <th>3</th>\n",
       "      <td>JOHN C LINCOLN DEER VALLEY HOSPITAL</td>\n",
       "      <td>AZ</td>\n",
       "    </tr>\n",
       "    <tr>\n",
       "      <th>4</th>\n",
       "      <td>SHERMAN OAKS HOSPITAL</td>\n",
       "      <td>CA</td>\n",
       "    </tr>\n",
       "    <tr>\n",
       "      <th>5</th>\n",
       "      <td>SKY RIDGE MEDICAL CENTER</td>\n",
       "      <td>CO</td>\n",
       "    </tr>\n",
       "    <tr>\n",
       "      <th>6</th>\n",
       "      <td>MIDSTATE MEDICAL CENTER</td>\n",
       "      <td>CT</td>\n",
       "    </tr>\n",
       "    <tr>\n",
       "      <th>7</th>\n",
       "      <td>NaN</td>\n",
       "      <td>DC</td>\n",
       "    </tr>\n",
       "    <tr>\n",
       "      <th>8</th>\n",
       "      <td>NaN</td>\n",
       "      <td>DE</td>\n",
       "    </tr>\n",
       "    <tr>\n",
       "      <th>9</th>\n",
       "      <td>SOUTH FLORIDA BAPTIST HOSPITAL</td>\n",
       "      <td>FL</td>\n",
       "    </tr>\n",
       "  </tbody>\n",
       "</table>\n",
       "</div>"
      ],
      "text/plain": [
       "                              Hospital State\n",
       "0                                  NaN    AK\n",
       "1       D W MCMILLAN MEMORIAL HOSPITAL    AL\n",
       "2    ARKANSAS METHODIST MEDICAL CENTER    AR\n",
       "3  JOHN C LINCOLN DEER VALLEY HOSPITAL    AZ\n",
       "4                SHERMAN OAKS HOSPITAL    CA\n",
       "5             SKY RIDGE MEDICAL CENTER    CO\n",
       "6              MIDSTATE MEDICAL CENTER    CT\n",
       "7                                  NaN    DC\n",
       "8                                  NaN    DE\n",
       "9       SOUTH FLORIDA BAPTIST HOSPITAL    FL"
      ]
     },
     "execution_count": 540,
     "metadata": {},
     "output_type": "execute_result"
    }
   ],
   "source": [
    "rankall(\"heart attack\",20).head(10)"
   ]
  },
  {
   "cell_type": "code",
   "execution_count": 541,
   "metadata": {
    "scrolled": false
   },
   "outputs": [
    {
     "name": "stdout",
     "output_type": "stream",
     "text": [
      "invalid outcome\n"
     ]
    }
   ],
   "source": [
    "rankall(\"heart attackkk\",10)"
   ]
  },
  {
   "cell_type": "code",
   "execution_count": 542,
   "metadata": {},
   "outputs": [
    {
     "data": {
      "text/html": [
       "<div>\n",
       "<style>\n",
       "    .dataframe thead tr:only-child th {\n",
       "        text-align: right;\n",
       "    }\n",
       "\n",
       "    .dataframe thead th {\n",
       "        text-align: left;\n",
       "    }\n",
       "\n",
       "    .dataframe tbody tr th {\n",
       "        vertical-align: top;\n",
       "    }\n",
       "</style>\n",
       "<table border=\"1\" class=\"dataframe\">\n",
       "  <thead>\n",
       "    <tr style=\"text-align: right;\">\n",
       "      <th></th>\n",
       "      <th>Hospital</th>\n",
       "      <th>State</th>\n",
       "    </tr>\n",
       "  </thead>\n",
       "  <tbody>\n",
       "    <tr>\n",
       "      <th>49</th>\n",
       "      <td>PORTER HOSPITAL, INC</td>\n",
       "      <td>VT</td>\n",
       "    </tr>\n",
       "    <tr>\n",
       "      <th>50</th>\n",
       "      <td>OLYMPIC MEDICAL CENTER</td>\n",
       "      <td>WA</td>\n",
       "    </tr>\n",
       "    <tr>\n",
       "      <th>51</th>\n",
       "      <td>MAYO CLINIC HEALTH SYSTEM - NORTHLAND, INC</td>\n",
       "      <td>WI</td>\n",
       "    </tr>\n",
       "    <tr>\n",
       "      <th>52</th>\n",
       "      <td>PLATEAU MEDICAL CENTER</td>\n",
       "      <td>WV</td>\n",
       "    </tr>\n",
       "    <tr>\n",
       "      <th>53</th>\n",
       "      <td>NORTH BIG HORN HOSPITAL DISTRICT</td>\n",
       "      <td>WY</td>\n",
       "    </tr>\n",
       "  </tbody>\n",
       "</table>\n",
       "</div>"
      ],
      "text/plain": [
       "                                      Hospital State\n",
       "49                        PORTER HOSPITAL, INC    VT\n",
       "50                      OLYMPIC MEDICAL CENTER    WA\n",
       "51  MAYO CLINIC HEALTH SYSTEM - NORTHLAND, INC    WI\n",
       "52                      PLATEAU MEDICAL CENTER    WV\n",
       "53            NORTH BIG HORN HOSPITAL DISTRICT    WY"
      ]
     },
     "execution_count": 542,
     "metadata": {},
     "output_type": "execute_result"
    }
   ],
   "source": [
    "rankall(\"pneumonia\", \"worst\").tail(5) # 选择worst也是出错，还是忘记去掉nan值，排序之后nan值会排在最后面"
   ]
  },
  {
   "cell_type": "code",
   "execution_count": 543,
   "metadata": {},
   "outputs": [
    {
     "data": {
      "text/html": [
       "<div>\n",
       "<style>\n",
       "    .dataframe thead tr:only-child th {\n",
       "        text-align: right;\n",
       "    }\n",
       "\n",
       "    .dataframe thead th {\n",
       "        text-align: left;\n",
       "    }\n",
       "\n",
       "    .dataframe tbody tr th {\n",
       "        vertical-align: top;\n",
       "    }\n",
       "</style>\n",
       "<table border=\"1\" class=\"dataframe\">\n",
       "  <thead>\n",
       "    <tr style=\"text-align: right;\">\n",
       "      <th></th>\n",
       "      <th>Hospital</th>\n",
       "      <th>State</th>\n",
       "    </tr>\n",
       "  </thead>\n",
       "  <tbody>\n",
       "    <tr>\n",
       "      <th>44</th>\n",
       "      <td>WELLMONT HAWKINS COUNTY MEMORIAL HOSPITAL</td>\n",
       "      <td>TN</td>\n",
       "    </tr>\n",
       "    <tr>\n",
       "      <th>45</th>\n",
       "      <td>FORT DUNCAN MEDICAL CENTER</td>\n",
       "      <td>TX</td>\n",
       "    </tr>\n",
       "    <tr>\n",
       "      <th>46</th>\n",
       "      <td>VA SALT LAKE CITY HEALTHCARE - GEORGE E. WAHLE...</td>\n",
       "      <td>UT</td>\n",
       "    </tr>\n",
       "    <tr>\n",
       "      <th>47</th>\n",
       "      <td>SENTARA POTOMAC HOSPITAL</td>\n",
       "      <td>VA</td>\n",
       "    </tr>\n",
       "    <tr>\n",
       "      <th>48</th>\n",
       "      <td>GOV JUAN F LUIS HOSPITAL &amp; MEDICAL CTR</td>\n",
       "      <td>VI</td>\n",
       "    </tr>\n",
       "    <tr>\n",
       "      <th>49</th>\n",
       "      <td>SPRINGFIELD HOSPITAL</td>\n",
       "      <td>VT</td>\n",
       "    </tr>\n",
       "    <tr>\n",
       "      <th>50</th>\n",
       "      <td>HARBORVIEW MEDICAL CENTER</td>\n",
       "      <td>WA</td>\n",
       "    </tr>\n",
       "    <tr>\n",
       "      <th>51</th>\n",
       "      <td>AURORA ST LUKES MEDICAL CENTER</td>\n",
       "      <td>WI</td>\n",
       "    </tr>\n",
       "    <tr>\n",
       "      <th>52</th>\n",
       "      <td>FAIRMONT GENERAL HOSPITAL</td>\n",
       "      <td>WV</td>\n",
       "    </tr>\n",
       "    <tr>\n",
       "      <th>53</th>\n",
       "      <td>CHEYENNE VA MEDICAL CENTER</td>\n",
       "      <td>WY</td>\n",
       "    </tr>\n",
       "  </tbody>\n",
       "</table>\n",
       "</div>"
      ],
      "text/plain": [
       "                                             Hospital State\n",
       "44          WELLMONT HAWKINS COUNTY MEMORIAL HOSPITAL    TN\n",
       "45                         FORT DUNCAN MEDICAL CENTER    TX\n",
       "46  VA SALT LAKE CITY HEALTHCARE - GEORGE E. WAHLE...    UT\n",
       "47                           SENTARA POTOMAC HOSPITAL    VA\n",
       "48             GOV JUAN F LUIS HOSPITAL & MEDICAL CTR    VI\n",
       "49                               SPRINGFIELD HOSPITAL    VT\n",
       "50                          HARBORVIEW MEDICAL CENTER    WA\n",
       "51                     AURORA ST LUKES MEDICAL CENTER    WI\n",
       "52                          FAIRMONT GENERAL HOSPITAL    WV\n",
       "53                         CHEYENNE VA MEDICAL CENTER    WY"
      ]
     },
     "execution_count": 543,
     "metadata": {},
     "output_type": "execute_result"
    }
   ],
   "source": [
    "rankall(\"heart failure\").tail(10)"
   ]
  },
  {
   "cell_type": "code",
   "execution_count": null,
   "metadata": {
    "collapsed": true
   },
   "outputs": [],
   "source": []
  },
  {
   "cell_type": "code",
   "execution_count": null,
   "metadata": {
    "collapsed": true
   },
   "outputs": [],
   "source": []
  },
  {
   "cell_type": "markdown",
   "metadata": {},
   "source": [
    "## Notes"
   ]
  },
  {
   "cell_type": "markdown",
   "metadata": {},
   "source": [
    "### while-if-break clause"
   ]
  },
  {
   "cell_type": "code",
   "execution_count": 195,
   "metadata": {},
   "outputs": [
    {
     "name": "stdout",
     "output_type": "stream",
     "text": [
      "a number is:5\n",
      "this is 5\n"
     ]
    }
   ],
   "source": [
    "# learn the break function\n",
    "\n",
    "number=int(input('a number is:'))\n",
    "while number>0:\n",
    "    if number==5:\n",
    "        print('this is 5')\n",
    "        break\n",
    "    break"
   ]
  },
  {
   "cell_type": "markdown",
   "metadata": {},
   "source": [
    "### Error:local variable 'val' referenced before assignment"
   ]
  },
  {
   "cell_type": "code",
   "execution_count": 553,
   "metadata": {},
   "outputs": [
    {
     "name": "stdout",
     "output_type": "stream",
     "text": [
      "OOOOps~\n"
     ]
    },
    {
     "ename": "UnboundLocalError",
     "evalue": "local variable 'val' referenced before assignment",
     "output_type": "error",
     "traceback": [
      "\u001b[1;31m---------------------------------------------------------------------------\u001b[0m",
      "\u001b[1;31mUnboundLocalError\u001b[0m                         Traceback (most recent call last)",
      "\u001b[1;32m<ipython-input-553-d25c029e864e>\u001b[0m in \u001b[0;36m<module>\u001b[1;34m()\u001b[0m\n\u001b[0;32m      7\u001b[0m     \u001b[1;32mreturn\u001b[0m \u001b[0mval\u001b[0m\u001b[1;33m\u001b[0m\u001b[0m\n\u001b[0;32m      8\u001b[0m \u001b[1;33m\u001b[0m\u001b[0m\n\u001b[1;32m----> 9\u001b[1;33m \u001b[0mtest\u001b[0m\u001b[1;33m(\u001b[0m\u001b[1;36m0\u001b[0m\u001b[1;33m)\u001b[0m\u001b[1;33m\u001b[0m\u001b[0m\n\u001b[0m",
      "\u001b[1;32m<ipython-input-553-d25c029e864e>\u001b[0m in \u001b[0;36mtest\u001b[1;34m(flag)\u001b[0m\n\u001b[0;32m      5\u001b[0m     \u001b[1;32melse\u001b[0m\u001b[1;33m:\u001b[0m\u001b[1;33m\u001b[0m\u001b[0m\n\u001b[0;32m      6\u001b[0m         \u001b[0mprint\u001b[0m\u001b[1;33m(\u001b[0m\u001b[1;34m'OOOOps~'\u001b[0m\u001b[1;33m)\u001b[0m\u001b[1;33m\u001b[0m\u001b[0m\n\u001b[1;32m----> 7\u001b[1;33m     \u001b[1;32mreturn\u001b[0m \u001b[0mval\u001b[0m\u001b[1;33m\u001b[0m\u001b[0m\n\u001b[0m\u001b[0;32m      8\u001b[0m \u001b[1;33m\u001b[0m\u001b[0m\n\u001b[0;32m      9\u001b[0m \u001b[0mtest\u001b[0m\u001b[1;33m(\u001b[0m\u001b[1;36m0\u001b[0m\u001b[1;33m)\u001b[0m\u001b[1;33m\u001b[0m\u001b[0m\n",
      "\u001b[1;31mUnboundLocalError\u001b[0m: local variable 'val' referenced before assignment"
     ]
    }
   ],
   "source": [
    "val=9\n",
    "def test(flag):  \n",
    "    if flag:  \n",
    "        val = 1  \n",
    "    else:  \n",
    "        print('OOOOps~')  \n",
    "    return val \n",
    "\n",
    "test(0)\n"
   ]
  },
  {
   "cell_type": "code",
   "execution_count": 555,
   "metadata": {},
   "outputs": [
    {
     "name": "stdout",
     "output_type": "stream",
     "text": [
      "Bingo~~~~\n"
     ]
    },
    {
     "data": {
      "text/plain": [
       "9"
      ]
     },
     "execution_count": 555,
     "metadata": {},
     "output_type": "execute_result"
    }
   ],
   "source": [
    "# 解决方法：用global关键字来进行说明该变量是全局变量\n",
    "val=9\n",
    "def test(flag):\n",
    "    global val\n",
    "    if flag: \n",
    "        val = 1 \n",
    "    else: \n",
    "        print('Bingo~~~~') \n",
    "    return val\n",
    "\n",
    "test(0)"
   ]
  },
  {
   "cell_type": "code",
   "execution_count": 563,
   "metadata": {},
   "outputs": [
    {
     "data": {
      "text/html": [
       "<div>\n",
       "<style>\n",
       "    .dataframe thead tr:only-child th {\n",
       "        text-align: right;\n",
       "    }\n",
       "\n",
       "    .dataframe thead th {\n",
       "        text-align: left;\n",
       "    }\n",
       "\n",
       "    .dataframe tbody tr th {\n",
       "        vertical-align: top;\n",
       "    }\n",
       "</style>\n",
       "<table border=\"1\" class=\"dataframe\">\n",
       "  <thead>\n",
       "    <tr style=\"text-align: right;\">\n",
       "      <th></th>\n",
       "      <th>col1</th>\n",
       "      <th>col2</th>\n",
       "      <th>col3</th>\n",
       "      <th>col4</th>\n",
       "    </tr>\n",
       "  </thead>\n",
       "  <tbody>\n",
       "    <tr>\n",
       "      <th>0</th>\n",
       "      <td>1</td>\n",
       "      <td>1</td>\n",
       "      <td>1</td>\n",
       "      <td>1</td>\n",
       "    </tr>\n",
       "    <tr>\n",
       "      <th>1</th>\n",
       "      <td>2</td>\n",
       "      <td>2</td>\n",
       "      <td>2</td>\n",
       "      <td>2</td>\n",
       "    </tr>\n",
       "    <tr>\n",
       "      <th>2</th>\n",
       "      <td>3</td>\n",
       "      <td>3</td>\n",
       "      <td>3</td>\n",
       "      <td>3</td>\n",
       "    </tr>\n",
       "  </tbody>\n",
       "</table>\n",
       "</div>"
      ],
      "text/plain": [
       "   col1  col2  col3  col4\n",
       "0     1     1     1     1\n",
       "1     2     2     2     2\n",
       "2     3     3     3     3"
      ]
     },
     "execution_count": 563,
     "metadata": {},
     "output_type": "execute_result"
    }
   ],
   "source": [
    "df1 = pd.DataFrame([[1, 1, 1, 1], [2, 2, 2, 2], [3, 3, 3, 3]], columns=[\"col1\", \"col2\", \"col3\", \"col4\"])\n",
    "df1"
   ]
  },
  {
   "cell_type": "code",
   "execution_count": 565,
   "metadata": {},
   "outputs": [
    {
     "data": {
      "text/plain": [
       "0    1.0\n",
       "1    2.0\n",
       "2    3.0\n",
       "dtype: float64"
      ]
     },
     "execution_count": 565,
     "metadata": {},
     "output_type": "execute_result"
    }
   ],
   "source": [
    "df1.mean(axis=1)"
   ]
  },
  {
   "cell_type": "code",
   "execution_count": 566,
   "metadata": {},
   "outputs": [
    {
     "data": {
      "text/html": [
       "<div>\n",
       "<style>\n",
       "    .dataframe thead tr:only-child th {\n",
       "        text-align: right;\n",
       "    }\n",
       "\n",
       "    .dataframe thead th {\n",
       "        text-align: left;\n",
       "    }\n",
       "\n",
       "    .dataframe tbody tr th {\n",
       "        vertical-align: top;\n",
       "    }\n",
       "</style>\n",
       "<table border=\"1\" class=\"dataframe\">\n",
       "  <thead>\n",
       "    <tr style=\"text-align: right;\">\n",
       "      <th></th>\n",
       "      <th>col1</th>\n",
       "      <th>col2</th>\n",
       "      <th>col3</th>\n",
       "    </tr>\n",
       "  </thead>\n",
       "  <tbody>\n",
       "    <tr>\n",
       "      <th>0</th>\n",
       "      <td>1</td>\n",
       "      <td>1</td>\n",
       "      <td>1</td>\n",
       "    </tr>\n",
       "    <tr>\n",
       "      <th>1</th>\n",
       "      <td>2</td>\n",
       "      <td>2</td>\n",
       "      <td>2</td>\n",
       "    </tr>\n",
       "    <tr>\n",
       "      <th>2</th>\n",
       "      <td>3</td>\n",
       "      <td>3</td>\n",
       "      <td>3</td>\n",
       "    </tr>\n",
       "  </tbody>\n",
       "</table>\n",
       "</div>"
      ],
      "text/plain": [
       "   col1  col2  col3\n",
       "0     1     1     1\n",
       "1     2     2     2\n",
       "2     3     3     3"
      ]
     },
     "execution_count": 566,
     "metadata": {},
     "output_type": "execute_result"
    }
   ],
   "source": [
    "df1.drop('col4', axis=1)\n",
    "\n",
    "#df1.drop('col4', axis=0) gives the error"
   ]
  },
  {
   "cell_type": "code",
   "execution_count": null,
   "metadata": {
    "collapsed": true
   },
   "outputs": [],
   "source": []
  }
 ],
 "metadata": {
  "kernelspec": {
   "display_name": "Python 3",
   "language": "python",
   "name": "python3"
  },
  "language_info": {
   "codemirror_mode": {
    "name": "ipython",
    "version": 3
   },
   "file_extension": ".py",
   "mimetype": "text/x-python",
   "name": "python",
   "nbconvert_exporter": "python",
   "pygments_lexer": "ipython3",
   "version": "3.6.1"
  },
  "toc": {
   "colors": {
    "hover_highlight": "#DAA520",
    "navigate_num": "#000000",
    "navigate_text": "#333333",
    "running_highlight": "#FF0000",
    "selected_highlight": "#FFD700",
    "sidebar_border": "#EEEEEE",
    "wrapper_background": "#FFFFFF"
   },
   "moveMenuLeft": true,
   "nav_menu": {
    "height": "191px",
    "width": "252px"
   },
   "navigate_menu": true,
   "number_sections": true,
   "sideBar": true,
   "threshold": 4,
   "toc_cell": false,
   "toc_position": {
    "height": "532px",
    "left": "0px",
    "right": "1154px",
    "top": "106px",
    "width": "212px"
   },
   "toc_section_display": "block",
   "toc_window_display": true,
   "widenNotebook": false
  }
 },
 "nbformat": 4,
 "nbformat_minor": 2
}
