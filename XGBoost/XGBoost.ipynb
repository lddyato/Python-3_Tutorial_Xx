{
 "cells": [
  {
   "cell_type": "markdown",
   "metadata": {},
   "source": [
    "# Parameter Tuning in XGBoost\n",
    "There are some official documents you can go through to better understand the parameters and codes:\n",
    "* [XGBoost Parameters(offical guide)](http://xgboost.readthedocs.io/en/latest/parameter.html#general-parameters)\n",
    "* [Python API Reference (offical guide)](http://xgboost.readthedocs.io/en/latest/python/python_api.html)\n",
    "* [XGBoost Demo Codes (xgboost GitHub repository)](https://github.com/dmlc/xgboost/tree/master/demo/guide-python)\n",
    "* [Parameter Tuning in XGBoost (Analytics Vidhya)](https://www.analyticsvidhya.com/blog/2016/03/complete-guide-parameter-tuning-xgboost-with-codes-python/)\n",
    "* [Learn More About the Machine Learning Algorithm(My website)](http://github.com/lddyato)"
   ]
  },
  {
   "cell_type": "markdown",
   "metadata": {},
   "source": [
    "## Import Modules"
   ]
  },
  {
   "cell_type": "code",
   "execution_count": 93,
   "metadata": {
    "collapsed": true
   },
   "outputs": [],
   "source": [
    "import pandas as pd\n",
    "import numpy as np\n",
    "\n",
    "from sklearn.metrics import accuracy_score, roc_auc_score\n",
    "from sklearn.model_selection import GridSearchCV\n",
    "\n",
    "import matplotlib.pyplot as plt\n",
    "% matplotlib inline\n",
    "from matplotlib.pylab import rcParams\n",
    "rcParams['figure.figsize']=12, 7"
   ]
  },
  {
   "cell_type": "code",
   "execution_count": 2,
   "metadata": {},
   "outputs": [
    {
     "name": "stderr",
     "output_type": "stream",
     "text": [
      "D:\\Anaconda3\\lib\\site-packages\\sklearn\\cross_validation.py:41: DeprecationWarning: This module was deprecated in version 0.18 in favor of the model_selection module into which all the refactored classes and functions are moved. Also note that the interface of the new CV iterators are different from that of this module. This module will be removed in 0.20.\n",
      "  \"This module will be removed in 0.20.\", DeprecationWarning)\n"
     ]
    }
   ],
   "source": [
    "import xgboost as xgb\n",
    "from xgboost.sklearn import XGBClassifier"
   ]
  },
  {
   "cell_type": "markdown",
   "metadata": {},
   "source": [
    "**Two forms of XGBoost**\n",
    "\n",
    "* xgb – this is the direct xgboost library. I will use a specific function “cv” from this library\n",
    "* XGBClassifier – this is an sklearn wrapper for XGBoost. This allows us to use sklearn’s Grid Search with parallel processing in the same way we did for GBM\n",
    "\n",
    "Note that xgboost’s sklearn wrapper doesn’t have a “feature_importances” metric but a get_fscore() function which does the same job."
   ]
  },
  {
   "cell_type": "markdown",
   "metadata": {
    "collapsed": true
   },
   "source": [
    "## Data\n",
    "\n",
    "The data set is taken from Data Hackathon 3.x AV hackathon, same as that taken in the Ensemble Learning with Scikit-Learn. The details of the problem can be found on the <https://datahack.analyticsvidhya.com/contest/data-hackathon-3x/>.Due to the big size of the prepared data size, so the run time of the following algorithm takes more time."
   ]
  },
  {
   "cell_type": "code",
   "execution_count": 3,
   "metadata": {
    "collapsed": true
   },
   "outputs": [],
   "source": [
    "train = pd.read_csv('train_Hackathon.csv')\n",
    "test = pd.read_csv('test_Hackathon.csv')\n",
    "test.drop('Disbursed', axis=1, inplace=True)"
   ]
  },
  {
   "cell_type": "code",
   "execution_count": 4,
   "metadata": {
    "scrolled": true
   },
   "outputs": [
    {
     "data": {
      "text/plain": [
       "((87020, 51), (37717, 50))"
      ]
     },
     "execution_count": 4,
     "metadata": {},
     "output_type": "execute_result"
    }
   ],
   "source": [
    "train.shape, test.shape"
   ]
  },
  {
   "cell_type": "code",
   "execution_count": 5,
   "metadata": {},
   "outputs": [
    {
     "data": {
      "text/plain": [
       "Disbursed                     float64\n",
       "Existing_EMI                  float64\n",
       "ID                             object\n",
       "Loan_Amount_Applied           float64\n",
       "Loan_Tenure_Applied           float64\n",
       "Monthly_Income                  int64\n",
       "Var4                            int64\n",
       "Var5                            int64\n",
       "Age                             int64\n",
       "EMI_Loan_Submitted_Missing      int64\n",
       "dtype: object"
      ]
     },
     "execution_count": 5,
     "metadata": {},
     "output_type": "execute_result"
    }
   ],
   "source": [
    "train.dtypes[:10]"
   ]
  },
  {
   "cell_type": "code",
   "execution_count": 6,
   "metadata": {
    "scrolled": true
   },
   "outputs": [
    {
     "data": {
      "text/html": [
       "<div>\n",
       "<style>\n",
       "    .dataframe thead tr:only-child th {\n",
       "        text-align: right;\n",
       "    }\n",
       "\n",
       "    .dataframe thead th {\n",
       "        text-align: left;\n",
       "    }\n",
       "\n",
       "    .dataframe tbody tr th {\n",
       "        vertical-align: top;\n",
       "    }\n",
       "</style>\n",
       "<table border=\"1\" class=\"dataframe\">\n",
       "  <thead>\n",
       "    <tr style=\"text-align: right;\">\n",
       "      <th></th>\n",
       "      <th>Disbursed</th>\n",
       "      <th>Existing_EMI</th>\n",
       "      <th>ID</th>\n",
       "      <th>Loan_Amount_Applied</th>\n",
       "      <th>Loan_Tenure_Applied</th>\n",
       "      <th>Monthly_Income</th>\n",
       "      <th>Var4</th>\n",
       "      <th>Var5</th>\n",
       "      <th>Age</th>\n",
       "      <th>EMI_Loan_Submitted_Missing</th>\n",
       "      <th>...</th>\n",
       "      <th>Var2_2</th>\n",
       "      <th>Var2_3</th>\n",
       "      <th>Var2_4</th>\n",
       "      <th>Var2_5</th>\n",
       "      <th>Var2_6</th>\n",
       "      <th>Mobile_Verified_0</th>\n",
       "      <th>Mobile_Verified_1</th>\n",
       "      <th>Source_0</th>\n",
       "      <th>Source_1</th>\n",
       "      <th>Source_2</th>\n",
       "    </tr>\n",
       "  </thead>\n",
       "  <tbody>\n",
       "    <tr>\n",
       "      <th>0</th>\n",
       "      <td>0.0</td>\n",
       "      <td>0.0</td>\n",
       "      <td>ID000002C20</td>\n",
       "      <td>300000.0</td>\n",
       "      <td>5.0</td>\n",
       "      <td>20000</td>\n",
       "      <td>1</td>\n",
       "      <td>0</td>\n",
       "      <td>39</td>\n",
       "      <td>1</td>\n",
       "      <td>...</td>\n",
       "      <td>0</td>\n",
       "      <td>0</td>\n",
       "      <td>0</td>\n",
       "      <td>0</td>\n",
       "      <td>1</td>\n",
       "      <td>1</td>\n",
       "      <td>0</td>\n",
       "      <td>1</td>\n",
       "      <td>0</td>\n",
       "      <td>0</td>\n",
       "    </tr>\n",
       "    <tr>\n",
       "      <th>1</th>\n",
       "      <td>0.0</td>\n",
       "      <td>0.0</td>\n",
       "      <td>ID000004E40</td>\n",
       "      <td>200000.0</td>\n",
       "      <td>2.0</td>\n",
       "      <td>35000</td>\n",
       "      <td>3</td>\n",
       "      <td>13</td>\n",
       "      <td>32</td>\n",
       "      <td>0</td>\n",
       "      <td>...</td>\n",
       "      <td>0</td>\n",
       "      <td>0</td>\n",
       "      <td>0</td>\n",
       "      <td>0</td>\n",
       "      <td>1</td>\n",
       "      <td>0</td>\n",
       "      <td>1</td>\n",
       "      <td>1</td>\n",
       "      <td>0</td>\n",
       "      <td>0</td>\n",
       "    </tr>\n",
       "    <tr>\n",
       "      <th>2</th>\n",
       "      <td>0.0</td>\n",
       "      <td>0.0</td>\n",
       "      <td>ID000007H20</td>\n",
       "      <td>600000.0</td>\n",
       "      <td>4.0</td>\n",
       "      <td>22500</td>\n",
       "      <td>1</td>\n",
       "      <td>0</td>\n",
       "      <td>36</td>\n",
       "      <td>1</td>\n",
       "      <td>...</td>\n",
       "      <td>0</td>\n",
       "      <td>0</td>\n",
       "      <td>0</td>\n",
       "      <td>0</td>\n",
       "      <td>0</td>\n",
       "      <td>0</td>\n",
       "      <td>1</td>\n",
       "      <td>0</td>\n",
       "      <td>0</td>\n",
       "      <td>1</td>\n",
       "    </tr>\n",
       "    <tr>\n",
       "      <th>3</th>\n",
       "      <td>0.0</td>\n",
       "      <td>0.0</td>\n",
       "      <td>ID000008I30</td>\n",
       "      <td>1000000.0</td>\n",
       "      <td>5.0</td>\n",
       "      <td>35000</td>\n",
       "      <td>3</td>\n",
       "      <td>10</td>\n",
       "      <td>30</td>\n",
       "      <td>1</td>\n",
       "      <td>...</td>\n",
       "      <td>0</td>\n",
       "      <td>0</td>\n",
       "      <td>0</td>\n",
       "      <td>0</td>\n",
       "      <td>0</td>\n",
       "      <td>0</td>\n",
       "      <td>1</td>\n",
       "      <td>0</td>\n",
       "      <td>0</td>\n",
       "      <td>1</td>\n",
       "    </tr>\n",
       "    <tr>\n",
       "      <th>4</th>\n",
       "      <td>0.0</td>\n",
       "      <td>25000.0</td>\n",
       "      <td>ID000009J40</td>\n",
       "      <td>500000.0</td>\n",
       "      <td>2.0</td>\n",
       "      <td>100000</td>\n",
       "      <td>3</td>\n",
       "      <td>17</td>\n",
       "      <td>33</td>\n",
       "      <td>1</td>\n",
       "      <td>...</td>\n",
       "      <td>0</td>\n",
       "      <td>0</td>\n",
       "      <td>0</td>\n",
       "      <td>0</td>\n",
       "      <td>0</td>\n",
       "      <td>0</td>\n",
       "      <td>1</td>\n",
       "      <td>0</td>\n",
       "      <td>0</td>\n",
       "      <td>1</td>\n",
       "    </tr>\n",
       "  </tbody>\n",
       "</table>\n",
       "<p>5 rows × 51 columns</p>\n",
       "</div>"
      ],
      "text/plain": [
       "   Disbursed  Existing_EMI           ID  Loan_Amount_Applied  \\\n",
       "0        0.0           0.0  ID000002C20             300000.0   \n",
       "1        0.0           0.0  ID000004E40             200000.0   \n",
       "2        0.0           0.0  ID000007H20             600000.0   \n",
       "3        0.0           0.0  ID000008I30            1000000.0   \n",
       "4        0.0       25000.0  ID000009J40             500000.0   \n",
       "\n",
       "   Loan_Tenure_Applied  Monthly_Income  Var4  Var5  Age  \\\n",
       "0                  5.0           20000     1     0   39   \n",
       "1                  2.0           35000     3    13   32   \n",
       "2                  4.0           22500     1     0   36   \n",
       "3                  5.0           35000     3    10   30   \n",
       "4                  2.0          100000     3    17   33   \n",
       "\n",
       "   EMI_Loan_Submitted_Missing    ...     Var2_2  Var2_3  Var2_4  Var2_5  \\\n",
       "0                           1    ...          0       0       0       0   \n",
       "1                           0    ...          0       0       0       0   \n",
       "2                           1    ...          0       0       0       0   \n",
       "3                           1    ...          0       0       0       0   \n",
       "4                           1    ...          0       0       0       0   \n",
       "\n",
       "   Var2_6  Mobile_Verified_0  Mobile_Verified_1  Source_0  Source_1  Source_2  \n",
       "0       1                  1                  0         1         0         0  \n",
       "1       1                  0                  1         1         0         0  \n",
       "2       0                  0                  1         0         0         1  \n",
       "3       0                  0                  1         0         0         1  \n",
       "4       0                  0                  1         0         0         1  \n",
       "\n",
       "[5 rows x 51 columns]"
      ]
     },
     "execution_count": 6,
     "metadata": {},
     "output_type": "execute_result"
    }
   ],
   "source": [
    "train.head()"
   ]
  },
  {
   "cell_type": "code",
   "execution_count": 7,
   "metadata": {},
   "outputs": [
    {
     "data": {
      "text/plain": [
       "49"
      ]
     },
     "execution_count": 7,
     "metadata": {},
     "output_type": "execute_result"
    }
   ],
   "source": [
    "#Choose all predictors except target & IDcols\n",
    "predictors = [x for x in train.columns if x not in ['Disbursed', 'ID']]\n",
    "len(predictors)"
   ]
  },
  {
   "cell_type": "code",
   "execution_count": 8,
   "metadata": {},
   "outputs": [
    {
     "data": {
      "text/plain": [
       "['Existing_EMI',\n",
       " 'Loan_Amount_Applied',\n",
       " 'Loan_Tenure_Applied',\n",
       " 'Monthly_Income',\n",
       " 'Var4',\n",
       " 'Var5',\n",
       " 'Age',\n",
       " 'EMI_Loan_Submitted_Missing',\n",
       " 'Interest_Rate_Missing',\n",
       " 'Loan_Amount_Submitted_Missing']"
      ]
     },
     "execution_count": 8,
     "metadata": {},
     "output_type": "execute_result"
    }
   ],
   "source": [
    "predictors[:10]"
   ]
  },
  {
   "cell_type": "code",
   "execution_count": 11,
   "metadata": {},
   "outputs": [
    {
     "data": {
      "text/plain": [
       "((87020, 49), (37717, 49))"
      ]
     },
     "execution_count": 11,
     "metadata": {},
     "output_type": "execute_result"
    }
   ],
   "source": [
    "X = train[predictors]\n",
    "y = train['Disbursed']\n",
    "X_test = test[predictors]\n",
    "X.shape, X_test.shape"
   ]
  },
  {
   "cell_type": "code",
   "execution_count": 10,
   "metadata": {
    "scrolled": true
   },
   "outputs": [
    {
     "data": {
      "text/plain": [
       "0.0    85747\n",
       "1.0     1273\n",
       "Name: Disbursed, dtype: int64"
      ]
     },
     "execution_count": 10,
     "metadata": {},
     "output_type": "execute_result"
    }
   ],
   "source": [
    "y.value_counts() # imbalance class"
   ]
  },
  {
   "cell_type": "code",
   "execution_count": 96,
   "metadata": {},
   "outputs": [
    {
     "data": {
      "text/plain": [
       "Index(['Existing_EMI', 'ID', 'Loan_Amount_Applied', 'Loan_Tenure_Applied',\n",
       "       'Monthly_Income', 'Var4', 'Var5', 'Age', 'EMI_Loan_Submitted_Missing',\n",
       "       'Interest_Rate_Missing', 'Loan_Amount_Submitted_Missing',\n",
       "       'Loan_Tenure_Submitted_Missing', 'Processing_Fee_Missing',\n",
       "       'Device_Type_0', 'Device_Type_1', 'Filled_Form_0', 'Filled_Form_1',\n",
       "       'Gender_0', 'Gender_1', 'Var1_0', 'Var1_1', 'Var1_2', 'Var1_3',\n",
       "       'Var1_4', 'Var1_5', 'Var1_6', 'Var1_7', 'Var1_8', 'Var1_9', 'Var1_10',\n",
       "       'Var1_11', 'Var1_12', 'Var1_13', 'Var1_14', 'Var1_15', 'Var1_16',\n",
       "       'Var1_17', 'Var1_18', 'Var2_0', 'Var2_1', 'Var2_2', 'Var2_3', 'Var2_4',\n",
       "       'Var2_5', 'Var2_6', 'Mobile_Verified_0', 'Mobile_Verified_1',\n",
       "       'Source_0', 'Source_1', 'Source_2'],\n",
       "      dtype='object')"
      ]
     },
     "execution_count": 96,
     "metadata": {},
     "output_type": "execute_result"
    }
   ],
   "source": [
    "test.columns"
   ]
  },
  {
   "cell_type": "markdown",
   "metadata": {},
   "source": [
    "# Model Fit\n",
    "\n",
    "\n",
    "Cross-validation with given parameters:\n",
    "\n",
    "xgboost.cv(params, dtrain, num_boost_round=10, nfold=3, stratified=False, folds=None, metrics=(), obj=None, feval=None, maximize=False, early_stopping_rounds=None, fpreproc=None, as_pandas=True, verbose_eval=None, show_stdv=True, seed=0, callbacks=None, shuffle=True)\n"
   ]
  },
  {
   "cell_type": "markdown",
   "metadata": {},
   "source": [
    "## Baseline Model\n",
    "\n",
    "XGBClassifier(max_depth=3, learning_rate=0.1, n_estimators=100, silent=True, objective='binary:logistic', booster='gbtree', n_jobs=1, nthread=None, gamma=0, min_child_weight=1, max_delta_step=0, subsample=1, colsample_bytree=1, colsample_bylevel=1, reg_alpha=0, reg_lambda=1, scale_pos_weight=1, base_score=0.5, random_state=0, seed=None, missing=None, **kwargs)"
   ]
  },
  {
   "cell_type": "code",
   "execution_count": 12,
   "metadata": {
    "collapsed": true
   },
   "outputs": [],
   "source": [
    "xgtrain = xgb.DMatrix(X.values, label=y.values)\n",
    "xgtest = xgb.DMatrix(X_test.values)"
   ]
  },
  {
   "cell_type": "code",
   "execution_count": 14,
   "metadata": {
    "scrolled": false
   },
   "outputs": [
    {
     "name": "stdout",
     "output_type": "stream",
     "text": [
      "{'base_score': 0.5, 'colsample_bylevel': 1, 'colsample_bytree': 1, 'gamma': 0, 'learning_rate': 0.1, 'max_delta_step': 0, 'max_depth': 3, 'min_child_weight': 1, 'missing': None, 'n_estimators': 100, 'objective': 'binary:logistic', 'reg_alpha': 0, 'reg_lambda': 1, 'scale_pos_weight': 1, 'seed': 0, 'silent': 1, 'subsample': 1}\n"
     ]
    }
   ],
   "source": [
    "xgb0 = XGBClassifier()\n",
    "print(xgb0.get_xgb_params()) # if don't use the print function, the results are printed in horizontal form"
   ]
  },
  {
   "cell_type": "code",
   "execution_count": 17,
   "metadata": {},
   "outputs": [],
   "source": [
    "xgb0_param = xgb0.get_xgb_params()\n",
    "cv0 = xgb.cv(xgb0_param, xgtrain, num_boost_round=xgb0.get_params()['n_estimators'],nfold=5, \n",
    "             metrics='auc', early_stopping_rounds=50)"
   ]
  },
  {
   "cell_type": "code",
   "execution_count": 18,
   "metadata": {},
   "outputs": [
    {
     "data": {
      "text/plain": [
       "(100, 4)"
      ]
     },
     "execution_count": 18,
     "metadata": {},
     "output_type": "execute_result"
    }
   ],
   "source": [
    "cv0.shape"
   ]
  },
  {
   "cell_type": "code",
   "execution_count": 21,
   "metadata": {},
   "outputs": [
    {
     "name": "stdout",
     "output_type": "stream",
     "text": [
      "    test-auc-mean  test-auc-std  train-auc-mean  train-auc-std\n",
      "95       0.835062      0.015264        0.852424       0.003025\n",
      "96       0.835246      0.015304        0.852690       0.003003\n",
      "97       0.835467      0.015372        0.852986       0.003018\n",
      "98       0.835868      0.015325        0.853287       0.002992\n",
      "99       0.836094      0.015106        0.853650       0.003074\n"
     ]
    }
   ],
   "source": [
    "print(cv0.tail())"
   ]
  },
  {
   "cell_type": "code",
   "execution_count": 27,
   "metadata": {},
   "outputs": [
    {
     "data": {
      "text/plain": [
       "XGBClassifier(base_score=0.5, colsample_bylevel=1, colsample_bytree=1,\n",
       "       gamma=0, learning_rate=0.1, max_delta_step=0, max_depth=3,\n",
       "       min_child_weight=1, missing=None, n_estimators=100, nthread=-1,\n",
       "       objective='binary:logistic', reg_alpha=0, reg_lambda=1,\n",
       "       scale_pos_weight=1, seed=0, silent=True, subsample=1)"
      ]
     },
     "execution_count": 27,
     "metadata": {},
     "output_type": "execute_result"
    }
   ],
   "source": [
    "# fit the algorithem on the data\n",
    "xgb0.set_params(n_estimators=cv0.shape[0])\n",
    "xgb0.fit(X, y, eval_metric='auc')"
   ]
  },
  {
   "cell_type": "code",
   "execution_count": 23,
   "metadata": {},
   "outputs": [
    {
     "data": {
      "text/plain": [
       "0.98537117903930127"
      ]
     },
     "execution_count": 23,
     "metadata": {},
     "output_type": "execute_result"
    }
   ],
   "source": [
    "# print the model score\n",
    "xgb0.score(X,y)"
   ]
  },
  {
   "cell_type": "code",
   "execution_count": 28,
   "metadata": {},
   "outputs": [
    {
     "data": {
      "text/plain": [
       "(0.98537117903930127, 0.85105818940795808)"
      ]
     },
     "execution_count": 28,
     "metadata": {},
     "output_type": "execute_result"
    }
   ],
   "source": [
    "# predict on the training data\n",
    "y_pred0 = xgb0.predict(X)\n",
    "y_predprob0 = xgb0.predict_proba(X)[:,1] #Predict class probabilities for X. predict_proba返回的是一个两列的矩阵，矩阵的每一行代表的是对一个事件的预测结果，第一列代表该事件不会发生的概率，第二列代表的是该事件会发生的概率。而这里需要的是第二列的数据\n",
    "accuracy_score(y.values, y_pred0), roc_auc_score(y, y_predprob0)"
   ]
  },
  {
   "cell_type": "code",
   "execution_count": 29,
   "metadata": {},
   "outputs": [
    {
     "data": {
      "text/plain": [
       "Index(['Existing_EMI', 'Loan_Amount_Applied', 'Loan_Tenure_Applied',\n",
       "       'Monthly_Income', 'Var4', 'Var5', 'Age', 'EMI_Loan_Submitted_Missing',\n",
       "       'Interest_Rate_Missing', 'Loan_Amount_Submitted_Missing',\n",
       "       'Loan_Tenure_Submitted_Missing', 'Processing_Fee_Missing',\n",
       "       'Device_Type_0', 'Device_Type_1', 'Filled_Form_0', 'Filled_Form_1',\n",
       "       'Gender_0', 'Gender_1', 'Var1_0', 'Var1_1', 'Var1_2', 'Var1_3',\n",
       "       'Var1_4', 'Var1_5', 'Var1_6', 'Var1_7', 'Var1_8', 'Var1_9', 'Var1_10',\n",
       "       'Var1_11', 'Var1_12', 'Var1_13', 'Var1_14', 'Var1_15', 'Var1_16',\n",
       "       'Var1_17', 'Var1_18', 'Var2_0', 'Var2_1', 'Var2_2', 'Var2_3', 'Var2_4',\n",
       "       'Var2_5', 'Var2_6', 'Mobile_Verified_0', 'Mobile_Verified_1',\n",
       "       'Source_0', 'Source_1', 'Source_2'],\n",
       "      dtype='object')"
      ]
     },
     "execution_count": 29,
     "metadata": {},
     "output_type": "execute_result"
    }
   ],
   "source": [
    "# predict on the testing data, but i dont have the test['Disbursed'] data\n",
    "X_test.columns"
   ]
  },
  {
   "cell_type": "markdown",
   "metadata": {},
   "source": [
    "## Parameter Tuning\n",
    "\n",
    "The various steps to be performed are:\n",
    "\n",
    "1. Choose a relatively **high learning rate**. Generally a learning rate of 0.1 works but somewhere between 0.05 to 0.3 should work for different problems. Determine **the optimum number of trees for this learning rate**. XGBoost has a very useful function called as “cv” which performs cross-validation at each boosting iteration and thus returns the optimum number of trees required.\n",
    "2. **Tune tree-specific parameters** ( max_depth, min_child_weight, gamma, subsample, colsample_bytree) for decided learning rate and number of trees. Note that we can choose different parameters to define a tree and I’ll take up an example here.\n",
    "3. Tune **regularization parameters** (lambda, alpha) for xgboost which can help reduce model complexity and enhance performance.\n",
    "4. **Lower the learning rate** and decide the optimal parameters ."
   ]
  },
  {
   "cell_type": "markdown",
   "metadata": {},
   "source": [
    "### Fix learning rate and number of estimators for tuning tree-based parameters\n",
    "In order to decide on boosting parameters, we need to set some initial values of other parameters. Lets take the following values:\n",
    "1. max_depth = 5 : This should be between 3-10. I’ve started with 5 but you can choose a different number as well. 4-6 can be good starting points.\n",
    "2. min_child_weight = 1 : A smaller value is chosen because it is a highly imbalanced class problem and leaf nodes can have smaller size groups.\n",
    "3. gamma = 0 : A smaller value like 0.1-0.2 can also be chosen for starting. This will anyways be tuned later.\n",
    "4. subsample, colsample_bytree = 0.8 : This is a commonly used used start value. Typical values range between 0.5-0.9.\n",
    "5. scale_pos_weight = 1: Because of high class imbalance.\n",
    "\n",
    "Please note that all the above are just initial estimates and will be tuned later. Lets take the default learning rate of 0.1 here and check the optimum number of trees using cv function of xgboost."
   ]
  },
  {
   "cell_type": "code",
   "execution_count": 31,
   "metadata": {},
   "outputs": [
    {
     "data": {
      "text/plain": [
       "(112, 4)"
      ]
     },
     "execution_count": 31,
     "metadata": {},
     "output_type": "execute_result"
    }
   ],
   "source": [
    "xgb1 = XGBClassifier(learning_rate=0.1, n_estimators=1000, max_depth=5, min_child_weight=1, gamma=0,\n",
    "                    subsample=0.8, colsample_bytree=0.8, objective='binary:logistic', scale_pos_weight=1, seed=27)\n",
    "xgb1_param=xgb1.get_xgb_params()\n",
    "cv1 = xgb.cv(xgb1_param, xgtrain, num_boost_round=xgb1.get_params()['n_estimators'], nfold=5,\n",
    "            metrics='auc', early_stopping_rounds=50)\n",
    "cv1.shape"
   ]
  },
  {
   "cell_type": "code",
   "execution_count": 32,
   "metadata": {
    "scrolled": true
   },
   "outputs": [
    {
     "name": "stdout",
     "output_type": "stream",
     "text": [
      "     test-auc-mean  test-auc-std  train-auc-mean  train-auc-std\n",
      "107       0.843866      0.013639        0.896949       0.002964\n",
      "108       0.844019      0.013593        0.897561       0.002757\n",
      "109       0.844056      0.013481        0.897946       0.002723\n",
      "110       0.844289      0.013494        0.898501       0.003077\n",
      "111       0.844590      0.013855        0.899015       0.003036\n"
     ]
    }
   ],
   "source": [
    "print(cv1.tail())"
   ]
  },
  {
   "cell_type": "code",
   "execution_count": 33,
   "metadata": {},
   "outputs": [
    {
     "data": {
      "text/plain": [
       "XGBClassifier(base_score=0.5, colsample_bylevel=1, colsample_bytree=0.8,\n",
       "       gamma=0, learning_rate=0.1, max_delta_step=0, max_depth=5,\n",
       "       min_child_weight=1, missing=None, n_estimators=112, nthread=-1,\n",
       "       objective='binary:logistic', reg_alpha=0, reg_lambda=1,\n",
       "       scale_pos_weight=1, seed=27, silent=True, subsample=0.8)"
      ]
     },
     "execution_count": 33,
     "metadata": {},
     "output_type": "execute_result"
    }
   ],
   "source": [
    "# fit the algorithem on the data\n",
    "xgb1.set_params(n_estimators=cv1.shape[0])\n",
    "xgb1.fit(X, y, eval_metric='auc')"
   ]
  },
  {
   "cell_type": "code",
   "execution_count": 34,
   "metadata": {},
   "outputs": [
    {
     "data": {
      "text/plain": [
       "(0.98539416226154908, 0.98539416226154908, 0.89168128665404356)"
      ]
     },
     "execution_count": 34,
     "metadata": {},
     "output_type": "execute_result"
    }
   ],
   "source": [
    "# predict on the training data\n",
    "y_pred1 = xgb1.predict(X)\n",
    "y_predprob1 = xgb1.predict_proba(X)[:,1] #Predict class probabilities for X. predict_proba返回的是一个两列的矩阵，矩阵的每一行代表的是对一个事件的预测结果，第一列代表该事件不会发生的概率，第二列代表的是该事件会发生的概率。而这里需要的是第二列的数据\n",
    "xgb1.score(X,y), accuracy_score(y.values, y_pred1), roc_auc_score(y, y_predprob1)"
   ]
  },
  {
   "cell_type": "markdown",
   "metadata": {},
   "source": [
    "As you can see that here we got 112 as the optimal estimators for 0.1 learning rate. Note that this value might be too high for you depending on the power of your system. In that case you can increase the learning rate and re-run the command to get the reduced number of estimators."
   ]
  },
  {
   "cell_type": "markdown",
   "metadata": {},
   "source": [
    "### Tune max_depth and min_child_weight"
   ]
  },
  {
   "cell_type": "code",
   "execution_count": 38,
   "metadata": {
    "collapsed": true
   },
   "outputs": [],
   "source": [
    "param_test1 = {\n",
    " 'max_depth':np.arange(3,10,2),\n",
    " 'min_child_weight':np.arange(1,6,2)\n",
    "}"
   ]
  },
  {
   "cell_type": "code",
   "execution_count": 39,
   "metadata": {},
   "outputs": [
    {
     "data": {
      "text/plain": [
       "GridSearchCV(cv=5, error_score='raise',\n",
       "       estimator=XGBClassifier(base_score=0.5, colsample_bylevel=1, colsample_bytree=0.8,\n",
       "       gamma=0, learning_rate=0.1, max_delta_step=0, max_depth=5,\n",
       "       min_child_weight=1, missing=None, n_estimators=112, nthread=-1,\n",
       "       objective='binary:logistic', reg_alpha=0, reg_lambda=1,\n",
       "       scale_pos_weight=1, seed=27, silent=True, subsample=0.8),\n",
       "       fit_params=None, iid=False, n_jobs=1,\n",
       "       param_grid={'max_depth': array([3, 5, 7, 9]), 'min_child_weight': array([1, 3, 5])},\n",
       "       pre_dispatch='2*n_jobs', refit=True, return_train_score=True,\n",
       "       scoring='roc_auc', verbose=0)"
      ]
     },
     "execution_count": 39,
     "metadata": {},
     "output_type": "execute_result"
    }
   ],
   "source": [
    "gsearch1 = GridSearchCV(estimator = XGBClassifier( learning_rate =0.1, n_estimators=112, max_depth=5,\n",
    "                                                  min_child_weight=1, gamma=0, subsample=0.8, colsample_bytree=0.8,\n",
    "                                                  objective= 'binary:logistic', scale_pos_weight=1, seed=27), \n",
    "                        param_grid = param_test1, scoring='roc_auc', iid=False, cv=5)\n",
    "gsearch1.fit(X,y)"
   ]
  },
  {
   "cell_type": "code",
   "execution_count": 44,
   "metadata": {},
   "outputs": [
    {
     "data": {
      "text/plain": [
       "({'max_depth': 5, 'min_child_weight': 3}, 0.84043759313403665)"
      ]
     },
     "execution_count": 44,
     "metadata": {},
     "output_type": "execute_result"
    }
   ],
   "source": [
    "gsearch1.best_params_, gsearch1.best_score_ # gsearch1.cv_results_, "
   ]
  },
  {
   "cell_type": "markdown",
   "metadata": {},
   "source": [
    "Here, we have run 12 combinations with wider intervals between values. The ideal values are 5 for max_depth and 3 for min_child_weight. Lets go one step deeper and look for optimum values. We’ll search for values 1 above and below the optimum values because we took an interval of two."
   ]
  },
  {
   "cell_type": "code",
   "execution_count": 45,
   "metadata": {},
   "outputs": [
    {
     "data": {
      "text/plain": [
       "({'max_depth': 6, 'min_child_weight': 4}, 0.84078281084749462)"
      ]
     },
     "execution_count": 45,
     "metadata": {},
     "output_type": "execute_result"
    }
   ],
   "source": [
    "param_test2 = {\n",
    " 'max_depth':[4,5,6],\n",
    " 'min_child_weight':[2,3,4]\n",
    "}\n",
    "gsearch2 = GridSearchCV(estimator = XGBClassifier( learning_rate=0.1, n_estimators=112, max_depth=5,\n",
    "                                                  min_child_weight=2, gamma=0, subsample=0.8, colsample_bytree=0.8,\n",
    "                                                  objective= 'binary:logistic', nthread=4, scale_pos_weight=1,seed=27), \n",
    "                        param_grid = param_test2, scoring='roc_auc',iid=False, cv=5)\n",
    "gsearch2.fit(X,y)\n",
    "gsearch2.grid_scores_, gsearch2.best_params_, gsearch2.best_score_"
   ]
  },
  {
   "cell_type": "code",
   "execution_count": 48,
   "metadata": {},
   "outputs": [
    {
     "name": "stderr",
     "output_type": "stream",
     "text": [
      "D:\\Anaconda3\\lib\\site-packages\\sklearn\\model_selection\\_search.py:747: DeprecationWarning: The grid_scores_ attribute was deprecated in version 0.18 in favor of the more elaborate cv_results_ attribute. The grid_scores_ attribute will not be available from 0.20\n",
      "  DeprecationWarning)\n"
     ]
    },
    {
     "data": {
      "text/plain": [
       "[mean: 0.83547, std: 0.00982, params: {'max_depth': 3, 'min_child_weight': 1},\n",
       " mean: 0.83507, std: 0.01024, params: {'max_depth': 3, 'min_child_weight': 3},\n",
       " mean: 0.83552, std: 0.00893, params: {'max_depth': 3, 'min_child_weight': 5},\n",
       " mean: 0.84038, std: 0.00744, params: {'max_depth': 5, 'min_child_weight': 1},\n",
       " mean: 0.84044, std: 0.00656, params: {'max_depth': 5, 'min_child_weight': 3},\n",
       " mean: 0.83953, std: 0.00632, params: {'max_depth': 5, 'min_child_weight': 5},\n",
       " mean: 0.83900, std: 0.00614, params: {'max_depth': 7, 'min_child_weight': 1},\n",
       " mean: 0.83734, std: 0.00620, params: {'max_depth': 7, 'min_child_weight': 3},\n",
       " mean: 0.83670, std: 0.00471, params: {'max_depth': 7, 'min_child_weight': 5},\n",
       " mean: 0.83307, std: 0.00638, params: {'max_depth': 9, 'min_child_weight': 1},\n",
       " mean: 0.83287, std: 0.00497, params: {'max_depth': 9, 'min_child_weight': 3},\n",
       " mean: 0.83497, std: 0.00579, params: {'max_depth': 9, 'min_child_weight': 5}]"
      ]
     },
     "execution_count": 48,
     "metadata": {},
     "output_type": "execute_result"
    }
   ],
   "source": [
    "gsearch1.grid_scores_"
   ]
  },
  {
   "cell_type": "code",
   "execution_count": 47,
   "metadata": {},
   "outputs": [
    {
     "name": "stderr",
     "output_type": "stream",
     "text": [
      "D:\\Anaconda3\\lib\\site-packages\\sklearn\\model_selection\\_search.py:747: DeprecationWarning: The grid_scores_ attribute was deprecated in version 0.18 in favor of the more elaborate cv_results_ attribute. The grid_scores_ attribute will not be available from 0.20\n",
      "  DeprecationWarning)\n"
     ]
    },
    {
     "data": {
      "text/plain": [
       "[mean: 0.83992, std: 0.00724, params: {'max_depth': 4, 'min_child_weight': 2},\n",
       " mean: 0.83993, std: 0.00769, params: {'max_depth': 4, 'min_child_weight': 3},\n",
       " mean: 0.83929, std: 0.00742, params: {'max_depth': 4, 'min_child_weight': 4},\n",
       " mean: 0.84053, std: 0.00556, params: {'max_depth': 5, 'min_child_weight': 2},\n",
       " mean: 0.84044, std: 0.00656, params: {'max_depth': 5, 'min_child_weight': 3},\n",
       " mean: 0.84051, std: 0.00587, params: {'max_depth': 5, 'min_child_weight': 4},\n",
       " mean: 0.84066, std: 0.00567, params: {'max_depth': 6, 'min_child_weight': 2},\n",
       " mean: 0.84014, std: 0.00594, params: {'max_depth': 6, 'min_child_weight': 3},\n",
       " mean: 0.84078, std: 0.00383, params: {'max_depth': 6, 'min_child_weight': 4}]"
      ]
     },
     "execution_count": 47,
     "metadata": {},
     "output_type": "execute_result"
    }
   ],
   "source": [
    "gsearch2.grid_scores_"
   ]
  },
  {
   "cell_type": "markdown",
   "metadata": {},
   "source": [
    "Here, we get the optimum values as 6 for max_depth and 4 for min_child_weight. Also, we can see the CV score increasing slightly. Note that as the model performance increases, it becomes exponentially difficult to achieve even marginal gains in performance. "
   ]
  },
  {
   "cell_type": "code",
   "execution_count": 49,
   "metadata": {},
   "outputs": [
    {
     "name": "stderr",
     "output_type": "stream",
     "text": [
      "D:\\Anaconda3\\lib\\site-packages\\sklearn\\model_selection\\_search.py:747: DeprecationWarning: The grid_scores_ attribute was deprecated in version 0.18 in favor of the more elaborate cv_results_ attribute. The grid_scores_ attribute will not be available from 0.20\n",
      "  DeprecationWarning)\n"
     ]
    },
    {
     "data": {
      "text/plain": [
       "([mean: 0.84078, std: 0.00383, params: {'max_depth': 6, 'min_child_weight': 4},\n",
       "  mean: 0.83896, std: 0.00612, params: {'max_depth': 6, 'min_child_weight': 6},\n",
       "  mean: 0.83969, std: 0.00506, params: {'max_depth': 6, 'min_child_weight': 8},\n",
       "  mean: 0.83717, std: 0.00485, params: {'max_depth': 8, 'min_child_weight': 4},\n",
       "  mean: 0.83580, std: 0.00631, params: {'max_depth': 8, 'min_child_weight': 6},\n",
       "  mean: 0.83507, std: 0.00626, params: {'max_depth': 8, 'min_child_weight': 8},\n",
       "  mean: 0.83057, std: 0.00621, params: {'max_depth': 10, 'min_child_weight': 4},\n",
       "  mean: 0.83125, std: 0.00827, params: {'max_depth': 10, 'min_child_weight': 6},\n",
       "  mean: 0.83236, std: 0.00806, params: {'max_depth': 10, 'min_child_weight': 8},\n",
       "  mean: 0.82501, std: 0.00913, params: {'max_depth': 12, 'min_child_weight': 4},\n",
       "  mean: 0.82852, std: 0.00692, params: {'max_depth': 12, 'min_child_weight': 6},\n",
       "  mean: 0.83009, std: 0.00715, params: {'max_depth': 12, 'min_child_weight': 8}],\n",
       " {'max_depth': 6, 'min_child_weight': 4},\n",
       " 0.84078281084749462)"
      ]
     },
     "execution_count": 49,
     "metadata": {},
     "output_type": "execute_result"
    }
   ],
   "source": [
    "param_test2b = {\n",
    " 'min_child_weight':[4,6,8],\n",
    " 'max_depth':[6,8,10,12]\n",
    "}\n",
    "gsearch2b = GridSearchCV(estimator = XGBClassifier( learning_rate=0.1, n_estimators=112, max_depth=4,\n",
    "                                                   min_child_weight=3, gamma=0, subsample=0.8, colsample_bytree=0.8,\n",
    "                                                   objective= 'binary:logistic', scale_pos_weight=1,seed=27), \n",
    "                         param_grid = param_test2b, scoring='roc_auc', iid=False, cv=5)\n",
    "gsearch2b.fit(X, y)\n",
    "gsearch2b.grid_scores_, gsearch2b.best_params_, gsearch2b.best_score_"
   ]
  },
  {
   "cell_type": "markdown",
   "metadata": {},
   "source": [
    "We see 6 as the optimal value of the max_depth and 4 as the optimal value of the min_child_weight."
   ]
  },
  {
   "cell_type": "markdown",
   "metadata": {},
   "source": [
    "### Tune gamma"
   ]
  },
  {
   "cell_type": "code",
   "execution_count": 50,
   "metadata": {},
   "outputs": [
    {
     "name": "stderr",
     "output_type": "stream",
     "text": [
      "D:\\Anaconda3\\lib\\site-packages\\sklearn\\model_selection\\_search.py:747: DeprecationWarning: The grid_scores_ attribute was deprecated in version 0.18 in favor of the more elaborate cv_results_ attribute. The grid_scores_ attribute will not be available from 0.20\n",
      "  DeprecationWarning)\n"
     ]
    },
    {
     "data": {
      "text/plain": [
       "([mean: 0.84078, std: 0.00383, params: {'gamma': 0.0},\n",
       "  mean: 0.83907, std: 0.00626, params: {'gamma': 0.1},\n",
       "  mean: 0.84102, std: 0.00527, params: {'gamma': 0.2},\n",
       "  mean: 0.83970, std: 0.00600, params: {'gamma': 0.3},\n",
       "  mean: 0.83906, std: 0.00708, params: {'gamma': 0.4}],\n",
       " {'gamma': 0.2},\n",
       " 0.84102050993369348)"
      ]
     },
     "execution_count": 50,
     "metadata": {},
     "output_type": "execute_result"
    }
   ],
   "source": [
    "param_test3 = {\n",
    " 'gamma':[i/10.0 for i in range(0,5)]\n",
    "}\n",
    "gsearch3 = GridSearchCV(estimator = XGBClassifier( learning_rate =0.1, n_estimators=112, max_depth=6,\n",
    "                                                  min_child_weight=4, gamma=0, subsample=0.8, colsample_bytree=0.8,\n",
    "                                                  objective= 'binary:logistic', scale_pos_weight=1,seed=27),\n",
    "                        param_grid = param_test3, scoring='roc_auc', iid=False, cv=5)\n",
    "gsearch3.fit(X,y)\n",
    "gsearch3.grid_scores_, gsearch3.best_params_, gsearch3.best_score_"
   ]
  },
  {
   "cell_type": "markdown",
   "metadata": {},
   "source": [
    "This shows that our original value of gamma, i.e. 0.2 is the optimum one. Before proceeding, a good idea would be to re-calibrate the number of boosting rounds for the updated parameters."
   ]
  },
  {
   "cell_type": "markdown",
   "metadata": {},
   "source": [
    "## The 2nd Model with update Parameters"
   ]
  },
  {
   "cell_type": "code",
   "execution_count": 51,
   "metadata": {},
   "outputs": [
    {
     "data": {
      "text/plain": [
       "(117, 4)"
      ]
     },
     "execution_count": 51,
     "metadata": {},
     "output_type": "execute_result"
    }
   ],
   "source": [
    "xgb2 = XGBClassifier(learning_rate =0.1, n_estimators=1000, max_depth=6,\n",
    "                     min_child_weight=4, gamma=0.2, subsample=0.8, colsample_bytree=0.8, \n",
    "                     objective= 'binary:logistic', scale_pos_weight=1, seed=27)\n",
    "xgb2_param=xgb2.get_xgb_params()\n",
    "cv2 = xgb.cv(xgb2_param, xgtrain, num_boost_round=xgb2.get_params()['n_estimators'], nfold=5,\n",
    "            metrics='auc', early_stopping_rounds=50)\n",
    "cv2.shape"
   ]
  },
  {
   "cell_type": "code",
   "execution_count": 52,
   "metadata": {},
   "outputs": [
    {
     "name": "stdout",
     "output_type": "stream",
     "text": [
      "     test-auc-mean  test-auc-std  train-auc-mean  train-auc-std\n",
      "112       0.843894      0.015089        0.910176       0.001802\n",
      "113       0.843897      0.014859        0.910683       0.001805\n",
      "114       0.843859      0.014883        0.910941       0.001793\n",
      "115       0.843899      0.014909        0.911232       0.001907\n",
      "116       0.843962      0.015029        0.911671       0.001863\n"
     ]
    }
   ],
   "source": [
    "print(cv2.tail())"
   ]
  },
  {
   "cell_type": "code",
   "execution_count": 53,
   "metadata": {},
   "outputs": [
    {
     "data": {
      "text/plain": [
       "XGBClassifier(base_score=0.5, colsample_bylevel=1, colsample_bytree=0.8,\n",
       "       gamma=0.2, learning_rate=0.1, max_delta_step=0, max_depth=6,\n",
       "       min_child_weight=4, missing=None, n_estimators=117, nthread=-1,\n",
       "       objective='binary:logistic', reg_alpha=0, reg_lambda=1,\n",
       "       scale_pos_weight=1, seed=27, silent=True, subsample=0.8)"
      ]
     },
     "execution_count": 53,
     "metadata": {},
     "output_type": "execute_result"
    }
   ],
   "source": [
    "# fit the algorithem on the data\n",
    "xgb2.set_params(n_estimators=cv2.shape[0])\n",
    "xgb2.fit(X, y, eval_metric='auc')"
   ]
  },
  {
   "cell_type": "code",
   "execution_count": 54,
   "metadata": {},
   "outputs": [
    {
     "data": {
      "text/plain": [
       "(0.98540565387267298, 0.98540565387267298, 0.90663210045819687)"
      ]
     },
     "execution_count": 54,
     "metadata": {},
     "output_type": "execute_result"
    }
   ],
   "source": [
    "y_pred2 = xgb2.predict(X)\n",
    "y_predprob2 = xgb2.predict_proba(X)[:,1]\n",
    "xgb2.score(X, y), accuracy_score(y.values, y_pred2), roc_auc_score(y, y_predprob2)"
   ]
  },
  {
   "cell_type": "code",
   "execution_count": 55,
   "metadata": {},
   "outputs": [
    {
     "data": {
      "text/plain": [
       "(0.98539416226154908, 0.98539416226154908, 0.89168128665404356)"
      ]
     },
     "execution_count": 55,
     "metadata": {},
     "output_type": "execute_result"
    }
   ],
   "source": [
    "xgb1.score(X, y), accuracy_score(y.values, y_pred1), roc_auc_score(y, y_predprob1)"
   ]
  },
  {
   "cell_type": "code",
   "execution_count": 56,
   "metadata": {},
   "outputs": [
    {
     "data": {
      "text/plain": [
       "(0.98537117903930127, 0.98537117903930127, 0.85105818940795808)"
      ]
     },
     "execution_count": 56,
     "metadata": {},
     "output_type": "execute_result"
    }
   ],
   "source": [
    "xgb0.score(X, y), accuracy_score(y.values, y_pred0), roc_auc_score(y, y_predprob0)"
   ]
  },
  {
   "cell_type": "markdown",
   "metadata": {},
   "source": [
    "Here, we can see the improvement in score. So the final parameters are:\n",
    "* n_estimators : 117\n",
    "* max_depth: 6\n",
    "* min_child_weight: 4\n",
    "* gamma: 0.2"
   ]
  },
  {
   "cell_type": "markdown",
   "metadata": {},
   "source": [
    "### Tune subsample and colsample_bytree\n",
    "The next step would be try different subsample and colsample_bytree values. Lets do this in 2 stages as well and take values 0.6,0.7,0.8,0.9 for both to start with."
   ]
  },
  {
   "cell_type": "code",
   "execution_count": 58,
   "metadata": {},
   "outputs": [
    {
     "name": "stderr",
     "output_type": "stream",
     "text": [
      "D:\\Anaconda3\\lib\\site-packages\\sklearn\\model_selection\\_search.py:747: DeprecationWarning: The grid_scores_ attribute was deprecated in version 0.18 in favor of the more elaborate cv_results_ attribute. The grid_scores_ attribute will not be available from 0.20\n",
      "  DeprecationWarning)\n"
     ]
    },
    {
     "data": {
      "text/plain": [
       "([mean: 0.83715, std: 0.00822, params: {'colsample_bytree': 0.59999999999999998, 'subsample': 0.59999999999999998},\n",
       "  mean: 0.83729, std: 0.00769, params: {'colsample_bytree': 0.59999999999999998, 'subsample': 0.69999999999999996},\n",
       "  mean: 0.83864, std: 0.00682, params: {'colsample_bytree': 0.59999999999999998, 'subsample': 0.80000000000000004},\n",
       "  mean: 0.83939, std: 0.00676, params: {'colsample_bytree': 0.59999999999999998, 'subsample': 0.90000000000000002},\n",
       "  mean: 0.83806, std: 0.00733, params: {'colsample_bytree': 0.69999999999999996, 'subsample': 0.59999999999999998},\n",
       "  mean: 0.83847, std: 0.00729, params: {'colsample_bytree': 0.69999999999999996, 'subsample': 0.69999999999999996},\n",
       "  mean: 0.83955, std: 0.00643, params: {'colsample_bytree': 0.69999999999999996, 'subsample': 0.80000000000000004},\n",
       "  mean: 0.83997, std: 0.00609, params: {'colsample_bytree': 0.69999999999999996, 'subsample': 0.90000000000000002},\n",
       "  mean: 0.83851, std: 0.00679, params: {'colsample_bytree': 0.80000000000000004, 'subsample': 0.59999999999999998},\n",
       "  mean: 0.83918, std: 0.00654, params: {'colsample_bytree': 0.80000000000000004, 'subsample': 0.69999999999999996},\n",
       "  mean: 0.84079, std: 0.00567, params: {'colsample_bytree': 0.80000000000000004, 'subsample': 0.80000000000000004},\n",
       "  mean: 0.83931, std: 0.00630, params: {'colsample_bytree': 0.80000000000000004, 'subsample': 0.90000000000000002},\n",
       "  mean: 0.83974, std: 0.00746, params: {'colsample_bytree': 0.90000000000000002, 'subsample': 0.59999999999999998},\n",
       "  mean: 0.83944, std: 0.00461, params: {'colsample_bytree': 0.90000000000000002, 'subsample': 0.69999999999999996},\n",
       "  mean: 0.83971, std: 0.00684, params: {'colsample_bytree': 0.90000000000000002, 'subsample': 0.80000000000000004},\n",
       "  mean: 0.84009, std: 0.00685, params: {'colsample_bytree': 0.90000000000000002, 'subsample': 0.90000000000000002}],\n",
       " {'colsample_bytree': 0.80000000000000004, 'subsample': 0.80000000000000004},\n",
       " 0.840788077457025)"
      ]
     },
     "execution_count": 58,
     "metadata": {},
     "output_type": "execute_result"
    }
   ],
   "source": [
    "param_test4 = {\n",
    " 'subsample':[i/10.0 for i in np.arange(6,10)],\n",
    " 'colsample_bytree':[i/10.0 for i in np.arange(6,10)]\n",
    "}\n",
    "gsearch4 = GridSearchCV(estimator = XGBClassifier( learning_rate =0.1, n_estimators=117, max_depth=6,\n",
    "                                                  min_child_weight=4, gamma=0.2, subsample=0.8, colsample_bytree=0.8,\n",
    "                                                  objective= 'binary:logistic', scale_pos_weight=1, seed=27), \n",
    "                        param_grid = param_test4, scoring='roc_auc', iid=False, cv=5)\n",
    "gsearch4.fit(X, y)\n",
    "gsearch4.grid_scores_, gsearch4.best_params_, gsearch4.best_score_"
   ]
  },
  {
   "cell_type": "markdown",
   "metadata": {},
   "source": [
    "Here, we found 0.8 as the optimum value for both subsample and colsample_bytree. Now we should try values in 0.05 interval around these."
   ]
  },
  {
   "cell_type": "code",
   "execution_count": 62,
   "metadata": {},
   "outputs": [
    {
     "data": {
      "text/plain": [
       "({'colsample_bytree': 0.80000000000000004, 'subsample': 0.80000000000000004},\n",
       " 0.840788077457025)"
      ]
     },
     "execution_count": 62,
     "metadata": {},
     "output_type": "execute_result"
    }
   ],
   "source": [
    "param_test5 = {\n",
    "    'subsample':[i/100.0 for i in np.arange(75,90,5)],\n",
    "    'colsample_bytree':[i/100.0 for i in np.arange(75,90,5)]\n",
    "}\n",
    "gsearch5 = GridSearchCV(estimator = XGBClassifier( learning_rate =0.1, n_estimators=117, max_depth=6,\n",
    "                                                  min_child_weight=4, gamma=0.2, subsample=0.8, colsample_bytree=0.8,\n",
    "                                                  objective= 'binary:logistic', scale_pos_weight=1, seed=27), \n",
    "                        param_grid = param_test5, scoring='roc_auc', iid=False, cv=5)\n",
    "gsearch5.fit(X,y)\n",
    "gsearch5.best_params_, gsearch5.best_score_"
   ]
  },
  {
   "cell_type": "markdown",
   "metadata": {},
   "source": [
    "Here, we can see the improvement in score. So the final parameters are:\n",
    "* n_estimators : 117\n",
    "* max_depth: 6\n",
    "* min_child_weight: 4\n",
    "* gamma: 0.2\n",
    "* subsample: 0.8\n",
    "* colsample_bytree: 0.8"
   ]
  },
  {
   "cell_type": "markdown",
   "metadata": {},
   "source": [
    "### Tune Regularization Parameters\n",
    "\n",
    "Next step is to apply regularization to reduce overfitting. Though many people don’t use this parameters much as gamma provides a substantial way of controlling complexity. But we should always try it. I’ll tune ‘reg_alpha’ value here and leave it upto you to try different values of ‘reg_lambda’."
   ]
  },
  {
   "cell_type": "code",
   "execution_count": 63,
   "metadata": {},
   "outputs": [
    {
     "data": {
      "text/plain": [
       "({'reg_alpha': 1e-05}, 0.84078798562374712)"
      ]
     },
     "execution_count": 63,
     "metadata": {},
     "output_type": "execute_result"
    }
   ],
   "source": [
    "param_test6 = {'reg_alpha':[1e-5, 1e-2, 0.1, 1, 100]}\n",
    "gsearch6 = GridSearchCV(estimator = XGBClassifier( learning_rate =0.1, n_estimators=117, max_depth=6,\n",
    "                                                  min_child_weight=4, gamma=0.2, subsample=0.8, colsample_bytree=0.8,\n",
    "                                                  objective= 'binary:logistic', scale_pos_weight=1, seed=27), \n",
    "                        param_grid = param_test6, scoring='roc_auc', iid=False, cv=5)\n",
    "gsearch6.fit(X, y)\n",
    "gsearch6.best_params_, gsearch6.best_score_"
   ]
  },
  {
   "cell_type": "markdown",
   "metadata": {},
   "source": [
    "We can see that the CV score is less than the previous case. But the values tried are very widespread, we should try values closer to the optimum here (1e-5) to see if we get something better."
   ]
  },
  {
   "cell_type": "code",
   "execution_count": 64,
   "metadata": {},
   "outputs": [
    {
     "data": {
      "text/plain": [
       "({'reg_alpha': 0.0005}, 0.84083738172280387)"
      ]
     },
     "execution_count": 64,
     "metadata": {},
     "output_type": "execute_result"
    }
   ],
   "source": [
    "param_test7 = {'reg_alpha':[0.0001, 0.0005, 0.00001, 0.00005]}\n",
    "gsearch7 = GridSearchCV(estimator = XGBClassifier( learning_rate =0.1, n_estimators=117, max_depth=6,\n",
    "                                                  min_child_weight=4, gamma=0.2, subsample=0.8, colsample_bytree=0.8,\n",
    "                                                  objective= 'binary:logistic', scale_pos_weight=1, seed=27), \n",
    "                        param_grid = param_test7, scoring='roc_auc', iid=False, cv=5)\n",
    "gsearch7.fit(X, y)\n",
    "gsearch7.best_params_, gsearch7.best_score_"
   ]
  },
  {
   "cell_type": "markdown",
   "metadata": {},
   "source": [
    "You can see that we got a better CV. Now we can apply this regularization in the model and look at the impact."
   ]
  },
  {
   "cell_type": "markdown",
   "metadata": {},
   "source": [
    "## The 3rd Model with updated Parameters"
   ]
  },
  {
   "cell_type": "code",
   "execution_count": 65,
   "metadata": {},
   "outputs": [
    {
     "data": {
      "text/plain": [
       "(100, 4)"
      ]
     },
     "execution_count": 65,
     "metadata": {},
     "output_type": "execute_result"
    }
   ],
   "source": [
    "xgb3 = XGBClassifier(learning_rate =0.1, n_estimators=1000, max_depth=6,\n",
    "                     min_child_weight=4, gamma=0.2, subsample=0.8, colsample_bytree=0.8, reg_alpha=0.0005,\n",
    "                     objective= 'binary:logistic', scale_pos_weight=1, seed=27)\n",
    "xgb3_param=xgb3.get_xgb_params()\n",
    "cv3 = xgb.cv(xgb3_param, xgtrain, num_boost_round=xgb3.get_params()['n_estimators'], nfold=5,\n",
    "            metrics='auc', early_stopping_rounds=50)\n",
    "cv3.shape"
   ]
  },
  {
   "cell_type": "code",
   "execution_count": 66,
   "metadata": {},
   "outputs": [
    {
     "data": {
      "text/plain": [
       "XGBClassifier(base_score=0.5, colsample_bylevel=1, colsample_bytree=0.8,\n",
       "       gamma=0.2, learning_rate=0.1, max_delta_step=0, max_depth=6,\n",
       "       min_child_weight=4, missing=None, n_estimators=100, nthread=-1,\n",
       "       objective='binary:logistic', reg_alpha=0.0005, reg_lambda=1,\n",
       "       scale_pos_weight=1, seed=27, silent=True, subsample=0.8)"
      ]
     },
     "execution_count": 66,
     "metadata": {},
     "output_type": "execute_result"
    }
   ],
   "source": [
    "# fit the algorithem on the data\n",
    "xgb3.set_params(n_estimators=cv3.shape[0])\n",
    "xgb3.fit(X, y, eval_metric='auc')"
   ]
  },
  {
   "cell_type": "code",
   "execution_count": 67,
   "metadata": {},
   "outputs": [
    {
     "data": {
      "text/plain": [
       "(0.98539416226154908, 0.98539416226154908, 0.89963685986059705)"
      ]
     },
     "execution_count": 67,
     "metadata": {},
     "output_type": "execute_result"
    }
   ],
   "source": [
    "y_pred3 = xgb3.predict(X)\n",
    "y_predprob3 = xgb3.predict_proba(X)[:,1]\n",
    "xgb3.score(X, y), accuracy_score(y.values, y_pred3), roc_auc_score(y, y_predprob3)"
   ]
  },
  {
   "cell_type": "code",
   "execution_count": 68,
   "metadata": {},
   "outputs": [
    {
     "data": {
      "text/plain": [
       "(0.98540565387267298, 0.98540565387267298, 0.90663210045819687)"
      ]
     },
     "execution_count": 68,
     "metadata": {},
     "output_type": "execute_result"
    }
   ],
   "source": [
    "xgb2.score(X, y), accuracy_score(y.values, y_pred2), roc_auc_score(y, y_predprob2)"
   ]
  },
  {
   "cell_type": "code",
   "execution_count": 69,
   "metadata": {},
   "outputs": [
    {
     "data": {
      "text/plain": [
       "(0.98539416226154908, 0.98539416226154908, 0.89168128665404356)"
      ]
     },
     "execution_count": 69,
     "metadata": {},
     "output_type": "execute_result"
    }
   ],
   "source": [
    "xgb1.score(X, y), accuracy_score(y.values, y_pred1), roc_auc_score(y, y_predprob1)"
   ]
  },
  {
   "cell_type": "code",
   "execution_count": 70,
   "metadata": {},
   "outputs": [
    {
     "data": {
      "text/plain": [
       "(0.98537117903930127, 0.98537117903930127, 0.85105818940795808)"
      ]
     },
     "execution_count": 70,
     "metadata": {},
     "output_type": "execute_result"
    }
   ],
   "source": [
    "xgb0.score(X, y), accuracy_score(y.values, y_pred0), roc_auc_score(y, y_predprob0)"
   ]
  },
  {
   "cell_type": "markdown",
   "metadata": {},
   "source": [
    "## The 4th Model with Reducing Learning Rate\n",
    "Lastly, we should lower the learning rate and add more trees. Lets use the cv function of XGBoost to do the job again."
   ]
  },
  {
   "cell_type": "code",
   "execution_count": 71,
   "metadata": {},
   "outputs": [
    {
     "data": {
      "text/plain": [
       "(1047, 4)"
      ]
     },
     "execution_count": 71,
     "metadata": {},
     "output_type": "execute_result"
    }
   ],
   "source": [
    "xgb4 = XGBClassifier(learning_rate =0.01, n_estimators=5000, max_depth=6,\n",
    "                     min_child_weight=4, gamma=0.2, subsample=0.8, colsample_bytree=0.8, reg_alpha=0.0005,\n",
    "                     objective= 'binary:logistic', scale_pos_weight=1, seed=27)\n",
    "xgb4_param=xgb4.get_xgb_params()\n",
    "cv4 = xgb.cv(xgb4_param, xgtrain, num_boost_round=xgb4.get_params()['n_estimators'], nfold=5,\n",
    "            metrics='auc', early_stopping_rounds=50)\n",
    "cv4.shape"
   ]
  },
  {
   "cell_type": "code",
   "execution_count": 72,
   "metadata": {},
   "outputs": [
    {
     "data": {
      "text/plain": [
       "XGBClassifier(base_score=0.5, colsample_bylevel=1, colsample_bytree=0.8,\n",
       "       gamma=0.2, learning_rate=0.01, max_delta_step=0, max_depth=6,\n",
       "       min_child_weight=4, missing=None, n_estimators=1047, nthread=-1,\n",
       "       objective='binary:logistic', reg_alpha=0.0005, reg_lambda=1,\n",
       "       scale_pos_weight=1, seed=27, silent=True, subsample=0.8)"
      ]
     },
     "execution_count": 72,
     "metadata": {},
     "output_type": "execute_result"
    }
   ],
   "source": [
    "# fit the algorithem on the data\n",
    "xgb4.set_params(n_estimators=cv4.shape[0])\n",
    "xgb4.fit(X, y, eval_metric='auc')"
   ]
  },
  {
   "cell_type": "code",
   "execution_count": 73,
   "metadata": {},
   "outputs": [
    {
     "data": {
      "text/plain": [
       "(0.98538267065042517, 0.98538267065042517, 0.90149057498304874)"
      ]
     },
     "execution_count": 73,
     "metadata": {},
     "output_type": "execute_result"
    }
   ],
   "source": [
    "y_pred4 = xgb4.predict(X)\n",
    "y_predprob4 = xgb4.predict_proba(X)[:,1]\n",
    "xgb4.score(X, y), accuracy_score(y.values, y_pred4), roc_auc_score(y, y_predprob4)"
   ]
  },
  {
   "cell_type": "code",
   "execution_count": 75,
   "metadata": {},
   "outputs": [
    {
     "name": "stdout",
     "output_type": "stream",
     "text": [
      "0.98538267065 0.985394162262 0.985405653873 0.985394162262 0.985371179039\n"
     ]
    }
   ],
   "source": [
    "print(xgb4.score(X, y),xgb3.score(X, y),xgb2.score(X, y),xgb1.score(X, y),xgb0.score(X, y))"
   ]
  },
  {
   "cell_type": "code",
   "execution_count": 76,
   "metadata": {},
   "outputs": [
    {
     "name": "stdout",
     "output_type": "stream",
     "text": [
      "0.901490574983 0.899636859861 0.906632100458 0.891681286654 0.851058189408\n"
     ]
    }
   ],
   "source": [
    "print(roc_auc_score(y, y_predprob4),roc_auc_score(y, y_predprob3),roc_auc_score(y, y_predprob2),roc_auc_score(y, y_predprob1),roc_auc_score(y, y_predprob0))"
   ]
  },
  {
   "cell_type": "markdown",
   "metadata": {},
   "source": [
    "Now we can see a significant boost in performance and the effect of parameter tuning is clearer."
   ]
  },
  {
   "cell_type": "markdown",
   "metadata": {},
   "source": [
    "## Feature Importance"
   ]
  },
  {
   "cell_type": "code",
   "execution_count": 95,
   "metadata": {},
   "outputs": [
    {
     "data": {
      "text/plain": [
       "<matplotlib.text.Text at 0x252183b8ef0>"
      ]
     },
     "execution_count": 95,
     "metadata": {},
     "output_type": "execute_result"
    },
    {
     "data": {
      "image/png": "[encoded data removed]",
      "text/plain": [
       "<matplotlib.figure.Figure at 0x252181cac18>"
      ]
     },
     "metadata": {},
     "output_type": "display_data"
    }
   ],
   "source": [
    "# Method 1: Plot importance based on fitted trees by using Matplotlib\n",
    "feature_imp0 = pd.Series(xgb0.booster().get_fscore()).sort_values(ascending=False)\n",
    "feature_imp0.plot(kind='bar', title='Feature Importances')\n",
    "plt.ylabel('Feature Importance Score')"
   ]
  },
  {
   "cell_type": "code",
   "execution_count": 94,
   "metadata": {},
   "outputs": [
    {
     "data": {
      "text/plain": [
       "<matplotlib.axes._subplots.AxesSubplot at 0x25217b27dd8>"
      ]
     },
     "execution_count": 94,
     "metadata": {},
     "output_type": "execute_result"
    },
    {
     "data": {
      "image/png": "[encoded data removed]",
      "text/plain": [
       "<matplotlib.figure.Figure at 0x2521848a400>"
      ]
     },
     "metadata": {},
     "output_type": "display_data"
    }
   ],
   "source": [
    "# Method 2\n",
    "xgb.plot_importance(xgb4.booster(), color='red',grid=True,height=0.2)"
   ]
  },
  {
   "cell_type": "markdown",
   "metadata": {},
   "source": [
    "## Summary\n",
    "\n",
    "* It is difficult to get a very big leap in performance by just using parameter tuning or slightly better models. The max score for GBM was 0.8487 while XGBoost gave 0.8494. This is a decent improvement but not something very substantial.\n",
    "* A significant jump can be obtained by other methods like feature engineering, creating ensemble of models, stacking, etc"
   ]
  },
  {
   "cell_type": "markdown",
   "metadata": {},
   "source": [
    "## Define a function\n",
    "After all processing, let's define a function which will help us create XGBoost models and perform cross-validation. "
   ]
  },
  {
   "cell_type": "code",
   "execution_count": 98,
   "metadata": {},
   "outputs": [],
   "source": [
    "# test_results = pd.read_csv('test_results.csv') \n",
    "def modelfit(alg, dtrain, dtest, predictors,useTrainCV=True, cv_folds=5, early_stopping_rounds=50):\n",
    "    \n",
    "    if useTrainCV:\n",
    "        xgb_param = alg.get_xgb_params()\n",
    "        xgtrain = xgb.DMatrix(dtrain[predictors].values, label=dtrain[target].values)\n",
    "        xgtest = xgb.DMatrix(dtest[predictors].values)\n",
    "        cvresult = xgb.cv(xgb_param, xgtrain, num_boost_round=alg.get_params()['n_estimators'], nfold=cv_folds,\n",
    "            metrics='auc', early_stopping_rounds=early_stopping_rounds, show_progress=False)\n",
    "        alg.set_params(n_estimators=cvresult.shape[0])\n",
    "    \n",
    "    #Fit the algorithm on the data\n",
    "    alg.fit(dtrain[predictors], dtrain['Disbursed'],eval_metric='auc')\n",
    "        \n",
    "    #Predict training set:\n",
    "    dtrain_predictions = alg.predict(dtrain[predictors])\n",
    "    dtrain_predprob = alg.predict_proba(dtrain[predictors])[:,1]\n",
    "        \n",
    "    #Print model report:\n",
    "    print (\"\\nModel Report\")\n",
    "    print (\"Accuracy : %.4g\" % metrics.accuracy_score(dtrain['Disbursed'].values, dtrain_predictions))\n",
    "    print (\"AUC Score (Train): %f\" % metrics.roc_auc_score(dtrain['Disbursed'], dtrain_predprob))\n",
    "    \n",
    "#     Predict on testing data:\n",
    "    dtest['predprob'] = alg.predict_proba(dtest[predictors])[:,1]\n",
    "    results = test_results.merge(dtest[['ID','predprob']], on='ID')\n",
    "    print ('AUC Score (Test): %f' % metrics.roc_auc_score(results['Disbursed'], results['predprob']))\n",
    "                \n",
    "    xgb.plot_importance(alg.booster(), color='red') "
   ]
  },
  {
   "cell_type": "code",
   "execution_count": null,
   "metadata": {
    "collapsed": true
   },
   "outputs": [],
   "source": []
  }
 ],
 "metadata": {
  "kernelspec": {
   "display_name": "Python 3",
   "language": "python",
   "name": "python3"
  },
  "language_info": {
   "codemirror_mode": {
    "name": "ipython",
    "version": 3
   },
   "file_extension": ".py",
   "mimetype": "text/x-python",
   "name": "python",
   "nbconvert_exporter": "python",
   "pygments_lexer": "ipython3",
   "version": "3.6.1"
  },
  "toc": {
   "colors": {
    "hover_highlight": "#DAA520",
    "navigate_num": "#000000",
    "navigate_text": "#333333",
    "running_highlight": "#FF0000",
    "selected_highlight": "#FFD700",
    "sidebar_border": "#EEEEEE",
    "wrapper_background": "#FFFFFF"
   },
   "moveMenuLeft": true,
   "nav_menu": {
    "height": "38px",
    "width": "254px"
   },
   "navigate_menu": true,
   "number_sections": true,
   "sideBar": true,
   "threshold": 4,
   "toc_cell": false,
   "toc_position": {
    "height": "516px",
    "left": "0px",
    "right": "611px",
    "top": "122px",
    "width": "212px"
   },
   "toc_section_display": "block",
   "toc_window_display": true,
   "widenNotebook": false
  }
 },
 "nbformat": 4,
 "nbformat_minor": 2
}
