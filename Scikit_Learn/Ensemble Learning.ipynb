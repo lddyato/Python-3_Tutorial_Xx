{
 "cells": [
  {
   "cell_type": "markdown",
   "metadata": {},
   "source": [
    "# Ensemble Learning"
   ]
  },
  {
   "cell_type": "markdown",
   "metadata": {},
   "source": [
    "## Import Libraries:"
   ]
  },
  {
   "cell_type": "code",
   "execution_count": 2,
   "metadata": {},
   "outputs": [
    {
     "name": "stderr",
     "output_type": "stream",
     "text": [
      "D:\\Anaconda3\\lib\\site-packages\\sklearn\\cross_validation.py:44: DeprecationWarning: This module was deprecated in version 0.18 in favor of the model_selection module into which all the refactored classes and functions are moved. Also note that the interface of the new CV iterators are different from that of this module. This module will be removed in 0.20.\n",
      "  \"This module will be removed in 0.20.\", DeprecationWarning)\n",
      "D:\\Anaconda3\\lib\\site-packages\\sklearn\\grid_search.py:43: DeprecationWarning: This module was deprecated in version 0.18 in favor of the model_selection module into which all the refactored classes and functions are moved. This module will be removed in 0.20.\n",
      "  DeprecationWarning)\n"
     ]
    }
   ],
   "source": [
    "import pandas as pd\n",
    "import numpy as np\n",
    "from sklearn.ensemble import RandomForestClassifier, RandomForestRegressor, GradientBoostingClassifier, AdaBoostRegressor, AdaBoostClassifier\n",
    "from sklearn.model_selection import cross_val_score, validation_curve\n",
    "from sklearn.preprocessing import MinMaxScaler, PolynomialFeatures\n",
    "from sklearn.metrics import accuracy_score, roc_auc_score\n",
    "from sklearn.grid_search import GridSearchCV\n",
    "\n",
    "import matplotlib.pyplot as plt\n",
    "plt.style.use('ggplot')\n",
    "from matplotlib.pylab import rcParams\n",
    "rcParams['figure.figsize'] = 12, 4"
   ]
  },
  {
   "cell_type": "markdown",
   "metadata": {},
   "source": [
    "## Data\n",
    "The data here is taken form the Data Hackathon3.x - http://datahack.analyticsvidhya.com/contest/data-hackathon-3x"
   ]
  },
  {
   "cell_type": "code",
   "execution_count": 3,
   "metadata": {
    "collapsed": true
   },
   "outputs": [],
   "source": [
    "#Load data:\n",
    "train = pd.read_csv('train_modified.csv')"
   ]
  },
  {
   "cell_type": "code",
   "execution_count": 5,
   "metadata": {},
   "outputs": [
    {
     "data": {
      "text/plain": [
       "(20000, 51)"
      ]
     },
     "execution_count": 5,
     "metadata": {},
     "output_type": "execute_result"
    }
   ],
   "source": [
    "train.shape"
   ]
  },
  {
   "cell_type": "code",
   "execution_count": 6,
   "metadata": {},
   "outputs": [
    {
     "data": {
      "text/plain": [
       "Disbursed                          int64\n",
       "Existing_EMI                     float64\n",
       "ID                                object\n",
       "Loan_Amount_Applied                int64\n",
       "Loan_Tenure_Applied                int64\n",
       "Monthly_Income                     int64\n",
       "Var4                               int64\n",
       "Var5                               int64\n",
       "Age                                int64\n",
       "EMI_Loan_Submitted_Missing         int64\n",
       "Interest_Rate_Missing              int64\n",
       "Loan_Amount_Submitted_Missing      int64\n",
       "Loan_Tenure_Submitted_Missing      int64\n",
       "Processing_Fee_Missing             int64\n",
       "Device_Type_0                      int64\n",
       "Device_Type_1                      int64\n",
       "Filled_Form_0                      int64\n",
       "Filled_Form_1                      int64\n",
       "Gender_0                           int64\n",
       "Gender_1                           int64\n",
       "Var1_0                             int64\n",
       "Var1_1                             int64\n",
       "Var1_2                             int64\n",
       "Var1_3                             int64\n",
       "Var1_4                             int64\n",
       "Var1_5                             int64\n",
       "Var1_6                             int64\n",
       "Var1_7                             int64\n",
       "Var1_8                             int64\n",
       "Var1_9                             int64\n",
       "Var1_10                            int64\n",
       "Var1_11                            int64\n",
       "Var1_12                            int64\n",
       "Var1_13                            int64\n",
       "Var1_14                            int64\n",
       "Var1_15                            int64\n",
       "Var1_16                            int64\n",
       "Var1_17                            int64\n",
       "Var1_18                            int64\n",
       "Var2_0                             int64\n",
       "Var2_1                             int64\n",
       "Var2_2                             int64\n",
       "Var2_3                             int64\n",
       "Var2_4                             int64\n",
       "Var2_5                             int64\n",
       "Var2_6                             int64\n",
       "Mobile_Verified_0                  int64\n",
       "Mobile_Verified_1                  int64\n",
       "Source_0                           int64\n",
       "Source_1                           int64\n",
       "Source_2                           int64\n",
       "dtype: object"
      ]
     },
     "execution_count": 6,
     "metadata": {},
     "output_type": "execute_result"
    }
   ],
   "source": [
    "train.dtypes"
   ]
  },
  {
   "cell_type": "code",
   "execution_count": 8,
   "metadata": {},
   "outputs": [
    {
     "data": {
      "text/plain": [
       "0    19680\n",
       "1      320\n",
       "Name: Disbursed, dtype: int64"
      ]
     },
     "execution_count": 8,
     "metadata": {},
     "output_type": "execute_result"
    }
   ],
   "source": [
    "train.Disbursed.value_counts()"
   ]
  },
  {
   "cell_type": "code",
   "execution_count": 9,
   "metadata": {
    "collapsed": true
   },
   "outputs": [],
   "source": [
    "target='Disbursed'\n",
    "IDcol = 'ID'"
   ]
  },
  {
   "cell_type": "code",
   "execution_count": 11,
   "metadata": {
    "scrolled": false
   },
   "outputs": [
    {
     "data": {
      "text/plain": [
       "['Existing_EMI',\n",
       " 'Loan_Amount_Applied',\n",
       " 'Loan_Tenure_Applied',\n",
       " 'Monthly_Income',\n",
       " 'Var4',\n",
       " 'Var5',\n",
       " 'Age',\n",
       " 'EMI_Loan_Submitted_Missing',\n",
       " 'Interest_Rate_Missing',\n",
       " 'Loan_Amount_Submitted_Missing']"
      ]
     },
     "execution_count": 11,
     "metadata": {},
     "output_type": "execute_result"
    }
   ],
   "source": [
    "x_columns = [x for x in train.columns if x not in [target, IDcol]]\n",
    "x_columns[:10]"
   ]
  },
  {
   "cell_type": "code",
   "execution_count": 12,
   "metadata": {
    "collapsed": true
   },
   "outputs": [],
   "source": [
    "X = train[x_columns]\n",
    "y = train['Disbursed']"
   ]
  },
  {
   "cell_type": "markdown",
   "metadata": {},
   "source": [
    "# RandomForest Models\n",
    "\n",
    "RandomForestClassifier(n_estimators=10, criterion=’gini’, max_depth=None, min_samples_split=2, min_samples_leaf=1, min_weight_fraction_leaf=0.0, max_features=’auto’, max_leaf_nodes=None, min_impurity_decrease=0.0, min_impurity_split=None, bootstrap=True, oob_score=False, n_jobs=1, random_state=None, verbose=0, warm_start=False, class_weight=None)\n",
    "\n",
    "There 2 types of parameters here:\n",
    "1. Tree-specific parameters\n",
    "  * min_samples_split\n",
    "  * min_samples_leaf\n",
    "  * max_depth\n",
    "  * min_leaf_nodes\n",
    "  * max_features\n",
    "2. Bagging specific paramters\n",
    "  * n_estimators\n",
    "  * oob_score"
   ]
  },
  {
   "cell_type": "markdown",
   "metadata": {},
   "source": [
    "## Baseline Model"
   ]
  },
  {
   "cell_type": "code",
   "execution_count": 14,
   "metadata": {
    "scrolled": true
   },
   "outputs": [
    {
     "name": "stderr",
     "output_type": "stream",
     "text": [
      "D:\\Anaconda3\\lib\\site-packages\\sklearn\\ensemble\\forest.py:439: UserWarning: Some inputs do not have OOB scores. This probably means too few trees were used to compute any reliable oob estimates.\n",
      "  warn(\"Some inputs do not have OOB scores. \"\n",
      "D:\\Anaconda3\\lib\\site-packages\\sklearn\\ensemble\\forest.py:444: RuntimeWarning: invalid value encountered in true_divide\n",
      "  predictions[k].sum(axis=1)[:, np.newaxis])\n"
     ]
    },
    {
     "data": {
      "text/plain": [
       "RandomForestClassifier(bootstrap=True, class_weight=None, criterion='gini',\n",
       "            max_depth=None, max_features='auto', max_leaf_nodes=None,\n",
       "            min_impurity_split=1e-07, min_samples_leaf=1,\n",
       "            min_samples_split=2, min_weight_fraction_leaf=0.0,\n",
       "            n_estimators=10, n_jobs=1, oob_score=True, random_state=10,\n",
       "            verbose=0, warm_start=False)"
      ]
     },
     "execution_count": 14,
     "metadata": {},
     "output_type": "execute_result"
    }
   ],
   "source": [
    "rf0 = RandomForestClassifier(oob_score=True, random_state=10)\n",
    "rf0.fit(X,y)"
   ]
  },
  {
   "cell_type": "code",
   "execution_count": 16,
   "metadata": {},
   "outputs": [
    {
     "data": {
      "text/plain": [
       "0.98004999999999998"
      ]
     },
     "execution_count": 16,
     "metadata": {},
     "output_type": "execute_result"
    }
   ],
   "source": [
    "rf0.oob_score_"
   ]
  },
  {
   "cell_type": "code",
   "execution_count": 18,
   "metadata": {},
   "outputs": [
    {
     "name": "stdout",
     "output_type": "stream",
     "text": [
      "AUC Score (Train): 0.9998\n"
     ]
    }
   ],
   "source": [
    "y_pred = rf0.predict_proba(X)[:,1] #Predict class probabilities for X.\n",
    "print(\"AUC Score (Train): {:.4f}\".format(roc_auc_score(y, y_pred)))"
   ]
  },
  {
   "cell_type": "code",
   "execution_count": 19,
   "metadata": {
    "scrolled": false
   },
   "outputs": [
    {
     "name": "stdout",
     "output_type": "stream",
     "text": [
      "AUC Score (Train): 0.9998\n"
     ]
    }
   ],
   "source": [
    "print(\"AUC Score (Train): {:.4f}\".format(roc_auc_score(y, y_pred)))"
   ]
  },
  {
   "cell_type": "code",
   "execution_count": 20,
   "metadata": {},
   "outputs": [
    {
     "data": {
      "text/plain": [
       "array([  1.24821929e-01,   9.32931276e-02,   7.61361638e-02,\n",
       "         2.28716544e-01,   2.62701690e-02,   1.00406650e-01,\n",
       "         1.80193761e-01,   3.39627912e-03,   1.57004954e-03,\n",
       "         2.81439154e-03,   1.33196184e-03,   2.62308515e-03,\n",
       "         2.56383655e-03,   1.32982315e-03,   4.95659835e-03,\n",
       "         3.78274617e-03,   1.22153066e-02,   8.45888159e-03,\n",
       "         1.71508989e-03,   3.85604060e-03,   8.29382995e-03,\n",
       "         6.23401310e-03,   0.00000000e+00,   2.21176730e-03,\n",
       "         6.58576924e-04,   1.67763535e-03,   6.54770503e-03,\n",
       "         7.38852566e-04,   6.99840895e-03,   6.15109428e-03,\n",
       "         2.16906090e-03,   2.70416217e-03,   9.94469550e-04,\n",
       "         3.70782240e-03,   4.01243476e-06,   7.06420778e-04,\n",
       "         3.09283913e-06,   1.03679420e-06,   7.76388501e-03,\n",
       "         1.94071272e-03,   6.53311681e-05,   5.92533821e-03,\n",
       "         2.54676157e-03,   1.04241899e-07,   2.09272343e-03,\n",
       "         9.23456941e-04,   1.54106298e-02,   1.87163432e-02,\n",
       "         1.43603182e-02])"
      ]
     },
     "execution_count": 20,
     "metadata": {},
     "output_type": "execute_result"
    }
   ],
   "source": [
    "rf0.feature_importances_"
   ]
  },
  {
   "cell_type": "code",
   "execution_count": 21,
   "metadata": {},
   "outputs": [
    {
     "data": {
      "text/plain": [
       "Monthly_Income         0.228717\n",
       "Age                    0.180194\n",
       "Existing_EMI           0.124822\n",
       "Var5                   0.100407\n",
       "Loan_Amount_Applied    0.093293\n",
       "Loan_Tenure_Applied    0.076136\n",
       "Var4                   0.026270\n",
       "Source_1               0.018716\n",
       "Source_0               0.015411\n",
       "Source_2               0.014360\n",
       "dtype: float64"
      ]
     },
     "execution_count": 21,
     "metadata": {},
     "output_type": "execute_result"
    }
   ],
   "source": [
    "pd.Series(rf0.feature_importances_, x_columns).sort_values(ascending=False).head(n=10)"
   ]
  },
  {
   "cell_type": "code",
   "execution_count": 22,
   "metadata": {},
   "outputs": [
    {
     "data": {
      "image/png": "[encoded data removed]",
      "text/plain": [
       "<matplotlib.figure.Figure at 0x1b0fb851be0>"
      ]
     },
     "metadata": {},
     "output_type": "display_data"
    }
   ],
   "source": [
    "feat_imp = pd.Series(rf0.feature_importances_, x_columns).sort_values(ascending=False)\n",
    "feat_imp.plot(kind='bar', title='Feature Importances', color='blue')\n",
    "plt.ylabel('Feature Importance Score')\n",
    "plt.show()"
   ]
  },
  {
   "cell_type": "markdown",
   "metadata": {},
   "source": [
    "## Tune n_estimators\n",
    "\n",
    "得到最佳弱学习器的迭代次数:60"
   ]
  },
  {
   "cell_type": "code",
   "execution_count": 23,
   "metadata": {},
   "outputs": [
    {
     "data": {
      "text/plain": [
       "([mean: 0.80681, std: 0.02236, params: {'n_estimators': 10},\n",
       "  mean: 0.81600, std: 0.03275, params: {'n_estimators': 20},\n",
       "  mean: 0.81818, std: 0.03136, params: {'n_estimators': 30},\n",
       "  mean: 0.81838, std: 0.03118, params: {'n_estimators': 40},\n",
       "  mean: 0.82034, std: 0.03001, params: {'n_estimators': 50},\n",
       "  mean: 0.82113, std: 0.02966, params: {'n_estimators': 60},\n",
       "  mean: 0.81992, std: 0.02836, params: {'n_estimators': 70}],\n",
       " {'n_estimators': 60},\n",
       " 0.8211334476626017)"
      ]
     },
     "execution_count": 23,
     "metadata": {},
     "output_type": "execute_result"
    }
   ],
   "source": [
    "param_test1 = {'n_estimators':np.arange(10,71,10)}\n",
    "gsearch1 = GridSearchCV(estimator = RandomForestClassifier(min_samples_split=100,\n",
    "                        min_samples_leaf=20,max_depth=8,max_features='sqrt' ,random_state=10),\n",
    "                        param_grid = param_test1, scoring='roc_auc',cv=5)\n",
    "gsearch1.fit(X,y)\n",
    "gsearch1.grid_scores_, gsearch1.best_params_, gsearch1.best_score_"
   ]
  },
  {
   "cell_type": "markdown",
   "metadata": {},
   "source": [
    "## Tune max_depth和min_samples_split"
   ]
  },
  {
   "cell_type": "code",
   "execution_count": 24,
   "metadata": {},
   "outputs": [
    {
     "data": {
      "text/plain": [
       "([mean: 0.79379, std: 0.02347, params: {'max_depth': 3, 'min_samples_split': 50},\n",
       "  mean: 0.79339, std: 0.02410, params: {'max_depth': 3, 'min_samples_split': 70},\n",
       "  mean: 0.79350, std: 0.02462, params: {'max_depth': 3, 'min_samples_split': 90},\n",
       "  mean: 0.79367, std: 0.02493, params: {'max_depth': 3, 'min_samples_split': 110},\n",
       "  mean: 0.79387, std: 0.02521, params: {'max_depth': 3, 'min_samples_split': 130},\n",
       "  mean: 0.79373, std: 0.02524, params: {'max_depth': 3, 'min_samples_split': 150},\n",
       "  mean: 0.79378, std: 0.02532, params: {'max_depth': 3, 'min_samples_split': 170},\n",
       "  mean: 0.79349, std: 0.02542, params: {'max_depth': 3, 'min_samples_split': 190},\n",
       "  mean: 0.80960, std: 0.02602, params: {'max_depth': 5, 'min_samples_split': 50},\n",
       "  mean: 0.80920, std: 0.02629, params: {'max_depth': 5, 'min_samples_split': 70},\n",
       "  mean: 0.80888, std: 0.02522, params: {'max_depth': 5, 'min_samples_split': 90},\n",
       "  mean: 0.80923, std: 0.02777, params: {'max_depth': 5, 'min_samples_split': 110},\n",
       "  mean: 0.80823, std: 0.02634, params: {'max_depth': 5, 'min_samples_split': 130},\n",
       "  mean: 0.80801, std: 0.02637, params: {'max_depth': 5, 'min_samples_split': 150},\n",
       "  mean: 0.80792, std: 0.02685, params: {'max_depth': 5, 'min_samples_split': 170},\n",
       "  mean: 0.80771, std: 0.02587, params: {'max_depth': 5, 'min_samples_split': 190},\n",
       "  mean: 0.81688, std: 0.02996, params: {'max_depth': 7, 'min_samples_split': 50},\n",
       "  mean: 0.81872, std: 0.02584, params: {'max_depth': 7, 'min_samples_split': 70},\n",
       "  mean: 0.81501, std: 0.02857, params: {'max_depth': 7, 'min_samples_split': 90},\n",
       "  mean: 0.81476, std: 0.02552, params: {'max_depth': 7, 'min_samples_split': 110},\n",
       "  mean: 0.81557, std: 0.02791, params: {'max_depth': 7, 'min_samples_split': 130},\n",
       "  mean: 0.81459, std: 0.02905, params: {'max_depth': 7, 'min_samples_split': 150},\n",
       "  mean: 0.81601, std: 0.02808, params: {'max_depth': 7, 'min_samples_split': 170},\n",
       "  mean: 0.81704, std: 0.02757, params: {'max_depth': 7, 'min_samples_split': 190},\n",
       "  mean: 0.82090, std: 0.02665, params: {'max_depth': 9, 'min_samples_split': 50},\n",
       "  mean: 0.81908, std: 0.02527, params: {'max_depth': 9, 'min_samples_split': 70},\n",
       "  mean: 0.82036, std: 0.02422, params: {'max_depth': 9, 'min_samples_split': 90},\n",
       "  mean: 0.81889, std: 0.02927, params: {'max_depth': 9, 'min_samples_split': 110},\n",
       "  mean: 0.81991, std: 0.02868, params: {'max_depth': 9, 'min_samples_split': 130},\n",
       "  mean: 0.81788, std: 0.02436, params: {'max_depth': 9, 'min_samples_split': 150},\n",
       "  mean: 0.81898, std: 0.02588, params: {'max_depth': 9, 'min_samples_split': 170},\n",
       "  mean: 0.81746, std: 0.02716, params: {'max_depth': 9, 'min_samples_split': 190},\n",
       "  mean: 0.82395, std: 0.02454, params: {'max_depth': 11, 'min_samples_split': 50},\n",
       "  mean: 0.82380, std: 0.02258, params: {'max_depth': 11, 'min_samples_split': 70},\n",
       "  mean: 0.81953, std: 0.02552, params: {'max_depth': 11, 'min_samples_split': 90},\n",
       "  mean: 0.82254, std: 0.02366, params: {'max_depth': 11, 'min_samples_split': 110},\n",
       "  mean: 0.81950, std: 0.02768, params: {'max_depth': 11, 'min_samples_split': 130},\n",
       "  mean: 0.81887, std: 0.02636, params: {'max_depth': 11, 'min_samples_split': 150},\n",
       "  mean: 0.81910, std: 0.02734, params: {'max_depth': 11, 'min_samples_split': 170},\n",
       "  mean: 0.81564, std: 0.02622, params: {'max_depth': 11, 'min_samples_split': 190},\n",
       "  mean: 0.82291, std: 0.02092, params: {'max_depth': 13, 'min_samples_split': 50},\n",
       "  mean: 0.82177, std: 0.02513, params: {'max_depth': 13, 'min_samples_split': 70},\n",
       "  mean: 0.82415, std: 0.02480, params: {'max_depth': 13, 'min_samples_split': 90},\n",
       "  mean: 0.82420, std: 0.02417, params: {'max_depth': 13, 'min_samples_split': 110},\n",
       "  mean: 0.82209, std: 0.02481, params: {'max_depth': 13, 'min_samples_split': 130},\n",
       "  mean: 0.81852, std: 0.02227, params: {'max_depth': 13, 'min_samples_split': 150},\n",
       "  mean: 0.81955, std: 0.02885, params: {'max_depth': 13, 'min_samples_split': 170},\n",
       "  mean: 0.82092, std: 0.02600, params: {'max_depth': 13, 'min_samples_split': 190}],\n",
       " {'max_depth': 13, 'min_samples_split': 110},\n",
       " 0.8242016800050813)"
      ]
     },
     "execution_count": 24,
     "metadata": {},
     "output_type": "execute_result"
    }
   ],
   "source": [
    "param_test2 = {'max_depth':np.arange(3,14,2), 'min_samples_split':np.arange(50,201,20)}\n",
    "gsearch2 = GridSearchCV(estimator = RandomForestClassifier(n_estimators= 60,\n",
    "                        min_samples_leaf=20,max_features='sqrt' ,oob_score=True, random_state=10),\n",
    "                        param_grid = param_test2, scoring='roc_auc',iid=False, cv=5)\n",
    "gsearch2.fit(X,y)\n",
    "gsearch2.grid_scores_, gsearch2.best_params_, gsearch2.best_score_"
   ]
  },
  {
   "cell_type": "markdown",
   "metadata": {},
   "source": [
    "## The second fit model"
   ]
  },
  {
   "cell_type": "code",
   "execution_count": 25,
   "metadata": {},
   "outputs": [
    {
     "data": {
      "text/plain": [
       "RandomForestClassifier(bootstrap=True, class_weight=None, criterion='gini',\n",
       "            max_depth=13, max_features='sqrt', max_leaf_nodes=None,\n",
       "            min_impurity_split=1e-07, min_samples_leaf=20,\n",
       "            min_samples_split=110, min_weight_fraction_leaf=0.0,\n",
       "            n_estimators=60, n_jobs=1, oob_score=True, random_state=10,\n",
       "            verbose=0, warm_start=False)"
      ]
     },
     "execution_count": 25,
     "metadata": {},
     "output_type": "execute_result"
    }
   ],
   "source": [
    "rf1 = RandomForestClassifier(n_estimators= 60, max_depth=13, min_samples_split=110,\n",
    "                                  min_samples_leaf=20,max_features='sqrt' ,oob_score=True, random_state=10)\n",
    "rf1.fit(X,y)"
   ]
  },
  {
   "cell_type": "code",
   "execution_count": 26,
   "metadata": {},
   "outputs": [
    {
     "data": {
      "text/plain": [
       "(0.98399999999999999, 0.98004999999999998)"
      ]
     },
     "execution_count": 26,
     "metadata": {},
     "output_type": "execute_result"
    }
   ],
   "source": [
    "rf1.oob_score_, rf0.oob_score_ # 袋外分数有一定的提高。也就是时候模型的泛化能力增强了"
   ]
  },
  {
   "cell_type": "code",
   "execution_count": 28,
   "metadata": {},
   "outputs": [
    {
     "data": {
      "image/png": "[encoded data removed]",
      "text/plain": [
       "<matplotlib.figure.Figure at 0x1b0fc8e3fd0>"
      ]
     },
     "metadata": {},
     "output_type": "display_data"
    }
   ],
   "source": [
    "feat_imp1 = pd.Series(rf1.feature_importances_, x_columns).sort_values(ascending=False)\n",
    "feat_imp1.plot(kind='bar', title='Feature Importances', color='green')\n",
    "plt.ylabel('Feature Importance Score')\n",
    "plt.show()"
   ]
  },
  {
   "cell_type": "markdown",
   "metadata": {},
   "source": [
    "## Tune min_samples_split and min_samples_leaf"
   ]
  },
  {
   "cell_type": "code",
   "execution_count": 29,
   "metadata": {},
   "outputs": [
    {
     "data": {
      "text/plain": [
       "GridSearchCV(cv=5, error_score='raise',\n",
       "       estimator=RandomForestClassifier(bootstrap=True, class_weight=None, criterion='gini',\n",
       "            max_depth=13, max_features='sqrt', max_leaf_nodes=None,\n",
       "            min_impurity_split=1e-07, min_samples_leaf=1,\n",
       "            min_samples_split=2, min_weight_fraction_leaf=0.0,\n",
       "            n_estimators=60, n_jobs=1, oob_score=True, random_state=10,\n",
       "            verbose=0, warm_start=False),\n",
       "       fit_params={}, iid=False, n_jobs=1,\n",
       "       param_grid={'min_samples_split': array([ 80, 100, 120, 140]), 'min_samples_leaf': array([10, 20, 30, 40, 50])},\n",
       "       pre_dispatch='2*n_jobs', refit=True, scoring='roc_auc', verbose=0)"
      ]
     },
     "execution_count": 29,
     "metadata": {},
     "output_type": "execute_result"
    }
   ],
   "source": [
    "param_test3 = {'min_samples_split':np.arange(80,150,20), 'min_samples_leaf':np.arange(10,60,10)}\n",
    "gsearch3 = GridSearchCV(estimator = RandomForestClassifier(n_estimators= 60, max_depth=13,\n",
    "                        max_features='sqrt' ,oob_score=True, random_state=10),\n",
    "                        param_grid = param_test3, scoring='roc_auc',iid=False, cv=5)\n",
    "# If iid=True, the data is assumed to be identically distributed across the folds, and the loss minimized is the total loss per sample, and not the mean loss across the folds.\n",
    "gsearch3.fit(X,y)"
   ]
  },
  {
   "cell_type": "code",
   "execution_count": 30,
   "metadata": {},
   "outputs": [
    {
     "data": {
      "text/plain": [
       "([mean: 0.82093, std: 0.02287, params: {'min_samples_leaf': 10, 'min_samples_split': 80},\n",
       "  mean: 0.81913, std: 0.02141, params: {'min_samples_leaf': 10, 'min_samples_split': 100},\n",
       "  mean: 0.82048, std: 0.02328, params: {'min_samples_leaf': 10, 'min_samples_split': 120},\n",
       "  mean: 0.81798, std: 0.02099, params: {'min_samples_leaf': 10, 'min_samples_split': 140},\n",
       "  mean: 0.82094, std: 0.02535, params: {'min_samples_leaf': 20, 'min_samples_split': 80},\n",
       "  mean: 0.82097, std: 0.02327, params: {'min_samples_leaf': 20, 'min_samples_split': 100},\n",
       "  mean: 0.82487, std: 0.02110, params: {'min_samples_leaf': 20, 'min_samples_split': 120},\n",
       "  mean: 0.82169, std: 0.02406, params: {'min_samples_leaf': 20, 'min_samples_split': 140},\n",
       "  mean: 0.82352, std: 0.02271, params: {'min_samples_leaf': 30, 'min_samples_split': 80},\n",
       "  mean: 0.82164, std: 0.02381, params: {'min_samples_leaf': 30, 'min_samples_split': 100},\n",
       "  mean: 0.82070, std: 0.02528, params: {'min_samples_leaf': 30, 'min_samples_split': 120},\n",
       "  mean: 0.82141, std: 0.02508, params: {'min_samples_leaf': 30, 'min_samples_split': 140},\n",
       "  mean: 0.82278, std: 0.02294, params: {'min_samples_leaf': 40, 'min_samples_split': 80},\n",
       "  mean: 0.82141, std: 0.02547, params: {'min_samples_leaf': 40, 'min_samples_split': 100},\n",
       "  mean: 0.82043, std: 0.02724, params: {'min_samples_leaf': 40, 'min_samples_split': 120},\n",
       "  mean: 0.82162, std: 0.02348, params: {'min_samples_leaf': 40, 'min_samples_split': 140},\n",
       "  mean: 0.82225, std: 0.02431, params: {'min_samples_leaf': 50, 'min_samples_split': 80},\n",
       "  mean: 0.82225, std: 0.02431, params: {'min_samples_leaf': 50, 'min_samples_split': 100},\n",
       "  mean: 0.81890, std: 0.02458, params: {'min_samples_leaf': 50, 'min_samples_split': 120},\n",
       "  mean: 0.81917, std: 0.02528, params: {'min_samples_leaf': 50, 'min_samples_split': 140}],\n",
       " {'min_samples_leaf': 20, 'min_samples_split': 120},\n",
       " 0.8248650279471544)"
      ]
     },
     "execution_count": 30,
     "metadata": {},
     "output_type": "execute_result"
    }
   ],
   "source": [
    "gsearch3.grid_scores_, gsearch3.best_params_, gsearch3.best_score_"
   ]
  },
  {
   "cell_type": "markdown",
   "metadata": {},
   "source": [
    "## Tune max_features"
   ]
  },
  {
   "cell_type": "code",
   "execution_count": 31,
   "metadata": {},
   "outputs": [
    {
     "data": {
      "text/plain": [
       "array([3, 5, 7, 9])"
      ]
     },
     "execution_count": 31,
     "metadata": {},
     "output_type": "execute_result"
    }
   ],
   "source": [
    "np.arange(3,11,2)"
   ]
  },
  {
   "cell_type": "code",
   "execution_count": 32,
   "metadata": {},
   "outputs": [
    {
     "data": {
      "text/plain": [
       "GridSearchCV(cv=5, error_score='raise',\n",
       "       estimator=RandomForestClassifier(bootstrap=True, class_weight=None, criterion='gini',\n",
       "            max_depth=13, max_features='auto', max_leaf_nodes=None,\n",
       "            min_impurity_split=1e-07, min_samples_leaf=20,\n",
       "            min_samples_split=120, min_weight_fraction_leaf=0.0,\n",
       "            n_estimators=60, n_jobs=1, oob_score=True, random_state=10,\n",
       "            verbose=0, warm_start=False),\n",
       "       fit_params={}, iid=False, n_jobs=1,\n",
       "       param_grid={'max_features': array([3, 5, 7, 9])},\n",
       "       pre_dispatch='2*n_jobs', refit=True, scoring='roc_auc', verbose=0)"
      ]
     },
     "execution_count": 32,
     "metadata": {},
     "output_type": "execute_result"
    }
   ],
   "source": [
    "param_test4 = {'max_features':np.arange(3,11,2)}\n",
    "gsearch4 = GridSearchCV(estimator = RandomForestClassifier(n_estimators= 60, max_depth=13, min_samples_split=120,\n",
    "                                  min_samples_leaf=20 ,oob_score=True, random_state=10),\n",
    "                                  param_grid = param_test4, scoring='roc_auc',iid=False, cv=5)\n",
    "gsearch4.fit(X,y)"
   ]
  },
  {
   "cell_type": "code",
   "execution_count": 33,
   "metadata": {},
   "outputs": [
    {
     "data": {
      "text/plain": [
       "([mean: 0.81981, std: 0.02586, params: {'max_features': 3},\n",
       "  mean: 0.81639, std: 0.02533, params: {'max_features': 5},\n",
       "  mean: 0.82487, std: 0.02110, params: {'max_features': 7},\n",
       "  mean: 0.81704, std: 0.02209, params: {'max_features': 9}],\n",
       " {'max_features': 7},\n",
       " 0.8248650279471544)"
      ]
     },
     "execution_count": 33,
     "metadata": {},
     "output_type": "execute_result"
    }
   ],
   "source": [
    "gsearch4.grid_scores_, gsearch4.best_params_, gsearch4.best_score_"
   ]
  },
  {
   "cell_type": "markdown",
   "metadata": {},
   "source": [
    "## Final model"
   ]
  },
  {
   "cell_type": "code",
   "execution_count": 34,
   "metadata": {},
   "outputs": [
    {
     "data": {
      "text/plain": [
       "RandomForestClassifier(bootstrap=True, class_weight=None, criterion='gini',\n",
       "            max_depth=13, max_features=7, max_leaf_nodes=None,\n",
       "            min_impurity_split=1e-07, min_samples_leaf=20,\n",
       "            min_samples_split=120, min_weight_fraction_leaf=0.0,\n",
       "            n_estimators=60, n_jobs=1, oob_score=True, random_state=10,\n",
       "            verbose=0, warm_start=False)"
      ]
     },
     "execution_count": 34,
     "metadata": {},
     "output_type": "execute_result"
    }
   ],
   "source": [
    "rf2 = RandomForestClassifier(n_estimators= 60, max_depth=13, min_samples_split=120,\n",
    "                                  min_samples_leaf=20,max_features=7 ,oob_score=True, random_state=10)\n",
    "rf2.fit(X,y)"
   ]
  },
  {
   "cell_type": "code",
   "execution_count": 35,
   "metadata": {},
   "outputs": [
    {
     "data": {
      "text/plain": [
       "(0.98399999999999999, 0.98399999999999999, 0.98004999999999998)"
      ]
     },
     "execution_count": 35,
     "metadata": {},
     "output_type": "execute_result"
    }
   ],
   "source": [
    "rf2.oob_score_, rf1.oob_score_, rf0.oob_score_\n",
    "# 模型的袋外分数基本没有提高，主要原因是0.984已经是一个很高的袋外分数了，如果想进一步需要提高模型的泛化能力，我们需要更多的数据。"
   ]
  },
  {
   "cell_type": "code",
   "execution_count": 76,
   "metadata": {},
   "outputs": [
    {
     "data": {
      "image/png": "[encoded data removed]",
      "text/plain": [
       "<matplotlib.figure.Figure at 0x1b0fc8da198>"
      ]
     },
     "metadata": {},
     "output_type": "display_data"
    }
   ],
   "source": [
    "feat_imp2 = pd.Series(rf2.feature_importances_, x_columns).sort_values(ascending=False)\n",
    "feat_imp2.plot(kind='bar', title='Feature Importances', color='yellow')\n",
    "plt.ylabel('Feature Importance Score')\n",
    "plt.show()"
   ]
  },
  {
   "cell_type": "markdown",
   "metadata": {},
   "source": [
    "# GBM Models\n",
    "\n",
    "GradientBoostingClassifier(loss=’deviance’, learning_rate=0.1, n_estimators=100, subsample=1.0, criterion=’friedman_mse’, min_samples_split=2, min_samples_leaf=1, min_weight_fraction_leaf=0.0, max_depth=3, min_impurity_decrease=0.0, min_impurity_split=None, init=None, random_state=None, max_features=None, verbose=0, max_leaf_nodes=None, warm_start=False, presort=’auto’)\n",
    "\n",
    "There 2 types of parameters here:\n",
    "1. Tree-specific parameters\n",
    "  * min_samples_split\n",
    "  * min_samples_leaf\n",
    "  * max_depth\n",
    "  * min_leaf_nodes\n",
    "  * max_features\n",
    "  * loss function\n",
    "2. Boosting specific paramters\n",
    "  * n_estimators\n",
    "  * learning_rate\n",
    "  * subsample"
   ]
  },
  {
   "cell_type": "markdown",
   "metadata": {},
   "source": [
    "## Approach for tackling the problem\n",
    "\n",
    "1. Decide a relatively higher value for learning rate and tune the number of estimators requried for that.\n",
    "2. Tune the tree specific parameters for that learning rate\n",
    "3. Tune subsample\n",
    "4. Lower learning rate as much as possible computationally and increase the number of estimators accordingly."
   ]
  },
  {
   "cell_type": "markdown",
   "metadata": {},
   "source": [
    "## Baseline Model\n",
    "Since here the criteria is AUC, simply predicting the most prominent class would give an AUC of 0.5 always. Another way of getting a baseline model is to use the algorithm without tuning, i.e. with default parameters."
   ]
  },
  {
   "cell_type": "code",
   "execution_count": 36,
   "metadata": {},
   "outputs": [
    {
     "data": {
      "text/plain": [
       "GradientBoostingClassifier(criterion='friedman_mse', init=None,\n",
       "              learning_rate=0.1, loss='deviance', max_depth=3,\n",
       "              max_features=None, max_leaf_nodes=None,\n",
       "              min_impurity_split=1e-07, min_samples_leaf=1,\n",
       "              min_samples_split=2, min_weight_fraction_leaf=0.0,\n",
       "              n_estimators=100, presort='auto', random_state=10,\n",
       "              subsample=1.0, verbose=0, warm_start=False)"
      ]
     },
     "execution_count": 36,
     "metadata": {},
     "output_type": "execute_result"
    }
   ],
   "source": [
    "#Choose all predictors except target & IDcols\n",
    "gbm0 = GradientBoostingClassifier(random_state=10)\n",
    "gbm0.fit(X,y)"
   ]
  },
  {
   "cell_type": "code",
   "execution_count": 38,
   "metadata": {
    "collapsed": true
   },
   "outputs": [],
   "source": [
    "y_pred = gbm0.predict(X)\n",
    "y_predprob = gbm0.predict_proba(X)[:,1]"
   ]
  },
  {
   "cell_type": "code",
   "execution_count": 42,
   "metadata": {},
   "outputs": [
    {
     "data": {
      "text/plain": [
       "(0.98524999999999996, 0.90053091653963413)"
      ]
     },
     "execution_count": 42,
     "metadata": {},
     "output_type": "execute_result"
    }
   ],
   "source": [
    "accuracy_score(y.values, y_pred), roc_auc_score(y, y_predprob)"
   ]
  },
  {
   "cell_type": "code",
   "execution_count": 41,
   "metadata": {
    "scrolled": true
   },
   "outputs": [
    {
     "data": {
      "text/plain": [
       "array([ 0.00752626,  0.0270393 ,  0.00507962,  0.00607838,  0.03115941,\n",
       "        0.04761133,  0.03702955,  0.00279068,  0.08159529,  0.00920809])"
      ]
     },
     "execution_count": 41,
     "metadata": {},
     "output_type": "execute_result"
    }
   ],
   "source": [
    "y_predprob[:10]"
   ]
  },
  {
   "cell_type": "code",
   "execution_count": 43,
   "metadata": {},
   "outputs": [
    {
     "data": {
      "text/plain": [
       "array([0, 0, 0, ..., 0, 0, 0], dtype=int64)"
      ]
     },
     "execution_count": 43,
     "metadata": {},
     "output_type": "execute_result"
    }
   ],
   "source": [
    "y.values"
   ]
  },
  {
   "cell_type": "markdown",
   "metadata": {},
   "source": [
    "## Find the number of estimators for a high learning rate\n",
    "\n",
    "We will use the following benchmarks for parameters:\n",
    "1. min_samples_split = 500 : ~0.5-1% of total values. Since this is imbalanced class problem, we'll take small value\n",
    "2. min_samples_leaf = 50 : Just using for preventing overfitting. will be tuned later.\n",
    "3. max_depth = 8 : since high number of observations and predictors, choose relatively high value\n",
    "4. max_features = 'sqrt' : general thumbrule to start with\n",
    "5. subsample = 0.8 : typically used value (will be tuned later)\n",
    "\n",
    "0.1 is assumed to be a good learning rate to start with. Let's try to find the optimum number of estimators requried for this."
   ]
  },
  {
   "cell_type": "code",
   "execution_count": 46,
   "metadata": {},
   "outputs": [
    {
     "data": {
      "text/plain": [
       "GridSearchCV(cv=5, error_score='raise',\n",
       "       estimator=GradientBoostingClassifier(criterion='friedman_mse', init=None,\n",
       "              learning_rate=0.1, loss='deviance', max_depth=8,\n",
       "              max_features='sqrt', max_leaf_nodes=None,\n",
       "              min_impurity_split=1e-07, min_samples_leaf=20,\n",
       "              min_samples_split=300, min_weight_fraction_leaf=0.0,\n",
       "              n_estimators=100, presort='auto', random_state=10,\n",
       "              subsample=0.8, verbose=0, warm_start=False),\n",
       "       fit_params={}, iid=False, n_jobs=1,\n",
       "       param_grid={'n_estimators': array([20, 30, 40, 50, 60, 70, 80])},\n",
       "       pre_dispatch='2*n_jobs', refit=True, scoring='roc_auc', verbose=0)"
      ]
     },
     "execution_count": 46,
     "metadata": {},
     "output_type": "execute_result"
    }
   ],
   "source": [
    "#Choose all predictors except target & IDcols\n",
    "param_test1 = {'n_estimators':np.arange(20,81,10)}\n",
    "gsearch1 = GridSearchCV(estimator = GradientBoostingClassifier(learning_rate=0.1, min_samples_split=300,\n",
    "                       min_samples_leaf=20,max_depth=8,max_features='sqrt', subsample=0.8,random_state=10), \n",
    "                       param_grid = param_test1, scoring='roc_auc', iid=False, cv=5)\n",
    "gsearch1.fit(X,y)"
   ]
  },
  {
   "cell_type": "code",
   "execution_count": 47,
   "metadata": {},
   "outputs": [
    {
     "data": {
      "text/plain": [
       "([mean: 0.81285, std: 0.01967, params: {'n_estimators': 20},\n",
       "  mean: 0.81438, std: 0.01947, params: {'n_estimators': 30},\n",
       "  mean: 0.81451, std: 0.01933, params: {'n_estimators': 40},\n",
       "  mean: 0.81618, std: 0.01848, params: {'n_estimators': 50},\n",
       "  mean: 0.81779, std: 0.01736, params: {'n_estimators': 60},\n",
       "  mean: 0.81533, std: 0.01900, params: {'n_estimators': 70},\n",
       "  mean: 0.81322, std: 0.01860, params: {'n_estimators': 80}],\n",
       " {'n_estimators': 60},\n",
       " 0.8177893165650406)"
      ]
     },
     "execution_count": 47,
     "metadata": {},
     "output_type": "execute_result"
    }
   ],
   "source": [
    "gsearch1.grid_scores_, gsearch1.best_params_, gsearch1.best_score_"
   ]
  },
  {
   "cell_type": "markdown",
   "metadata": {},
   "source": [
    "So we got 60 as the optimal estimators for the 0.1 learning rate. Note that 60 is a reasonable value and can be used as it is. But it might not be the same in all cases. Other situations:\n",
    "1. If the value is around 20, you might want to try lowering the learning rate to 0.05 and re-run grid search\n",
    "2. If the values are too high ~100, tuning the other parameters will take long time and you can try a higher learning rate\n",
    "\n",
    "## Tune tree-specific parameters\n",
    "Now, lets move onto tuning the tree parameters. We will do this in 2 stages:\n",
    "1. Tune max_depth and num_samples_split\n",
    "2. Tune min_samples_leaf\n",
    "3. Tune max_features"
   ]
  },
  {
   "cell_type": "code",
   "execution_count": 48,
   "metadata": {},
   "outputs": [
    {
     "data": {
      "text/plain": [
       "GridSearchCV(cv=5, error_score='raise',\n",
       "       estimator=GradientBoostingClassifier(criterion='friedman_mse', init=None,\n",
       "              learning_rate=0.1, loss='deviance', max_depth=3,\n",
       "              max_features='sqrt', max_leaf_nodes=None,\n",
       "              min_impurity_split=1e-07, min_samples_leaf=20,\n",
       "              min_samples_split=2, min_weight_fraction_leaf=0.0,\n",
       "              n_estimators=60, presort='auto', random_state=10,\n",
       "              subsample=0.8, verbose=0, warm_start=False),\n",
       "       fit_params={}, iid=False, n_jobs=1,\n",
       "       param_grid={'max_depth': array([ 3,  5,  7,  9, 11, 13]), 'min_samples_split': array([100, 300, 500, 700])},\n",
       "       pre_dispatch='2*n_jobs', refit=True, scoring='roc_auc', verbose=0)"
      ]
     },
     "execution_count": 48,
     "metadata": {},
     "output_type": "execute_result"
    }
   ],
   "source": [
    "#Grid seach on subsample and max_features\n",
    "param_test2 = {'max_depth':np.arange(3,14,2), 'min_samples_split':np.arange(100,801,200)}\n",
    "gsearch2 = GridSearchCV(estimator = GradientBoostingClassifier(learning_rate=0.1, n_estimators=60, min_samples_leaf=20,\n",
    "                        max_features='sqrt', subsample=0.8, random_state=10), \n",
    "                        param_grid = param_test2, scoring='roc_auc',iid=False, cv=5)\n",
    "gsearch2.fit(X, y)"
   ]
  },
  {
   "cell_type": "code",
   "execution_count": 49,
   "metadata": {},
   "outputs": [
    {
     "data": {
      "text/plain": [
       "([mean: 0.81199, std: 0.02073, params: {'max_depth': 3, 'min_samples_split': 100},\n",
       "  mean: 0.81267, std: 0.01985, params: {'max_depth': 3, 'min_samples_split': 300},\n",
       "  mean: 0.81238, std: 0.01937, params: {'max_depth': 3, 'min_samples_split': 500},\n",
       "  mean: 0.80925, std: 0.02051, params: {'max_depth': 3, 'min_samples_split': 700},\n",
       "  mean: 0.81846, std: 0.01843, params: {'max_depth': 5, 'min_samples_split': 100},\n",
       "  mean: 0.81630, std: 0.01810, params: {'max_depth': 5, 'min_samples_split': 300},\n",
       "  mean: 0.81315, std: 0.01898, params: {'max_depth': 5, 'min_samples_split': 500},\n",
       "  mean: 0.81262, std: 0.02090, params: {'max_depth': 5, 'min_samples_split': 700},\n",
       "  mean: 0.81807, std: 0.02004, params: {'max_depth': 7, 'min_samples_split': 100},\n",
       "  mean: 0.82137, std: 0.01733, params: {'max_depth': 7, 'min_samples_split': 300},\n",
       "  mean: 0.81703, std: 0.01773, params: {'max_depth': 7, 'min_samples_split': 500},\n",
       "  mean: 0.81383, std: 0.02327, params: {'max_depth': 7, 'min_samples_split': 700},\n",
       "  mean: 0.81107, std: 0.02178, params: {'max_depth': 9, 'min_samples_split': 100},\n",
       "  mean: 0.80944, std: 0.02612, params: {'max_depth': 9, 'min_samples_split': 300},\n",
       "  mean: 0.81476, std: 0.01973, params: {'max_depth': 9, 'min_samples_split': 500},\n",
       "  mean: 0.81601, std: 0.02576, params: {'max_depth': 9, 'min_samples_split': 700},\n",
       "  mean: 0.81101, std: 0.02222, params: {'max_depth': 11, 'min_samples_split': 100},\n",
       "  mean: 0.81309, std: 0.02696, params: {'max_depth': 11, 'min_samples_split': 300},\n",
       "  mean: 0.81713, std: 0.02379, params: {'max_depth': 11, 'min_samples_split': 500},\n",
       "  mean: 0.81347, std: 0.02702, params: {'max_depth': 11, 'min_samples_split': 700},\n",
       "  mean: 0.81484, std: 0.01776, params: {'max_depth': 13, 'min_samples_split': 100},\n",
       "  mean: 0.80825, std: 0.02291, params: {'max_depth': 13, 'min_samples_split': 300},\n",
       "  mean: 0.81923, std: 0.01693, params: {'max_depth': 13, 'min_samples_split': 500},\n",
       "  mean: 0.81382, std: 0.02258, params: {'max_depth': 13, 'min_samples_split': 700}],\n",
       " {'max_depth': 7, 'min_samples_split': 300},\n",
       " 0.8213724275914632)"
      ]
     },
     "execution_count": 49,
     "metadata": {},
     "output_type": "execute_result"
    }
   ],
   "source": [
    "gsearch2.grid_scores_, gsearch2.best_params_, gsearch2.best_score_"
   ]
  },
  {
   "cell_type": "markdown",
   "metadata": {},
   "source": [
    "Since we reached the maximum of min_sales_split, we should check higher values as well. Also, we can tune min_samples_leaf with it now as max_depth is fixed. One might argue that max depth might change for higher value but if you observe the output closely, a max_depth of 9 had a better model for most of cases.\n",
    "So lets perform a grid search on them:"
   ]
  },
  {
   "cell_type": "code",
   "execution_count": 51,
   "metadata": {},
   "outputs": [
    {
     "data": {
      "text/plain": [
       "GridSearchCV(cv=5, error_score='raise',\n",
       "       estimator=GradientBoostingClassifier(criterion='friedman_mse', init=None,\n",
       "              learning_rate=0.1, loss='deviance', max_depth=7,\n",
       "              max_features='sqrt', max_leaf_nodes=None,\n",
       "              min_impurity_split=1e-07, min_samples_leaf=1,\n",
       "              min_samples_split=2, min_weight_fraction_leaf=0.0,\n",
       "              n_estimators=60, presort='auto', random_state=10,\n",
       "              subsample=0.8, verbose=0, warm_start=False),\n",
       "       fit_params={}, iid=False, n_jobs=1,\n",
       "       param_grid={'min_samples_split': array([ 800, 1000, 1200, 1400, 1600, 1800]), 'min_samples_leaf': array([ 60,  70,  80,  90, 100])},\n",
       "       pre_dispatch='2*n_jobs', refit=True, scoring='roc_auc', verbose=0)"
      ]
     },
     "execution_count": 51,
     "metadata": {},
     "output_type": "execute_result"
    }
   ],
   "source": [
    "#Grid seach on subsample and max_features\n",
    "param_test3 = {'min_samples_split':np.arange(800,1900,200), 'min_samples_leaf':np.arange(60,101,10)}\n",
    "gsearch3 = GridSearchCV(estimator = GradientBoostingClassifier(learning_rate=0.1, n_estimators=60,max_depth=7,\n",
    "                                     max_features='sqrt', subsample=0.8, random_state=10), \n",
    "                       param_grid = param_test3, scoring='roc_auc',iid=False, cv=5)\n",
    "gsearch3.fit(X,y)"
   ]
  },
  {
   "cell_type": "code",
   "execution_count": 52,
   "metadata": {},
   "outputs": [
    {
     "data": {
      "text/plain": [
       "([mean: 0.81828, std: 0.02251, params: {'min_samples_leaf': 60, 'min_samples_split': 800},\n",
       "  mean: 0.81731, std: 0.02344, params: {'min_samples_leaf': 60, 'min_samples_split': 1000},\n",
       "  mean: 0.82220, std: 0.02250, params: {'min_samples_leaf': 60, 'min_samples_split': 1200},\n",
       "  mean: 0.81447, std: 0.02125, params: {'min_samples_leaf': 60, 'min_samples_split': 1400},\n",
       "  mean: 0.81495, std: 0.01626, params: {'min_samples_leaf': 60, 'min_samples_split': 1600},\n",
       "  mean: 0.81528, std: 0.02140, params: {'min_samples_leaf': 60, 'min_samples_split': 1800},\n",
       "  mean: 0.81590, std: 0.02517, params: {'min_samples_leaf': 70, 'min_samples_split': 800},\n",
       "  mean: 0.81573, std: 0.02207, params: {'min_samples_leaf': 70, 'min_samples_split': 1000},\n",
       "  mean: 0.82021, std: 0.02521, params: {'min_samples_leaf': 70, 'min_samples_split': 1200},\n",
       "  mean: 0.81512, std: 0.01995, params: {'min_samples_leaf': 70, 'min_samples_split': 1400},\n",
       "  mean: 0.81395, std: 0.02081, params: {'min_samples_leaf': 70, 'min_samples_split': 1600},\n",
       "  mean: 0.81587, std: 0.02082, params: {'min_samples_leaf': 70, 'min_samples_split': 1800},\n",
       "  mean: 0.82064, std: 0.02698, params: {'min_samples_leaf': 80, 'min_samples_split': 800},\n",
       "  mean: 0.81490, std: 0.02475, params: {'min_samples_leaf': 80, 'min_samples_split': 1000},\n",
       "  mean: 0.82009, std: 0.02568, params: {'min_samples_leaf': 80, 'min_samples_split': 1200},\n",
       "  mean: 0.81850, std: 0.02226, params: {'min_samples_leaf': 80, 'min_samples_split': 1400},\n",
       "  mean: 0.81855, std: 0.02099, params: {'min_samples_leaf': 80, 'min_samples_split': 1600},\n",
       "  mean: 0.81666, std: 0.02249, params: {'min_samples_leaf': 80, 'min_samples_split': 1800},\n",
       "  mean: 0.81960, std: 0.02437, params: {'min_samples_leaf': 90, 'min_samples_split': 800},\n",
       "  mean: 0.81560, std: 0.02235, params: {'min_samples_leaf': 90, 'min_samples_split': 1000},\n",
       "  mean: 0.81936, std: 0.02542, params: {'min_samples_leaf': 90, 'min_samples_split': 1200},\n",
       "  mean: 0.81362, std: 0.02254, params: {'min_samples_leaf': 90, 'min_samples_split': 1400},\n",
       "  mean: 0.81429, std: 0.02417, params: {'min_samples_leaf': 90, 'min_samples_split': 1600},\n",
       "  mean: 0.81299, std: 0.02262, params: {'min_samples_leaf': 90, 'min_samples_split': 1800},\n",
       "  mean: 0.82000, std: 0.02511, params: {'min_samples_leaf': 100, 'min_samples_split': 800},\n",
       "  mean: 0.82209, std: 0.01816, params: {'min_samples_leaf': 100, 'min_samples_split': 1000},\n",
       "  mean: 0.81821, std: 0.02337, params: {'min_samples_leaf': 100, 'min_samples_split': 1200},\n",
       "  mean: 0.81922, std: 0.02377, params: {'min_samples_leaf': 100, 'min_samples_split': 1400},\n",
       "  mean: 0.81545, std: 0.02221, params: {'min_samples_leaf': 100, 'min_samples_split': 1600},\n",
       "  mean: 0.81704, std: 0.02509, params: {'min_samples_leaf': 100, 'min_samples_split': 1800}],\n",
       " {'min_samples_leaf': 60, 'min_samples_split': 1200},\n",
       " 0.8222032996697154)"
      ]
     },
     "execution_count": 52,
     "metadata": {},
     "output_type": "execute_result"
    }
   ],
   "source": [
    "gsearch3.grid_scores_, gsearch3.best_params_, gsearch3.best_score_"
   ]
  },
  {
   "cell_type": "markdown",
   "metadata": {},
   "source": [
    "## The second fit model"
   ]
  },
  {
   "cell_type": "code",
   "execution_count": 53,
   "metadata": {},
   "outputs": [
    {
     "data": {
      "text/plain": [
       "GradientBoostingClassifier(criterion='friedman_mse', init=None,\n",
       "              learning_rate=0.1, loss='deviance', max_depth=7,\n",
       "              max_features='sqrt', max_leaf_nodes=None,\n",
       "              min_impurity_split=1e-07, min_samples_leaf=60,\n",
       "              min_samples_split=1200, min_weight_fraction_leaf=0.0,\n",
       "              n_estimators=60, presort='auto', random_state=10,\n",
       "              subsample=0.8, verbose=0, warm_start=False)"
      ]
     },
     "execution_count": 53,
     "metadata": {},
     "output_type": "execute_result"
    }
   ],
   "source": [
    "gbm1 = GradientBoostingClassifier(learning_rate=0.1, n_estimators=60,max_depth=7, min_samples_leaf =60, \n",
    "               min_samples_split =1200, max_features='sqrt', subsample=0.8, random_state=10)\n",
    "gbm1.fit(X,y)"
   ]
  },
  {
   "cell_type": "code",
   "execution_count": 54,
   "metadata": {},
   "outputs": [
    {
     "data": {
      "text/plain": [
       "(0.98399999999999999, 0.90809872014735771)"
      ]
     },
     "execution_count": 54,
     "metadata": {},
     "output_type": "execute_result"
    }
   ],
   "source": [
    "y_pred1 = gbm1.predict(X)\n",
    "y_predprob1 = gbm1.predict_proba(X)[:,1]\n",
    "accuracy_score(y.values, y_pred1), roc_auc_score(y, y_predprob1)\n",
    "# 对比我们最开始完全不调参的拟合效果，可见精确度稍有下降，主要原理是我们使用了0.8的子采样，20%的数据没有参与拟合。"
   ]
  },
  {
   "cell_type": "code",
   "execution_count": 55,
   "metadata": {},
   "outputs": [
    {
     "data": {
      "text/plain": [
       "(0.98524999999999996, 0.90053091653963413)"
      ]
     },
     "execution_count": 55,
     "metadata": {},
     "output_type": "execute_result"
    }
   ],
   "source": [
    "accuracy_score(y.values, y_pred), roc_auc_score(y, y_predprob)"
   ]
  },
  {
   "cell_type": "markdown",
   "metadata": {},
   "source": [
    "## Tune max_features"
   ]
  },
  {
   "cell_type": "code",
   "execution_count": 57,
   "metadata": {
    "scrolled": true
   },
   "outputs": [
    {
     "data": {
      "text/plain": [
       "GridSearchCV(cv=5, error_score='raise',\n",
       "       estimator=GradientBoostingClassifier(criterion='friedman_mse', init=None,\n",
       "              learning_rate=0.1, loss='deviance', max_depth=7,\n",
       "              max_features=None, max_leaf_nodes=None,\n",
       "              min_impurity_split=1e-07, min_samples_leaf=60,\n",
       "              min_samples_split=1200, min_weight_fraction_leaf=0.0,\n",
       "              n_estimators=60, presort='auto', random_state=10,\n",
       "              subsample=0.8, verbose=0, warm_start=False),\n",
       "       fit_params={}, iid=False, n_jobs=4,\n",
       "       param_grid={'max_features': array([ 7,  9, 11, 13, 15, 17, 19])},\n",
       "       pre_dispatch='2*n_jobs', refit=True, scoring='roc_auc', verbose=0)"
      ]
     },
     "execution_count": 57,
     "metadata": {},
     "output_type": "execute_result"
    }
   ],
   "source": [
    "#Grid seach on subsample and max_features\n",
    "param_test4 = {'max_features':np.arange(7,20,2)}\n",
    "gsearch4 = GridSearchCV(estimator = GradientBoostingClassifier(learning_rate=0.1, n_estimators=60,max_depth=7, \n",
    "                            min_samples_split=1200, min_samples_leaf=60, subsample=0.8, random_state=10),\n",
    "                       param_grid = param_test4, scoring='roc_auc',n_jobs=4,iid=False, cv=5)\n",
    "gsearch4.fit(X, y)"
   ]
  },
  {
   "cell_type": "code",
   "execution_count": 58,
   "metadata": {},
   "outputs": [
    {
     "data": {
      "text/plain": [
       "([mean: 0.82220, std: 0.02250, params: {'max_features': 7},\n",
       "  mean: 0.82241, std: 0.02421, params: {'max_features': 9},\n",
       "  mean: 0.82108, std: 0.02302, params: {'max_features': 11},\n",
       "  mean: 0.82064, std: 0.01900, params: {'max_features': 13},\n",
       "  mean: 0.82198, std: 0.01514, params: {'max_features': 15},\n",
       "  mean: 0.81355, std: 0.02053, params: {'max_features': 17},\n",
       "  mean: 0.81877, std: 0.01863, params: {'max_features': 19}],\n",
       " {'max_features': 9},\n",
       " 0.822412506351626)"
      ]
     },
     "execution_count": 58,
     "metadata": {},
     "output_type": "execute_result"
    }
   ],
   "source": [
    "gsearch4.grid_scores_, gsearch4.best_params_, gsearch4.best_score_"
   ]
  },
  {
   "cell_type": "markdown",
   "metadata": {},
   "source": [
    "## Step3- Tune Subsample and Lower Learning Rate"
   ]
  },
  {
   "cell_type": "code",
   "execution_count": 59,
   "metadata": {},
   "outputs": [
    {
     "data": {
      "text/plain": [
       "GridSearchCV(cv=5, error_score='raise',\n",
       "       estimator=GradientBoostingClassifier(criterion='friedman_mse', init=None,\n",
       "              learning_rate=0.1, loss='deviance', max_depth=7,\n",
       "              max_features=9, max_leaf_nodes=None,\n",
       "              min_impurity_split=1e-07, min_samples_leaf=60,\n",
       "              min_samples_split=1200, min_weight_fraction_leaf=0.0,\n",
       "              n_estimators=60, presort='auto', random_state=10,\n",
       "              subsample=0.8, verbose=0, warm_start=False),\n",
       "       fit_params={}, iid=False, n_jobs=4,\n",
       "       param_grid={'subsample': [0.6, 0.7, 0.75, 0.8, 0.85, 0.9]},\n",
       "       pre_dispatch='2*n_jobs', refit=True, scoring='roc_auc', verbose=0)"
      ]
     },
     "execution_count": 59,
     "metadata": {},
     "output_type": "execute_result"
    }
   ],
   "source": [
    "#Grid seach on subsample and max_features\n",
    "param_test5 = {'subsample':[0.6,0.7,0.75,0.8,0.85,0.9]}\n",
    "gsearch5 = GridSearchCV(estimator = GradientBoostingClassifier(learning_rate=0.1, n_estimators=60,max_depth=7, \n",
    "                            min_samples_split=1200, min_samples_leaf=60, subsample=0.8, random_state=10, max_features=9),\n",
    "                       param_grid = param_test5, scoring='roc_auc',n_jobs=4,iid=False, cv=5)\n",
    "gsearch5.fit(X, y)"
   ]
  },
  {
   "cell_type": "code",
   "execution_count": 60,
   "metadata": {},
   "outputs": [
    {
     "data": {
      "text/plain": [
       "([mean: 0.81828, std: 0.02392, params: {'subsample': 0.6},\n",
       "  mean: 0.82344, std: 0.02708, params: {'subsample': 0.7},\n",
       "  mean: 0.81673, std: 0.02196, params: {'subsample': 0.75},\n",
       "  mean: 0.82241, std: 0.02421, params: {'subsample': 0.8},\n",
       "  mean: 0.82285, std: 0.02446, params: {'subsample': 0.85},\n",
       "  mean: 0.81738, std: 0.02236, params: {'subsample': 0.9}],\n",
       " {'subsample': 0.7},\n",
       " 0.8234378969766262)"
      ]
     },
     "execution_count": 60,
     "metadata": {},
     "output_type": "execute_result"
    }
   ],
   "source": [
    "gsearch5.grid_scores_, gsearch5.best_params_, gsearch5.best_score_"
   ]
  },
  {
   "cell_type": "markdown",
   "metadata": {},
   "source": [
    "## The third fit model\n",
    "With all tuned lets try reducing the learning rate and proportionally increasing the number of estimators to get more robust results:"
   ]
  },
  {
   "cell_type": "code",
   "execution_count": 61,
   "metadata": {},
   "outputs": [
    {
     "data": {
      "text/plain": [
       "GradientBoostingClassifier(criterion='friedman_mse', init=None,\n",
       "              learning_rate=0.05, loss='deviance', max_depth=7,\n",
       "              max_features=9, max_leaf_nodes=None,\n",
       "              min_impurity_split=1e-07, min_samples_leaf=60,\n",
       "              min_samples_split=1200, min_weight_fraction_leaf=0.0,\n",
       "              n_estimators=120, presort='auto', random_state=10,\n",
       "              subsample=0.7, verbose=0, warm_start=False)"
      ]
     },
     "execution_count": 61,
     "metadata": {},
     "output_type": "execute_result"
    }
   ],
   "source": [
    "#Choose all predictors except target & IDcols\n",
    "gbm2 = GradientBoostingClassifier(learning_rate=0.05, n_estimators=120,max_depth=7, min_samples_split=1200, \n",
    "                                  min_samples_leaf=60, subsample=0.7, random_state=10, max_features=9)\n",
    "gbm2.fit(X,y)"
   ]
  },
  {
   "cell_type": "code",
   "execution_count": 62,
   "metadata": {},
   "outputs": [
    {
     "data": {
      "text/plain": [
       "(0.98399999999999999, 0.90532448869410564)"
      ]
     },
     "execution_count": 62,
     "metadata": {},
     "output_type": "execute_result"
    }
   ],
   "source": [
    "y_pred2 = gbm2.predict(X)\n",
    "y_predprob2 = gbm2.predict_proba(X)[:,1]\n",
    "accuracy_score(y.values, y_pred2), roc_auc_score(y, y_predprob2)"
   ]
  },
  {
   "cell_type": "code",
   "execution_count": 63,
   "metadata": {},
   "outputs": [
    {
     "data": {
      "text/plain": [
       "(0.98399999999999999, 0.98399999999999999, 0.98524999999999996)"
      ]
     },
     "execution_count": 63,
     "metadata": {},
     "output_type": "execute_result"
    }
   ],
   "source": [
    "accuracy_score(y.values, y_pred2), accuracy_score(y.values, y_pred1), accuracy_score(y.values, y_pred)"
   ]
  },
  {
   "cell_type": "code",
   "execution_count": 64,
   "metadata": {},
   "outputs": [
    {
     "data": {
      "text/plain": [
       "(0.90532448869410564, 0.90809872014735771, 0.90053091653963413)"
      ]
     },
     "execution_count": 64,
     "metadata": {},
     "output_type": "execute_result"
    }
   ],
   "source": [
    "roc_auc_score(y, y_predprob2), roc_auc_score(y, y_predprob1), roc_auc_score(y, y_predprob)"
   ]
  },
  {
   "cell_type": "markdown",
   "metadata": {},
   "source": [
    "AUC分数比起之前的版本稍有下降，这个原因是我们为了增加模型泛化能力，为防止过拟合而减半步长，最大迭代次数加倍，同时减小了子采样的比例，从而减少了训练集的拟合程度。"
   ]
  },
  {
   "cell_type": "markdown",
   "metadata": {},
   "source": [
    "## The fourth model--Tune learning rate 0.01"
   ]
  },
  {
   "cell_type": "code",
   "execution_count": 65,
   "metadata": {
    "scrolled": true
   },
   "outputs": [
    {
     "data": {
      "text/plain": [
       "GradientBoostingClassifier(criterion='friedman_mse', init=None,\n",
       "              learning_rate=0.01, loss='deviance', max_depth=7,\n",
       "              max_features=9, max_leaf_nodes=None,\n",
       "              min_impurity_split=1e-07, min_samples_leaf=60,\n",
       "              min_samples_split=1200, min_weight_fraction_leaf=0.0,\n",
       "              n_estimators=600, presort='auto', random_state=10,\n",
       "              subsample=0.7, verbose=0, warm_start=False)"
      ]
     },
     "execution_count": 65,
     "metadata": {},
     "output_type": "execute_result"
    }
   ],
   "source": [
    "gbm3 = GradientBoostingClassifier(learning_rate=0.01, n_estimators=600,max_depth=7, min_samples_split=1200, \n",
    "                                         min_samples_leaf=60, subsample=0.7, random_state=10, max_features=9)\n",
    "gbm3.fit(X,y)"
   ]
  },
  {
   "cell_type": "code",
   "execution_count": 66,
   "metadata": {},
   "outputs": [
    {
     "data": {
      "text/plain": [
       "(0.98399999999999999, 0.90858096735264238)"
      ]
     },
     "execution_count": 66,
     "metadata": {},
     "output_type": "execute_result"
    }
   ],
   "source": [
    "y_pred3 = gbm3.predict(X)\n",
    "y_predprob3 = gbm3.predict_proba(X)[:,1]\n",
    "accuracy_score(y.values, y_pred3), roc_auc_score(y, y_predprob3)"
   ]
  },
  {
   "cell_type": "code",
   "execution_count": 83,
   "metadata": {},
   "outputs": [
    {
     "data": {
      "text/plain": [
       "0.98399999999999999"
      ]
     },
     "execution_count": 83,
     "metadata": {},
     "output_type": "execute_result"
    }
   ],
   "source": [
    "gbm3.score(X, y)"
   ]
  },
  {
   "cell_type": "code",
   "execution_count": 67,
   "metadata": {},
   "outputs": [
    {
     "data": {
      "text/plain": [
       "(0.98399999999999999,\n",
       " 0.98399999999999999,\n",
       " 0.98399999999999999,\n",
       " 0.98524999999999996)"
      ]
     },
     "execution_count": 67,
     "metadata": {},
     "output_type": "execute_result"
    }
   ],
   "source": [
    "accuracy_score(y.values, y_pred3), accuracy_score(y.values, y_pred2), accuracy_score(y.values, y_pred1), accuracy_score(y.values, y_pred)"
   ]
  },
  {
   "cell_type": "code",
   "execution_count": 68,
   "metadata": {},
   "outputs": [
    {
     "data": {
      "text/plain": [
       "(0.90858096735264238,\n",
       " 0.90532448869410564,\n",
       " 0.90809872014735771,\n",
       " 0.90053091653963413)"
      ]
     },
     "execution_count": 68,
     "metadata": {},
     "output_type": "execute_result"
    }
   ],
   "source": [
    "roc_auc_score(y, y_predprob3), roc_auc_score(y, y_predprob2), roc_auc_score(y, y_predprob1), roc_auc_score(y, y_predprob)"
   ]
  },
  {
   "cell_type": "markdown",
   "metadata": {},
   "source": [
    "## The fifth fit model--1/50th learning rate"
   ]
  },
  {
   "cell_type": "code",
   "execution_count": 69,
   "metadata": {},
   "outputs": [
    {
     "data": {
      "text/plain": [
       "GradientBoostingClassifier(criterion='friedman_mse', init=None,\n",
       "              learning_rate=0.005, loss='deviance', max_depth=7,\n",
       "              max_features=9, max_leaf_nodes=None,\n",
       "              min_impurity_split=1e-07, min_samples_leaf=60,\n",
       "              min_samples_split=1200, min_weight_fraction_leaf=0.0,\n",
       "              n_estimators=1200, presort='auto', random_state=10,\n",
       "              subsample=0.7, verbose=0, warm_start=False)"
      ]
     },
     "execution_count": 69,
     "metadata": {},
     "output_type": "execute_result"
    }
   ],
   "source": [
    "#Choose all predictors except target & IDcols\n",
    "gbm4 = GradientBoostingClassifier(learning_rate=0.005, n_estimators=1200,max_depth=7, min_samples_leaf =60, \n",
    "               min_samples_split =1200, max_features=9, subsample=0.7, random_state=10)\n",
    "gbm4.fit(X,y)"
   ]
  },
  {
   "cell_type": "code",
   "execution_count": 84,
   "metadata": {},
   "outputs": [
    {
     "data": {
      "text/plain": [
       "0.98399999999999999"
      ]
     },
     "execution_count": 84,
     "metadata": {},
     "output_type": "execute_result"
    }
   ],
   "source": [
    "gbm4.score(X, y)"
   ]
  },
  {
   "cell_type": "code",
   "execution_count": 70,
   "metadata": {
    "scrolled": false
   },
   "outputs": [
    {
     "data": {
      "text/plain": [
       "(0.98399999999999999, 0.90823210429369927)"
      ]
     },
     "execution_count": 70,
     "metadata": {},
     "output_type": "execute_result"
    }
   ],
   "source": [
    "y_pred4 = gbm4.predict(X)\n",
    "y_predprob4 = gbm4.predict_proba(X)[:,1]\n",
    "accuracy_score(y.values, y_pred4), roc_auc_score(y, y_predprob4)"
   ]
  },
  {
   "cell_type": "code",
   "execution_count": 71,
   "metadata": {},
   "outputs": [
    {
     "data": {
      "text/plain": [
       "(0.90823210429369927,\n",
       " 0.90858096735264238,\n",
       " 0.90532448869410564,\n",
       " 0.90809872014735771,\n",
       " 0.90053091653963413)"
      ]
     },
     "execution_count": 71,
     "metadata": {},
     "output_type": "execute_result"
    }
   ],
   "source": [
    "roc_auc_score(y, y_predprob4), roc_auc_score(y, y_predprob3), roc_auc_score(y, y_predprob2), roc_auc_score(y, y_predprob1), roc_auc_score(y, y_predprob)"
   ]
  },
  {
   "cell_type": "code",
   "execution_count": 72,
   "metadata": {},
   "outputs": [
    {
     "data": {
      "text/plain": [
       "(0.98399999999999999,\n",
       " 0.98399999999999999,\n",
       " 0.98399999999999999,\n",
       " 0.98399999999999999,\n",
       " 0.98524999999999996)"
      ]
     },
     "execution_count": 72,
     "metadata": {},
     "output_type": "execute_result"
    }
   ],
   "source": [
    "accuracy_score(y.values, y_pred4), accuracy_score(y.values, y_pred3), accuracy_score(y.values, y_pred2), accuracy_score(y.values, y_pred1), accuracy_score(y.values, y_pred)"
   ]
  },
  {
   "cell_type": "markdown",
   "metadata": {},
   "source": [
    "## Feature Importance"
   ]
  },
  {
   "cell_type": "code",
   "execution_count": 77,
   "metadata": {
    "scrolled": false
   },
   "outputs": [
    {
     "data": {
      "image/png": "[encoded data removed]",
      "text/plain": [
       "<matplotlib.figure.Figure at 0x1b0fcf41a58>"
      ]
     },
     "metadata": {},
     "output_type": "display_data"
    }
   ],
   "source": [
    "feat_imp3 = pd.Series(gbm3.feature_importances_, x_columns).sort_values(ascending=False)\n",
    "feat_imp3.plot(kind='bar', title='Feature Importances', color='red')\n",
    "plt.ylabel('Feature Importance Score')\n",
    "plt.show()"
   ]
  },
  {
   "cell_type": "code",
   "execution_count": null,
   "metadata": {
    "collapsed": true
   },
   "outputs": [],
   "source": []
  },
  {
   "cell_type": "markdown",
   "metadata": {},
   "source": [
    "# Write a function"
   ]
  },
  {
   "cell_type": "code",
   "execution_count": null,
   "metadata": {
    "collapsed": true
   },
   "outputs": [],
   "source": [
    "def GBMfit(alg, dtrain, dtest, predictors, performCV=True, printFeatureImportance=True, cv_folds=5):\n",
    "    #Fit the algorithm on the data\n",
    "    alg.fit(dtrain[predictors], dtrain['Disbursed'])\n",
    "        \n",
    "    #Predict training set:\n",
    "    dtrain_predictions = alg.predict(dtrain[predictors])\n",
    "    dtrain_predprob = alg.predict_proba(dtrain[predictors])[:,1]\n",
    "    \n",
    "    #Perform cross-validation:\n",
    "    if performCV:\n",
    "        cv_score = cross_val_score(alg, dtrain[predictors], dtrain['Disbursed'], cv=cv_folds, scoring='roc_auc')\n",
    "    \n",
    "    #Print model report:\n",
    "    print(\"\\nModel Report\")\n",
    "    print(\"Accuracy : {:.4f}\".format(accuracy_score(dtrain['Disbursed'].values, dtrain_predictions)))\n",
    "    print(\"AUC Score (Train): {:.f}\".format(roc_auc_score(dtrain['Disbursed'], dtrain_predprob)))\n",
    "    \n",
    "    if performCV:\n",
    "        print(\"CV Score : Mean - %.7g | Std - %.7g | Min - %.7g | Max - %.7g\" % (np.mean(cv_score),np.std(cv_score),np.min(cv_score),np.max(cv_score)))\n",
    "                \n",
    "    #Print Feature Importance:\n",
    "    if printFeatureImportance:\n",
    "        feat_imp = pd.Series(alg.feature_importances_, predictors).sort_values(ascending=False)\n",
    "        feat_imp.plot(kind='bar', title='Feature Importances')\n",
    "        plt.ylabel('Feature Importance Score')"
   ]
  },
  {
   "cell_type": "code",
   "execution_count": null,
   "metadata": {
    "collapsed": true
   },
   "outputs": [],
   "source": []
  },
  {
   "cell_type": "markdown",
   "metadata": {},
   "source": [
    "# Adaboost"
   ]
  },
  {
   "cell_type": "code",
   "execution_count": 85,
   "metadata": {
    "collapsed": true
   },
   "outputs": [],
   "source": [
    "from sklearn.datasets import make_gaussian_quantiles\n",
    "from sklearn.tree import DecisionTreeClassifier"
   ]
  },
  {
   "cell_type": "code",
   "execution_count": 86,
   "metadata": {
    "collapsed": true
   },
   "outputs": [],
   "source": [
    "# 生成2维正态分布，生成的数据按分位数分为两类，500个样本,2个样本特征，协方差系数为2\n",
    "X1, y1 = make_gaussian_quantiles(cov=2.0,n_samples=500, n_features=2,n_classes=2, random_state=1)\n",
    "# 生成2维正态分布，生成的数据按分位数分为两类，400个样本,2个样本特征均值都为3，协方差系数为2\n",
    "X2, y2 = make_gaussian_quantiles(mean=(3, 3), cov=1.5,n_samples=400, n_features=2, n_classes=2, random_state=1)\n",
    "# 讲两组数据合成一组数据\n",
    "X = np.concatenate((X1, X2))\n",
    "y = np.concatenate((y1, - y2 + 1))"
   ]
  },
  {
   "cell_type": "code",
   "execution_count": 97,
   "metadata": {},
   "outputs": [
    {
     "data": {
      "text/plain": [
       "((900, 2), (900,))"
      ]
     },
     "execution_count": 97,
     "metadata": {},
     "output_type": "execute_result"
    }
   ],
   "source": [
    "X.shape, y.shape"
   ]
  },
  {
   "cell_type": "code",
   "execution_count": 87,
   "metadata": {},
   "outputs": [
    {
     "data": {
      "image/png": "[encoded data removed]",
      "text/plain": [
       "<matplotlib.figure.Figure at 0x1b0fbba02e8>"
      ]
     },
     "metadata": {},
     "output_type": "display_data"
    }
   ],
   "source": [
    "plt.scatter(X[:, 0], X[:, 1], marker='o', c=y)\n",
    "plt.show()"
   ]
  },
  {
   "cell_type": "code",
   "execution_count": 90,
   "metadata": {},
   "outputs": [
    {
     "data": {
      "text/plain": [
       "AdaBoostClassifier(algorithm='SAMME.R', base_estimator=None,\n",
       "          learning_rate=1.0, n_estimators=50, random_state=None)"
      ]
     },
     "execution_count": 90,
     "metadata": {},
     "output_type": "execute_result"
    }
   ],
   "source": [
    "bdt = AdaBoostClassifier()\n",
    "bdt.fit(X, y)"
   ]
  },
  {
   "cell_type": "code",
   "execution_count": 91,
   "metadata": {},
   "outputs": [
    {
     "data": {
      "text/plain": [
       "0.87888888888888894"
      ]
     },
     "execution_count": 91,
     "metadata": {},
     "output_type": "execute_result"
    }
   ],
   "source": [
    "bdt.score(X,y)"
   ]
  },
  {
   "cell_type": "code",
   "execution_count": 92,
   "metadata": {},
   "outputs": [
    {
     "data": {
      "text/plain": [
       "AdaBoostClassifier(algorithm='SAMME.R',\n",
       "          base_estimator=DecisionTreeClassifier(class_weight=None, criterion='gini', max_depth=None,\n",
       "            max_features=None, max_leaf_nodes=None,\n",
       "            min_impurity_split=1e-07, min_samples_leaf=1,\n",
       "            min_samples_split=2, min_weight_fraction_leaf=0.0,\n",
       "            presort=False, random_state=None, splitter='best'),\n",
       "          learning_rate=1.0, n_estimators=50, random_state=None)"
      ]
     },
     "execution_count": 92,
     "metadata": {},
     "output_type": "execute_result"
    }
   ],
   "source": [
    "bdt1 = AdaBoostClassifier(DecisionTreeClassifier())\n",
    "bdt1.fit(X, y)"
   ]
  },
  {
   "cell_type": "code",
   "execution_count": 93,
   "metadata": {},
   "outputs": [
    {
     "data": {
      "text/plain": [
       "1.0"
      ]
     },
     "execution_count": 93,
     "metadata": {},
     "output_type": "execute_result"
    }
   ],
   "source": [
    "bdt1.score(X,y)"
   ]
  },
  {
   "cell_type": "code",
   "execution_count": 95,
   "metadata": {},
   "outputs": [
    {
     "data": {
      "text/plain": [
       "AdaBoostClassifier(algorithm='SAMME',\n",
       "          base_estimator=DecisionTreeClassifier(class_weight=None, criterion='gini', max_depth=2,\n",
       "            max_features=None, max_leaf_nodes=None,\n",
       "            min_impurity_split=1e-07, min_samples_leaf=5,\n",
       "            min_samples_split=20, min_weight_fraction_leaf=0.0,\n",
       "            presort=False, random_state=None, splitter='best'),\n",
       "          learning_rate=0.8, n_estimators=200, random_state=None)"
      ]
     },
     "execution_count": 95,
     "metadata": {},
     "output_type": "execute_result"
    }
   ],
   "source": [
    "bdt2 = AdaBoostClassifier(DecisionTreeClassifier(max_depth=2, min_samples_split=20, min_samples_leaf=5),\n",
    "                         algorithm=\"SAMME\",n_estimators=200, learning_rate=0.8)\n",
    "bdt2.fit(X, y)"
   ]
  },
  {
   "cell_type": "code",
   "execution_count": 96,
   "metadata": {},
   "outputs": [
    {
     "data": {
      "text/plain": [
       "0.91333333333333333"
      ]
     },
     "execution_count": 96,
     "metadata": {},
     "output_type": "execute_result"
    }
   ],
   "source": [
    "bdt2.score(X, y)"
   ]
  },
  {
   "cell_type": "code",
   "execution_count": 111,
   "metadata": {},
   "outputs": [
    {
     "data": {
      "text/plain": [
       "([mean: 0.95286, std: 0.03376, params: {'n_estimators': 20},\n",
       "  mean: 0.95247, std: 0.03681, params: {'n_estimators': 30},\n",
       "  mean: 0.95336, std: 0.03601, params: {'n_estimators': 40},\n",
       "  mean: 0.95642, std: 0.03229, params: {'n_estimators': 50},\n",
       "  mean: 0.95909, std: 0.02787, params: {'n_estimators': 60},\n",
       "  mean: 0.95928, std: 0.02655, params: {'n_estimators': 70},\n",
       "  mean: 0.95904, std: 0.02616, params: {'n_estimators': 80},\n",
       "  mean: 0.96309, std: 0.02559, params: {'n_estimators': 90},\n",
       "  mean: 0.96259, std: 0.02551, params: {'n_estimators': 100},\n",
       "  mean: 0.96286, std: 0.02673, params: {'n_estimators': 110},\n",
       "  mean: 0.96380, std: 0.02701, params: {'n_estimators': 120},\n",
       "  mean: 0.96343, std: 0.02718, params: {'n_estimators': 130},\n",
       "  mean: 0.96326, std: 0.02693, params: {'n_estimators': 140},\n",
       "  mean: 0.96286, std: 0.02826, params: {'n_estimators': 150},\n",
       "  mean: 0.96444, std: 0.02811, params: {'n_estimators': 160},\n",
       "  mean: 0.96479, std: 0.02779, params: {'n_estimators': 170},\n",
       "  mean: 0.96462, std: 0.02747, params: {'n_estimators': 180},\n",
       "  mean: 0.96738, std: 0.02595, params: {'n_estimators': 190},\n",
       "  mean: 0.96916, std: 0.02266, params: {'n_estimators': 200},\n",
       "  mean: 0.96872, std: 0.02298, params: {'n_estimators': 210},\n",
       "  mean: 0.96807, std: 0.02357, params: {'n_estimators': 220},\n",
       "  mean: 0.96798, std: 0.02349, params: {'n_estimators': 230},\n",
       "  mean: 0.96807, std: 0.02334, params: {'n_estimators': 240},\n",
       "  mean: 0.96802, std: 0.02320, params: {'n_estimators': 250},\n",
       "  mean: 0.96778, std: 0.02320, params: {'n_estimators': 260},\n",
       "  mean: 0.96817, std: 0.02293, params: {'n_estimators': 270},\n",
       "  mean: 0.96837, std: 0.02197, params: {'n_estimators': 280},\n",
       "  mean: 0.96881, std: 0.02241, params: {'n_estimators': 290}],\n",
       " {'n_estimators': 200},\n",
       " 0.9691604938271604)"
      ]
     },
     "execution_count": 111,
     "metadata": {},
     "output_type": "execute_result"
    }
   ],
   "source": [
    "param_test1 = {'n_estimators':np.arange(20,300,10)}\n",
    "gsearch1 = GridSearchCV(estimator = AdaBoostClassifier(DecisionTreeClassifier(max_depth=2, min_samples_split=20, min_samples_leaf=5),\n",
    "                         algorithm=\"SAMME\",n_estimators=200, learning_rate=0.8), \n",
    "                       param_grid = param_test1, scoring='roc_auc', iid=False, cv=10)\n",
    "gsearch1.fit(X,y)\n",
    "gsearch1.grid_scores_, gsearch1.best_params_, gsearch1.best_score_"
   ]
  },
  {
   "cell_type": "code",
   "execution_count": 110,
   "metadata": {},
   "outputs": [
    {
     "data": {
      "text/plain": [
       "0.89555555555555555"
      ]
     },
     "execution_count": 110,
     "metadata": {},
     "output_type": "execute_result"
    }
   ],
   "source": [
    "bdt3 = AdaBoostClassifier(DecisionTreeClassifier(max_depth=2, min_samples_split=20, min_samples_leaf=5),\n",
    "                         algorithm=\"SAMME\",n_estimators=90, learning_rate=0.8)\n",
    "bdt3.fit(X,y)\n",
    "bdt3.score(X,y)"
   ]
  },
  {
   "cell_type": "code",
   "execution_count": null,
   "metadata": {
    "collapsed": true
   },
   "outputs": [],
   "source": []
  }
 ],
 "metadata": {
  "kernelspec": {
   "display_name": "Python 3",
   "language": "python",
   "name": "python3"
  },
  "language_info": {
   "codemirror_mode": {
    "name": "ipython",
    "version": 3
   },
   "file_extension": ".py",
   "mimetype": "text/x-python",
   "name": "python",
   "nbconvert_exporter": "python",
   "pygments_lexer": "ipython3",
   "version": "3.6.1"
  },
  "toc": {
   "colors": {
    "hover_highlight": "#DAA520",
    "navigate_num": "#000000",
    "navigate_text": "#333333",
    "running_highlight": "#FF0000",
    "selected_highlight": "#FFD700",
    "sidebar_border": "#EEEEEE",
    "wrapper_background": "#FFFFFF"
   },
   "moveMenuLeft": true,
   "nav_menu": {
    "height": "209px",
    "width": "252px"
   },
   "navigate_menu": true,
   "number_sections": true,
   "sideBar": true,
   "threshold": 4,
   "toc_cell": false,
   "toc_position": {
    "height": "532px",
    "left": "0px",
    "right": "485px",
    "top": "106px",
    "width": "258px"
   },
   "toc_section_display": "block",
   "toc_window_display": true,
   "widenNotebook": false
  }
 },
 "nbformat": 4,
 "nbformat_minor": 1
}
