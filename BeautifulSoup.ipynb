{
 "cells": [
  {
   "cell_type": "code",
   "execution_count": 1,
   "metadata": {
    "collapsed": true
   },
   "outputs": [],
   "source": [
    "from IPython.core.interactiveshell import InteractiveShell\n",
    "InteractiveShell.ast_node_interactivity = \"all\""
   ]
  },
  {
   "cell_type": "markdown",
   "metadata": {},
   "source": [
    "## Example 1"
   ]
  },
  {
   "cell_type": "code",
   "execution_count": 3,
   "metadata": {
    "collapsed": true
   },
   "outputs": [],
   "source": [
    "from bs4 import BeautifulSoup\n",
    "import urllib.request, urllib.parse"
   ]
  },
  {
   "cell_type": "code",
   "execution_count": 6,
   "metadata": {
    "collapsed": false,
    "scrolled": true
   },
   "outputs": [
    {
     "data": {
      "text/plain": [
       "b'<?xml version=\"1.0\" encoding=\"ISO-8859-1\"?>\\r\\n<!--  Copyright w3school.com.cn -->\\r\\n<!-- W3School.com.cn bookstore example -->\\r\\n<bookstore>\\r\\n<book category=\"children\">\\r\\n<title lang=\"en\">Harry Potter</title>\\r\\n<author>J K. Rowling</author>\\r\\n<year>2005</year>\\r\\n<price>29.99</price>\\r\\n</book>\\r\\n<book category=\"cooking\">\\r\\n<title lang=\"en\">Everyday Italian</title>\\r\\n<author>Giada De Laurentiis</author>\\r\\n<year>2005</year>\\r\\n<price>30.00</price>\\r\\n</book>\\r\\n<book category=\"web\" cover=\"paperback\">\\r\\n<title lang=\"en\">Learning XML</title>\\r\\n<author>Erik T. Ray</author>\\r\\n<year>2003</year>\\r\\n<price>39.95</price>\\r\\n</book>\\r\\n<book category=\"web\">\\r\\n<title lang=\"en\">XQuery Kick Start</title>\\r\\n<author>James McGovern</author>\\r\\n<author>Per Bothner</author>\\r\\n<author>Kurt Cagle</author>\\r\\n<author>James Linn</author>\\r\\n<author>Vaidyanathan Nagarajan</author>\\r\\n<year>2003</year>\\r\\n<price>49.99</price>\\r\\n</book>\\r\\n</bookstore>'"
      ]
     },
     "execution_count": 6,
     "metadata": {},
     "output_type": "execute_result"
    }
   ],
   "source": [
    "# http://www.w3school.com.cn/example/xmle/books.xml\n",
    "bookdata = urllib.request.urlopen('http://www.w3school.com.cn/example/xmle/books.xml').read()\n",
    "bookdata"
   ]
  },
  {
   "cell_type": "code",
   "execution_count": 12,
   "metadata": {
    "collapsed": false,
    "scrolled": true
   },
   "outputs": [
    {
     "data": {
      "text/plain": [
       "<?xml version=\"1.0\" encoding=\"utf-8\"?>\n",
       "<!--  Copyright w3school.com.cn --><!-- W3School.com.cn bookstore example --><bookstore>\n",
       "<book category=\"children\">\n",
       "<title lang=\"en\">Harry Potter</title>\n",
       "<author>J K. Rowling</author>\n",
       "<year>2005</year>\n",
       "<price>29.99</price>\n",
       "</book>\n",
       "<book category=\"cooking\">\n",
       "<title lang=\"en\">Everyday Italian</title>\n",
       "<author>Giada De Laurentiis</author>\n",
       "<year>2005</year>\n",
       "<price>30.00</price>\n",
       "</book>\n",
       "<book category=\"web\" cover=\"paperback\">\n",
       "<title lang=\"en\">Learning XML</title>\n",
       "<author>Erik T. Ray</author>\n",
       "<year>2003</year>\n",
       "<price>39.95</price>\n",
       "</book>\n",
       "<book category=\"web\">\n",
       "<title lang=\"en\">XQuery Kick Start</title>\n",
       "<author>James McGovern</author>\n",
       "<author>Per Bothner</author>\n",
       "<author>Kurt Cagle</author>\n",
       "<author>James Linn</author>\n",
       "<author>Vaidyanathan Nagarajan</author>\n",
       "<year>2003</year>\n",
       "<price>49.99</price>\n",
       "</book>\n",
       "</bookstore>"
      ]
     },
     "execution_count": 12,
     "metadata": {},
     "output_type": "execute_result"
    }
   ],
   "source": [
    "# python's html.parser: BeautifulSoup(markup, \"html.parser\")\n",
    "# lxml's HTML parser: BeautifulSoup(markup, \"lxml\") \n",
    "# lxml's XML parser: BeautifulSoup(markup, \"lxml-xml\") BeautifulSoup(markup, \"xml\")\n",
    "# html5lib parser: BeautifulSoup(markup, \"html5lib\") \n",
    "\n",
    "soup = BeautifulSoup(bookdata,'xml')\n",
    "soup"
   ]
  },
  {
   "cell_type": "code",
   "execution_count": 14,
   "metadata": {
    "collapsed": false,
    "scrolled": true
   },
   "outputs": [
    {
     "name": "stdout",
     "output_type": "stream",
     "text": [
      "<?xml version=\"1.0\" encoding=\"utf-8\"?>\n",
      "<!--  Copyright w3school.com.cn -->\n",
      "<!-- W3School.com.cn bookstore example -->\n",
      "<bookstore>\n",
      " <book category=\"children\">\n",
      "  <title lang=\"en\">\n",
      "   Harry Potter\n",
      "  </title>\n",
      "  <author>\n",
      "   J K. Rowling\n",
      "  </author>\n",
      "  <year>\n",
      "   2005\n",
      "  </year>\n",
      "  <price>\n",
      "   29.99\n",
      "  </price>\n",
      " </book>\n",
      " <book category=\"cooking\">\n",
      "  <title lang=\"en\">\n",
      "   Everyday Italian\n",
      "  </title>\n",
      "  <author>\n",
      "   Giada De Laurentiis\n",
      "  </author>\n",
      "  <year>\n",
      "   2005\n",
      "  </year>\n",
      "  <price>\n",
      "   30.00\n",
      "  </price>\n",
      " </book>\n",
      " <book category=\"web\" cover=\"paperback\">\n",
      "  <title lang=\"en\">\n",
      "   Learning XML\n",
      "  </title>\n",
      "  <author>\n",
      "   Erik T. Ray\n",
      "  </author>\n",
      "  <year>\n",
      "   2003\n",
      "  </year>\n",
      "  <price>\n",
      "   39.95\n",
      "  </price>\n",
      " </book>\n",
      " <book category=\"web\">\n",
      "  <title lang=\"en\">\n",
      "   XQuery Kick Start\n",
      "  </title>\n",
      "  <author>\n",
      "   James McGovern\n",
      "  </author>\n",
      "  <author>\n",
      "   Per Bothner\n",
      "  </author>\n",
      "  <author>\n",
      "   Kurt Cagle\n",
      "  </author>\n",
      "  <author>\n",
      "   James Linn\n",
      "  </author>\n",
      "  <author>\n",
      "   Vaidyanathan Nagarajan\n",
      "  </author>\n",
      "  <year>\n",
      "   2003\n",
      "  </year>\n",
      "  <price>\n",
      "   49.99\n",
      "  </price>\n",
      " </book>\n",
      "</bookstore>\n"
     ]
    }
   ],
   "source": [
    "print(soup.prettify())"
   ]
  },
  {
   "cell_type": "code",
   "execution_count": 55,
   "metadata": {
    "collapsed": false
   },
   "outputs": [
    {
     "data": {
      "text/plain": [
       "<book category=\"children\">\n",
       "<title lang=\"en\">Harry Potter</title>\n",
       "<author>J K. Rowling</author>\n",
       "<year>2005</year>\n",
       "<price>29.99</price>\n",
       "</book>"
      ]
     },
     "execution_count": 55,
     "metadata": {},
     "output_type": "execute_result"
    },
    {
     "data": {
      "text/plain": [
       "'book'"
      ]
     },
     "execution_count": 55,
     "metadata": {},
     "output_type": "execute_result"
    },
    {
     "data": {
      "text/plain": [
       "{'category': 'children'}"
      ]
     },
     "execution_count": 55,
     "metadata": {},
     "output_type": "execute_result"
    },
    {
     "data": {
      "text/plain": [
       "'bookstore'"
      ]
     },
     "execution_count": 55,
     "metadata": {},
     "output_type": "execute_result"
    },
    {
     "data": {
      "text/plain": [
       "['', 'Harry Potter', 'J K. Rowling', '2005', '29.99', '']"
      ]
     },
     "execution_count": 55,
     "metadata": {},
     "output_type": "execute_result"
    },
    {
     "data": {
      "text/plain": [
       "['\\n',\n",
       " <title lang=\"en\">Harry Potter</title>,\n",
       " '\\n',\n",
       " <author>J K. Rowling</author>,\n",
       " '\\n',\n",
       " <year>2005</year>,\n",
       " '\\n',\n",
       " <price>29.99</price>,\n",
       " '\\n']"
      ]
     },
     "execution_count": 55,
     "metadata": {},
     "output_type": "execute_result"
    },
    {
     "data": {
      "text/plain": [
       "'title'"
      ]
     },
     "execution_count": 55,
     "metadata": {},
     "output_type": "execute_result"
    }
   ],
   "source": [
    "soup.book\n",
    "soup.book.name\n",
    "soup.book.attrs\n",
    "soup.book.parent.name\n",
    "soup.book.get_text().split('\\n')\n",
    "soup.book.contents\n",
    "soup.book.contents[1].name"
   ]
  },
  {
   "cell_type": "code",
   "execution_count": 79,
   "metadata": {
    "collapsed": false
   },
   "outputs": [
    {
     "data": {
      "text/plain": [
       "<title lang=\"en\">Harry Potter</title>"
      ]
     },
     "execution_count": 79,
     "metadata": {},
     "output_type": "execute_result"
    },
    {
     "data": {
      "text/plain": [
       "'title'"
      ]
     },
     "execution_count": 79,
     "metadata": {},
     "output_type": "execute_result"
    },
    {
     "data": {
      "text/plain": [
       "'Harry Potter'"
      ]
     },
     "execution_count": 79,
     "metadata": {},
     "output_type": "execute_result"
    },
    {
     "data": {
      "text/plain": [
       "'book'"
      ]
     },
     "execution_count": 79,
     "metadata": {},
     "output_type": "execute_result"
    },
    {
     "data": {
      "text/plain": [
       "[<title lang=\"en\">Harry Potter</title>,\n",
       " <title lang=\"en\">Everyday Italian</title>,\n",
       " <title lang=\"en\">Learning XML</title>,\n",
       " <title lang=\"en\">XQuery Kick Start</title>]"
      ]
     },
     "execution_count": 79,
     "metadata": {},
     "output_type": "execute_result"
    },
    {
     "data": {
      "text/plain": [
       "'Learning XML'"
      ]
     },
     "execution_count": 79,
     "metadata": {},
     "output_type": "execute_result"
    }
   ],
   "source": [
    "soup.title\n",
    "soup.title.name\n",
    "soup.title.string\n",
    "soup.title.parent.name\n",
    "soup('title')\n",
    "soup('title')[2].get_text()"
   ]
  },
  {
   "cell_type": "code",
   "execution_count": 21,
   "metadata": {
    "collapsed": false
   },
   "outputs": [
    {
     "data": {
      "text/plain": [
       "'en'"
      ]
     },
     "execution_count": 21,
     "metadata": {},
     "output_type": "execute_result"
    }
   ],
   "source": [
    "soup.title['lang']"
   ]
  },
  {
   "cell_type": "code",
   "execution_count": 24,
   "metadata": {
    "collapsed": false
   },
   "outputs": [
    {
     "data": {
      "text/plain": [
       "<author>J K. Rowling</author>"
      ]
     },
     "execution_count": 24,
     "metadata": {},
     "output_type": "execute_result"
    }
   ],
   "source": [
    "soup.author"
   ]
  },
  {
   "cell_type": "code",
   "execution_count": 30,
   "metadata": {
    "collapsed": false
   },
   "outputs": [
    {
     "data": {
      "text/plain": [
       "[<author>J K. Rowling</author>,\n",
       " <author>Giada De Laurentiis</author>,\n",
       " <author>Erik T. Ray</author>,\n",
       " <author>James McGovern</author>,\n",
       " <author>Per Bothner</author>,\n",
       " <author>Kurt Cagle</author>,\n",
       " <author>James Linn</author>,\n",
       " <author>Vaidyanathan Nagarajan</author>]"
      ]
     },
     "execution_count": 30,
     "metadata": {},
     "output_type": "execute_result"
    }
   ],
   "source": [
    "soup.find_all('author')"
   ]
  },
  {
   "cell_type": "code",
   "execution_count": 31,
   "metadata": {
    "collapsed": false
   },
   "outputs": [
    {
     "name": "stdout",
     "output_type": "stream",
     "text": [
      "J K. Rowling\n",
      "Giada De Laurentiis\n",
      "Erik T. Ray\n",
      "James McGovern\n",
      "Per Bothner\n",
      "Kurt Cagle\n",
      "James Linn\n",
      "Vaidyanathan Nagarajan\n"
     ]
    }
   ],
   "source": [
    "for author in soup.find_all('author'):\n",
    "    print(author.get_text())\n",
    "# 提取内容用get_text()\n",
    "# 提取属性用get('href', None) "
   ]
  },
  {
   "cell_type": "code",
   "execution_count": 32,
   "metadata": {
    "collapsed": false
   },
   "outputs": [
    {
     "name": "stdout",
     "output_type": "stream",
     "text": [
      "children\n",
      "cooking\n",
      "web\n",
      "web\n"
     ]
    }
   ],
   "source": [
    "for book in soup.find_all('book'):\n",
    "    print(book.get('category'))   #提取属性"
   ]
  },
  {
   "cell_type": "code",
   "execution_count": 33,
   "metadata": {
    "collapsed": false
   },
   "outputs": [
    {
     "name": "stdout",
     "output_type": "stream",
     "text": [
      "\n",
      "\n",
      "Harry Potter\n",
      "J K. Rowling\n",
      "2005\n",
      "29.99\n",
      "\n",
      "\n",
      "Everyday Italian\n",
      "Giada De Laurentiis\n",
      "2005\n",
      "30.00\n",
      "\n",
      "\n",
      "Learning XML\n",
      "Erik T. Ray\n",
      "2003\n",
      "39.95\n",
      "\n",
      "\n",
      "XQuery Kick Start\n",
      "James McGovern\n",
      "Per Bothner\n",
      "Kurt Cagle\n",
      "James Linn\n",
      "Vaidyanathan Nagarajan\n",
      "2003\n",
      "49.99\n",
      "\n",
      "\n"
     ]
    }
   ],
   "source": [
    "print(soup.get_text()) # 提取所有book节点的所有内容"
   ]
  },
  {
   "cell_type": "code",
   "execution_count": 37,
   "metadata": {
    "collapsed": false
   },
   "outputs": [
    {
     "data": {
      "text/plain": [
       "['',\n",
       " '',\n",
       " 'Harry Potter',\n",
       " 'J K. Rowling',\n",
       " '2005',\n",
       " '29.99',\n",
       " '',\n",
       " '',\n",
       " 'Everyday Italian',\n",
       " 'Giada De Laurentiis',\n",
       " '2005',\n",
       " '30.00',\n",
       " '',\n",
       " '',\n",
       " 'Learning XML',\n",
       " 'Erik T. Ray',\n",
       " '2003',\n",
       " '39.95',\n",
       " '',\n",
       " '',\n",
       " 'XQuery Kick Start',\n",
       " 'James McGovern',\n",
       " 'Per Bothner',\n",
       " 'Kurt Cagle',\n",
       " 'James Linn',\n",
       " 'Vaidyanathan Nagarajan',\n",
       " '2003',\n",
       " '49.99',\n",
       " '',\n",
       " '']"
      ]
     },
     "execution_count": 37,
     "metadata": {},
     "output_type": "execute_result"
    }
   ],
   "source": [
    "soup.get_text().split('\\n')"
   ]
  },
  {
   "cell_type": "code",
   "execution_count": 42,
   "metadata": {
    "collapsed": false
   },
   "outputs": [
    {
     "data": {
      "text/plain": [
       "'29.99'"
      ]
     },
     "execution_count": 42,
     "metadata": {},
     "output_type": "execute_result"
    },
    {
     "data": {
      "text/plain": [
       "bs4.element.NavigableString"
      ]
     },
     "execution_count": 42,
     "metadata": {},
     "output_type": "execute_result"
    },
    {
     "data": {
      "text/plain": [
       "'[document]'"
      ]
     },
     "execution_count": 42,
     "metadata": {},
     "output_type": "execute_result"
    }
   ],
   "source": [
    "soup.price.string\n",
    "type(soup.price.string)\n",
    "soup.name"
   ]
  },
  {
   "cell_type": "code",
   "execution_count": 62,
   "metadata": {
    "collapsed": false
   },
   "outputs": [
    {
     "name": "stdout",
     "output_type": "stream",
     "text": [
      "\n",
      "\n",
      "<title lang=\"en\">Harry Potter</title>\n",
      "\n",
      "\n",
      "<author>J K. Rowling</author>\n",
      "\n",
      "\n",
      "<year>2005</year>\n",
      "\n",
      "\n",
      "<price>29.99</price>\n",
      "\n",
      "\n"
     ]
    }
   ],
   "source": [
    "for child in soup.find('book').children:\n",
    "    print(child)"
   ]
  },
  {
   "cell_type": "code",
   "execution_count": 64,
   "metadata": {
    "collapsed": false
   },
   "outputs": [
    {
     "name": "stdout",
     "output_type": "stream",
     "text": [
      "\n",
      "\n",
      "<title lang=\"en\">Harry Potter</title>\n",
      "Harry Potter\n",
      "\n",
      "\n",
      "<author>J K. Rowling</author>\n",
      "J K. Rowling\n",
      "\n",
      "\n",
      "<year>2005</year>\n",
      "2005\n",
      "\n",
      "\n",
      "<price>29.99</price>\n",
      "29.99\n",
      "\n",
      "\n"
     ]
    }
   ],
   "source": [
    "for child in soup.find('book').descendants:\n",
    "    print(child)"
   ]
  },
  {
   "cell_type": "code",
   "execution_count": 66,
   "metadata": {
    "collapsed": false
   },
   "outputs": [
    {
     "data": {
      "text/plain": [
       "'\\n'"
      ]
     },
     "execution_count": 66,
     "metadata": {},
     "output_type": "execute_result"
    },
    {
     "data": {
      "text/plain": [
       "'\\n'"
      ]
     },
     "execution_count": 66,
     "metadata": {},
     "output_type": "execute_result"
    }
   ],
   "source": [
    "soup.find('book').next_sibling\n",
    "soup.author.next_sibling"
   ]
  },
  {
   "cell_type": "code",
   "execution_count": 74,
   "metadata": {
    "collapsed": false
   },
   "outputs": [
    {
     "data": {
      "text/plain": [
       "[<price>29.99</price>,\n",
       " <price>30.00</price>,\n",
       " <price>39.95</price>,\n",
       " <price>49.99</price>]"
      ]
     },
     "execution_count": 74,
     "metadata": {},
     "output_type": "execute_result"
    },
    {
     "data": {
      "text/plain": [
       "'39.95'"
      ]
     },
     "execution_count": 74,
     "metadata": {},
     "output_type": "execute_result"
    }
   ],
   "source": [
    "import re\n",
    "soup.find_all(re.compile('^p'))\n",
    "soup.find_all(re.compile('^p'))[2].get_text()"
   ]
  },
  {
   "cell_type": "code",
   "execution_count": 71,
   "metadata": {
    "collapsed": false
   },
   "outputs": [
    {
     "name": "stdout",
     "output_type": "stream",
     "text": [
      "J K. Rowling\n",
      "Giada De Laurentiis\n",
      "Erik T. Ray\n",
      "James McGovern\n",
      "Per Bothner\n",
      "Kurt Cagle\n",
      "James Linn\n",
      "Vaidyanathan Nagarajan\n"
     ]
    }
   ],
   "source": [
    "for tag in (soup.find_all(re.compile('^a'))):\n",
    "    print(tag.get_text())"
   ]
  },
  {
   "cell_type": "code",
   "execution_count": 76,
   "metadata": {
    "collapsed": false
   },
   "outputs": [
    {
     "name": "stdout",
     "output_type": "stream",
     "text": [
      "<year>2005</year>\n",
      "<price>29.99</price>\n",
      "<year>2005</year>\n",
      "<price>30.00</price>\n",
      "<year>2003</year>\n",
      "<price>39.95</price>\n",
      "<year>2003</year>\n",
      "<price>49.99</price>\n"
     ]
    }
   ],
   "source": [
    "for tag in soup.find_all(['year', 'price']):\n",
    "    print(tag)"
   ]
  },
  {
   "cell_type": "code",
   "execution_count": null,
   "metadata": {
    "collapsed": true
   },
   "outputs": [],
   "source": []
  }
 ],
 "metadata": {
  "kernelspec": {
   "display_name": "Python 3",
   "language": "python",
   "name": "python3"
  },
  "language_info": {
   "codemirror_mode": {
    "name": "ipython",
    "version": 3
   },
   "file_extension": ".py",
   "mimetype": "text/x-python",
   "name": "python",
   "nbconvert_exporter": "python",
   "pygments_lexer": "ipython3",
   "version": "3.6.0"
  }
 },
 "nbformat": 4,
 "nbformat_minor": 2
}
