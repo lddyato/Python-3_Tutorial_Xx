{
 "cells": [
  {
   "cell_type": "code",
   "execution_count": 1,
   "metadata": {
    "collapsed": true
   },
   "outputs": [],
   "source": [
    "from IPython.core.interactiveshell import InteractiveShell\n",
    "InteractiveShell.ast_node_interactivity = \"all\""
   ]
  },
  {
   "cell_type": "code",
   "execution_count": 2,
   "metadata": {
    "collapsed": true
   },
   "outputs": [],
   "source": [
    "import re\n",
    "import urllib.request, urllib.parse, urllib.error"
   ]
  },
  {
   "cell_type": "markdown",
   "metadata": {},
   "source": [
    "### Week2_Assignment1"
   ]
  },
  {
   "cell_type": "code",
   "execution_count": 3,
   "metadata": {},
   "outputs": [
    {
     "name": "stdout",
     "output_type": "stream",
     "text": [
      "445833\n"
     ]
    }
   ],
   "source": [
    "dat = urllib.request.urlopen('http://py4e-data.dr-chuck.net/regex_sum_42.txt')\n",
    "datalist=[]\n",
    "for line in dat:\n",
    "    data = line.decode().strip() #读取整个文档\n",
    "    extractdata = re.findall('[0-9]+', data)\n",
    "    for element in extractdata:\n",
    "        if len(element) >0:\n",
    "            datalist.append(int(element))\n",
    "print(sum(datalist))"
   ]
  },
  {
   "cell_type": "code",
   "execution_count": 4,
   "metadata": {},
   "outputs": [
    {
     "data": {
      "text/plain": [
       "['B', '5', '\\x00', '^']"
      ]
     },
     "execution_count": 4,
     "metadata": {},
     "output_type": "execute_result"
    }
   ],
   "source": [
    "list(map(chr,[66,53,0,94]))"
   ]
  },
  {
   "cell_type": "code",
   "execution_count": 5,
   "metadata": {},
   "outputs": [
    {
     "data": {
      "text/plain": [
       "['B', 'C', 'D', 'E']"
      ]
     },
     "execution_count": 5,
     "metadata": {},
     "output_type": "execute_result"
    }
   ],
   "source": [
    "list(map(chr,[66,67,68,69]))"
   ]
  },
  {
   "cell_type": "code",
   "execution_count": 6,
   "metadata": {},
   "outputs": [
    {
     "data": {
      "text/plain": [
       "[66, 67, 68, 69]"
      ]
     },
     "execution_count": 6,
     "metadata": {},
     "output_type": "execute_result"
    }
   ],
   "source": [
    "list(map(int,['66','67','68','69']))"
   ]
  },
  {
   "cell_type": "code",
   "execution_count": 7,
   "metadata": {},
   "outputs": [
    {
     "name": "stdout",
     "output_type": "stream",
     "text": [
      "445833\n"
     ]
    }
   ],
   "source": [
    "# 这种方式只能读取本地文件，需要将文件提前下载下来\n",
    "f = open('regex_sum_42.txt','r')\n",
    "total = 0\n",
    "\n",
    "for line in f:\n",
    "    numbers = map(int, re.findall('[0-9]+', line))\n",
    "    total += sum(numbers)\n",
    "print (total)"
   ]
  },
  {
   "cell_type": "code",
   "execution_count": 8,
   "metadata": {},
   "outputs": [
    {
     "data": {
      "text/plain": [
       "<_io.TextIOWrapper name='regex_sum_42.txt' mode='r' encoding='cp936'>"
      ]
     },
     "execution_count": 8,
     "metadata": {},
     "output_type": "execute_result"
    }
   ],
   "source": [
    "open('regex_sum_42.txt','r')"
   ]
  },
  {
   "cell_type": "code",
   "execution_count": 9,
   "metadata": {
    "scrolled": true
   },
   "outputs": [
    {
     "data": {
      "text/plain": [
       "'This file contains the sample data\\n\\n\\nWhy should yo'"
      ]
     },
     "execution_count": 9,
     "metadata": {},
     "output_type": "execute_result"
    }
   ],
   "source": [
    "open('regex_sum_42.txt','r').read()[:50] #将整个文件生成一个字符串"
   ]
  },
  {
   "cell_type": "code",
   "execution_count": 10,
   "metadata": {},
   "outputs": [
    {
     "data": {
      "text/plain": [
       "['This file contains the sample data',\n",
       " '',\n",
       " '',\n",
       " 'Why should you learn to write programs?',\n",
       " '',\n",
       " 'Writing programs (or programming) is a very creative ',\n",
       " 'and rewarding activity.  You can write programs for ',\n",
       " '3036 many reasons, ranging from making your living to solving 7209',\n",
       " 'a difficult data analysis problem to having fun to helping',\n",
       " 'someone else solve a problem.  This book assumes that ']"
      ]
     },
     "execution_count": 10,
     "metadata": {},
     "output_type": "execute_result"
    }
   ],
   "source": [
    "open('regex_sum_42.txt','r').read().splitlines()[:10]"
   ]
  },
  {
   "cell_type": "code",
   "execution_count": 11,
   "metadata": {
    "scrolled": true
   },
   "outputs": [
    {
     "data": {
      "text/plain": [
       "['This file contains the sample data\\n',\n",
       " '\\n',\n",
       " '\\n',\n",
       " 'Why should you learn to write programs?\\n',\n",
       " '\\n',\n",
       " 'Writing programs (or programming) is a very creative \\n',\n",
       " 'and rewarding activity.  You can write programs for \\n',\n",
       " '3036 many reasons, ranging from making your living to solving 7209\\n',\n",
       " 'a difficult data analysis problem to having fun to helping\\n',\n",
       " 'someone else solve a problem.  This book assumes that \\n']"
      ]
     },
     "execution_count": 11,
     "metadata": {},
     "output_type": "execute_result"
    }
   ],
   "source": [
    "open('regex_sum_42.txt','r').readlines()[:10] #将每一行生成一个字符串"
   ]
  },
  {
   "cell_type": "code",
   "execution_count": 12,
   "metadata": {},
   "outputs": [
    {
     "name": "stdout",
     "output_type": "stream",
     "text": [
      "407532\n"
     ]
    }
   ],
   "source": [
    "f = urllib.request.urlopen('http://py4e-data.dr-chuck.net/regex_sum_11609.txt')\n",
    "total = 0\n",
    "\n",
    "for line in f:\n",
    "    data = line.decode().strip()\n",
    "    numbers = map(int, re.findall('[0-9]+', data))\n",
    "    total += sum(numbers)\n",
    "print (total)"
   ]
  },
  {
   "cell_type": "code",
   "execution_count": 13,
   "metadata": {},
   "outputs": [
    {
     "name": "stdout",
     "output_type": "stream",
     "text": [
      "445833\n",
      "407532\n"
     ]
    }
   ],
   "source": [
    "# or the shortest way\n",
    "print(sum([int(x) for x in re.findall('[0-9]+',open('regex_sum_42.txt','r').read())]))\n",
    "print(sum([int(x) for x in re.findall('[0-9]+',open('regex_sum_11609.txt','r').read())]))"
   ]
  },
  {
   "cell_type": "markdown",
   "metadata": {},
   "source": [
    "### Week3_Assignment1"
   ]
  },
  {
   "cell_type": "code",
   "execution_count": 14,
   "metadata": {},
   "outputs": [
    {
     "data": {
      "text/plain": [
       "64"
      ]
     },
     "execution_count": 14,
     "metadata": {},
     "output_type": "execute_result"
    },
    {
     "name": "stdout",
     "output_type": "stream",
     "text": [
      "HTTP/1.1 400 Bad Request\r\n",
      "Date: Fri, 21 Jul 2017 13:35:21 GMT\r\n",
      "Connection: close\r\n",
      "Set-Cookie: __cfduid=d331997459d9cde24ea4ed599702a035f1500644121; expires=Sat, 21-Jul-18 13:35:21 GMT; path=/; domain=.pythonlearn.com; HttpOnly\r\n",
      "Server: cloudflare-nginx\r\n",
      "CF-RAY: 381e8afcc06c10f3-ORD\r\n",
      "\r\n",
      "\n"
     ]
    }
   ],
   "source": [
    "import socket\n",
    "\n",
    "mysock = socket.socket(socket.AF_INET, socket.SOCK_STREAM)\n",
    "mysock.connect(('www.pythonlearn.com', 80))\n",
    "cmd = 'GET http://www.pythonlearn.com/code/intro-short.txt HTTP/1.0\\r\\n\\r\\n'.encode()\n",
    "mysock.send(cmd)\n",
    "\n",
    "while True:\n",
    "    data = mysock.recv(512)\n",
    "    if ( len(data) < 1 ) :\n",
    "        break\n",
    "    print (data.decode())\n",
    "\n",
    "mysock.close()"
   ]
  },
  {
   "cell_type": "markdown",
   "metadata": {},
   "source": [
    "### Week4_Assignment1"
   ]
  },
  {
   "cell_type": "code",
   "execution_count": 15,
   "metadata": {},
   "outputs": [
    {
     "name": "stdout",
     "output_type": "stream",
     "text": [
      "Enter - http://py4e-data.dr-chuck.net/comments_11611.html\n",
      "2718\n"
     ]
    }
   ],
   "source": [
    "from urllib.request import urlopen\n",
    "from bs4 import BeautifulSoup\n",
    "import ssl\n",
    "\n",
    "# Ignore SSL certificate errors\n",
    "# ssl模块被用来使用secure sockets layer（SSL）包装socket对象，从而使得实现数据加密和终端认证。python使用openssl来实现此模块。\n",
    "ctx = ssl.create_default_context()\n",
    "ctx.check_hostname = False\n",
    "ctx.verify_mode = ssl.CERT_NONE\n",
    "\n",
    "url = input('Enter - ')\n",
    "# http://py4e-data.dr-chuck.net/comments_11611.html\n",
    "html = urlopen(url, context=ctx).read()\n",
    "\n",
    "# html.parser is the HTML parser included in the standard Python 3 library.\n",
    "# information on other HTML parsers is here:\n",
    "# http://www.crummy.com/software/BeautifulSoup/bs4/doc/#installing-a-parser\n",
    "soup = BeautifulSoup(html, 'html.parser')\n",
    "\n",
    "# Retrieve all of the anchor tags\n",
    "tags = soup('span') # is differnt from soup.span\n",
    "total = 0\n",
    "for tag in tags:\n",
    "    total += int(tag.contents[0])\n",
    "    # print('TAG:', tag)\n",
    "    # print('URL:', tag.get('href',None))\n",
    "    # print(\"Contents:\", tag.contents[0])\n",
    "    # print('Attrs:', tag.attrs)\n",
    "print(total)"
   ]
  },
  {
   "cell_type": "code",
   "execution_count": 16,
   "metadata": {
    "scrolled": true
   },
   "outputs": [
    {
     "data": {
      "text/plain": [
       "<head>\n",
       "<title>Welcome to the comments assignment from www.py4e.com</title>\n",
       "</head>"
      ]
     },
     "execution_count": 16,
     "metadata": {},
     "output_type": "execute_result"
    }
   ],
   "source": [
    "soup.head"
   ]
  },
  {
   "cell_type": "code",
   "execution_count": 17,
   "metadata": {},
   "outputs": [
    {
     "data": {
      "text/plain": [
       "<tr>\n",
       "<td>Name</td><td>Comments</td>\n",
       "</tr>"
      ]
     },
     "execution_count": 17,
     "metadata": {},
     "output_type": "execute_result"
    }
   ],
   "source": [
    "soup.body.tr"
   ]
  },
  {
   "cell_type": "code",
   "execution_count": 18,
   "metadata": {},
   "outputs": [
    {
     "data": {
      "text/plain": [
       "<title>Welcome to the comments assignment from www.py4e.com</title>"
      ]
     },
     "execution_count": 18,
     "metadata": {},
     "output_type": "execute_result"
    }
   ],
   "source": [
    "soup.title"
   ]
  },
  {
   "cell_type": "code",
   "execution_count": 19,
   "metadata": {},
   "outputs": [
    {
     "data": {
      "text/plain": [
       "<td>Name</td>"
      ]
     },
     "execution_count": 19,
     "metadata": {},
     "output_type": "execute_result"
    }
   ],
   "source": [
    "soup.td"
   ]
  },
  {
   "cell_type": "code",
   "execution_count": 20,
   "metadata": {},
   "outputs": [
    {
     "data": {
      "text/plain": [
       "{'class': ['comments']}"
      ]
     },
     "execution_count": 20,
     "metadata": {},
     "output_type": "execute_result"
    }
   ],
   "source": [
    "soup.span.attrs"
   ]
  },
  {
   "cell_type": "code",
   "execution_count": 21,
   "metadata": {},
   "outputs": [
    {
     "data": {
      "text/plain": [
       "'100'"
      ]
     },
     "execution_count": 21,
     "metadata": {},
     "output_type": "execute_result"
    }
   ],
   "source": [
    "soup.span.string"
   ]
  },
  {
   "cell_type": "code",
   "execution_count": 22,
   "metadata": {},
   "outputs": [
    {
     "data": {
      "text/plain": [
       "['100']"
      ]
     },
     "execution_count": 22,
     "metadata": {},
     "output_type": "execute_result"
    },
    {
     "data": {
      "text/plain": [
       "'100'"
      ]
     },
     "execution_count": 22,
     "metadata": {},
     "output_type": "execute_result"
    }
   ],
   "source": [
    "soup.span.contents\n",
    "soup.span.contents[0]"
   ]
  },
  {
   "cell_type": "code",
   "execution_count": 23,
   "metadata": {
    "scrolled": false
   },
   "outputs": [
    {
     "data": {
      "text/plain": [
       "[<span class=\"comments\">100</span>,\n",
       " <span class=\"comments\">98</span>,\n",
       " <span class=\"comments\">95</span>,\n",
       " <span class=\"comments\">93</span>,\n",
       " <span class=\"comments\">90</span>]"
      ]
     },
     "execution_count": 23,
     "metadata": {},
     "output_type": "execute_result"
    },
    {
     "data": {
      "text/plain": [
       "50"
      ]
     },
     "execution_count": 23,
     "metadata": {},
     "output_type": "execute_result"
    }
   ],
   "source": [
    "soup.find_all('span')[:5]\n",
    "len(soup.find_all('span'))"
   ]
  },
  {
   "cell_type": "code",
   "execution_count": 24,
   "metadata": {},
   "outputs": [
    {
     "data": {
      "text/plain": [
       "<span class=\"comments\">100</span>"
      ]
     },
     "execution_count": 24,
     "metadata": {},
     "output_type": "execute_result"
    },
    {
     "data": {
      "text/plain": [
       "[<span class=\"comments\">100</span>,\n",
       " <span class=\"comments\">98</span>,\n",
       " <span class=\"comments\">95</span>,\n",
       " <span class=\"comments\">93</span>,\n",
       " <span class=\"comments\">90</span>]"
      ]
     },
     "execution_count": 24,
     "metadata": {},
     "output_type": "execute_result"
    }
   ],
   "source": [
    "soup.span\n",
    "soup('span')[:5]"
   ]
  },
  {
   "cell_type": "code",
   "execution_count": 25,
   "metadata": {},
   "outputs": [
    {
     "data": {
      "text/plain": [
       "'Name'"
      ]
     },
     "execution_count": 25,
     "metadata": {},
     "output_type": "execute_result"
    }
   ],
   "source": [
    "soup.td.contents[0]"
   ]
  },
  {
   "cell_type": "code",
   "execution_count": 26,
   "metadata": {},
   "outputs": [
    {
     "data": {
      "text/plain": [
       "['\\n',\n",
       " <title>Welcome to the comments assignment from www.py4e.com</title>,\n",
       " '\\n']"
      ]
     },
     "execution_count": 26,
     "metadata": {},
     "output_type": "execute_result"
    }
   ],
   "source": [
    "soup.head.contents"
   ]
  },
  {
   "cell_type": "code",
   "execution_count": 27,
   "metadata": {},
   "outputs": [
    {
     "data": {
      "text/plain": [
       "2"
      ]
     },
     "execution_count": 27,
     "metadata": {},
     "output_type": "execute_result"
    }
   ],
   "source": [
    "len(soup.contents)"
   ]
  },
  {
   "cell_type": "code",
   "execution_count": 28,
   "metadata": {},
   "outputs": [
    {
     "data": {
      "text/plain": [
       "'html'"
      ]
     },
     "execution_count": 28,
     "metadata": {},
     "output_type": "execute_result"
    }
   ],
   "source": [
    "soup.contents[0].name"
   ]
  },
  {
   "cell_type": "code",
   "execution_count": 29,
   "metadata": {
    "collapsed": true
   },
   "outputs": [],
   "source": [
    "soup.contents[1].name"
   ]
  },
  {
   "cell_type": "code",
   "execution_count": 30,
   "metadata": {},
   "outputs": [
    {
     "data": {
      "text/plain": [
       "'Name'"
      ]
     },
     "execution_count": 30,
     "metadata": {},
     "output_type": "execute_result"
    },
    {
     "data": {
      "text/plain": [
       "1"
      ]
     },
     "execution_count": 30,
     "metadata": {},
     "output_type": "execute_result"
    }
   ],
   "source": [
    "soup.td.contents[0]\n",
    "len(soup.td)"
   ]
  },
  {
   "cell_type": "code",
   "execution_count": 31,
   "metadata": {},
   "outputs": [
    {
     "name": "stdout",
     "output_type": "stream",
     "text": [
      "<html>\n",
      " <head>\n",
      "  <title>\n",
      "   Welcome to the comments assignment from www.py4e.com\n",
      "  </title>\n",
      " </head>\n",
      " <body>\n",
      "  <h1>\n",
      "   This file contains the actual data for your assignment - good luck!\n",
      "  </h1>\n",
      "  <table border=\"2\">\n",
      "   <tr>\n",
      "    <td>\n",
      "     Name\n",
      "    </td>\n",
      "    <td>\n",
      "     Comments\n",
      "    </td>\n",
      "   </tr>\n",
      "   <tr>\n",
      "    <td>\n",
      "     Sona\n",
      "    </td>\n",
      "    <td>\n",
      "     <span class=\"comments\">\n",
      "      100\n",
      "     </span>\n",
      "    </td>\n",
      "   </tr>\n",
      "   <tr>\n",
      "    <td>\n",
      "     Harley\n",
      "    </td>\n",
      "    <td>\n",
      "     <span class=\"comments\">\n",
      "      98\n",
      "     </span>\n",
      "    </td>\n",
      "   </tr>\n",
      "   <tr>\n",
      "    <td>\n",
      "     Florence\n",
      "    </td>\n",
      "    <td>\n",
      "     <span class=\"comments\">\n",
      "      95\n",
      "     </span>\n",
      "    </td>\n",
      "   </tr>\n",
      "   <tr>\n",
      "    <td>\n",
      "     Tess\n",
      "    </td>\n",
      "    <td>\n",
      "     <span class=\"comments\">\n",
      "      93\n",
      "     </span>\n",
      "    </td>\n",
      "   </tr>\n",
      "   <tr>\n",
      "    <td>\n",
      "     Cloe\n",
      "    </td>\n",
      "    <td>\n",
      "     <span class=\"comments\">\n",
      "      90\n",
      "     </span>\n",
      "    </td>\n",
      "   </tr>\n",
      "   <tr>\n",
      "    <td>\n",
      "     Sajjad\n",
      "    </td>\n",
      "    <td>\n",
      "     <span class=\"comments\">\n",
      "      89\n",
      "     </span>\n",
      "    </td>\n",
      "   </tr>\n",
      "   <tr>\n",
      "    <td>\n",
      "     Keetza\n",
      "    </td>\n",
      "    <td>\n",
      "     <span class=\"comments\">\n",
      "      89\n",
      "     </span>\n",
      "    </td>\n",
      "   </tr>\n",
      "   <tr>\n",
      "    <td>\n",
      "     Sharlyn\n",
      "    </td>\n",
      "    <td>\n",
      "     <span class=\"comments\">\n",
      "      85\n",
      "     </span>\n",
      "    </td>\n",
      "   </tr>\n",
      "   <tr>\n",
      "    <td>\n",
      "     Elody\n",
      "    </td>\n",
      "    <td>\n",
      "     <span class=\"comments\">\n",
      "      85\n",
      "     </span>\n",
      "    </td>\n",
      "   </tr>\n",
      "   <tr>\n",
      "    <td>\n",
      "     Minaal\n",
      "    </td>\n",
      "    <td>\n",
      "     <span class=\"comments\">\n",
      "      85\n",
      "     </span>\n",
      "    </td>\n",
      "   </tr>\n",
      "   <tr>\n",
      "    <td>\n",
      "     Leanna\n",
      "    </td>\n",
      "    <td>\n",
      "     <span class=\"comments\">\n",
      "      82\n",
      "     </span>\n",
      "    </td>\n",
      "   </tr>\n",
      "   <tr>\n",
      "    <td>\n",
      "     Ally\n",
      "    </td>\n",
      "    <td>\n",
      "     <span class=\"comments\">\n",
      "      82\n",
      "     </span>\n",
      "    </td>\n",
      "   </tr>\n",
      "   <tr>\n",
      "    <td>\n",
      "     Remei\n",
      "    </td>\n",
      "    <td>\n",
      "     <span class=\"comments\">\n",
      "      76\n",
      "     </span>\n",
      "    </td>\n",
      "   </tr>\n",
      "   <tr>\n",
      "    <td>\n",
      "     Alphonse\n",
      "    </td>\n",
      "    <td>\n",
      "     <span class=\"comments\">\n",
      "      75\n",
      "     </span>\n",
      "    </td>\n",
      "   </tr>\n",
      "   <tr>\n",
      "    <td>\n",
      "     Nichole\n",
      "    </td>\n",
      "    <td>\n",
      "     <span class=\"comments\">\n",
      "      72\n",
      "     </span>\n",
      "    </td>\n",
      "   </tr>\n",
      "   <tr>\n",
      "    <td>\n",
      "     Edyn\n",
      "    </td>\n",
      "    <td>\n",
      "     <span class=\"comments\">\n",
      "      71\n",
      "     </span>\n",
      "    </td>\n",
      "   </tr>\n",
      "   <tr>\n",
      "    <td>\n",
      "     Martin\n",
      "    </td>\n",
      "    <td>\n",
      "     <span class=\"comments\">\n",
      "      67\n",
      "     </span>\n",
      "    </td>\n",
      "   </tr>\n",
      "   <tr>\n",
      "    <td>\n",
      "     Tiegan\n",
      "    </td>\n",
      "    <td>\n",
      "     <span class=\"comments\">\n",
      "      66\n",
      "     </span>\n",
      "    </td>\n",
      "   </tr>\n",
      "   <tr>\n",
      "    <td>\n",
      "     Okeoghene\n",
      "    </td>\n",
      "    <td>\n",
      "     <span class=\"comments\">\n",
      "      66\n",
      "     </span>\n",
      "    </td>\n",
      "   </tr>\n",
      "   <tr>\n",
      "    <td>\n",
      "     Hanna\n",
      "    </td>\n",
      "    <td>\n",
      "     <span class=\"comments\">\n",
      "      64\n",
      "     </span>\n",
      "    </td>\n",
      "   </tr>\n",
      "   <tr>\n",
      "    <td>\n",
      "     Tieghan\n",
      "    </td>\n",
      "    <td>\n",
      "     <span class=\"comments\">\n",
      "      62\n",
      "     </span>\n",
      "    </td>\n",
      "   </tr>\n",
      "   <tr>\n",
      "    <td>\n",
      "     Miah\n",
      "    </td>\n",
      "    <td>\n",
      "     <span class=\"comments\">\n",
      "      62\n",
      "     </span>\n",
      "    </td>\n",
      "   </tr>\n",
      "   <tr>\n",
      "    <td>\n",
      "     Leyia\n",
      "    </td>\n",
      "    <td>\n",
      "     <span class=\"comments\">\n",
      "      60\n",
      "     </span>\n",
      "    </td>\n",
      "   </tr>\n",
      "   <tr>\n",
      "    <td>\n",
      "     Atal\n",
      "    </td>\n",
      "    <td>\n",
      "     <span class=\"comments\">\n",
      "      60\n",
      "     </span>\n",
      "    </td>\n",
      "   </tr>\n",
      "   <tr>\n",
      "    <td>\n",
      "     Rianne\n",
      "    </td>\n",
      "    <td>\n",
      "     <span class=\"comments\">\n",
      "      60\n",
      "     </span>\n",
      "    </td>\n",
      "   </tr>\n",
      "   <tr>\n",
      "    <td>\n",
      "     Eireann\n",
      "    </td>\n",
      "    <td>\n",
      "     <span class=\"comments\">\n",
      "      59\n",
      "     </span>\n",
      "    </td>\n",
      "   </tr>\n",
      "   <tr>\n",
      "    <td>\n",
      "     Ailey\n",
      "    </td>\n",
      "    <td>\n",
      "     <span class=\"comments\">\n",
      "      56\n",
      "     </span>\n",
      "    </td>\n",
      "   </tr>\n",
      "   <tr>\n",
      "    <td>\n",
      "     Kaysha\n",
      "    </td>\n",
      "    <td>\n",
      "     <span class=\"comments\">\n",
      "      55\n",
      "     </span>\n",
      "    </td>\n",
      "   </tr>\n",
      "   <tr>\n",
      "    <td>\n",
      "     Akan\n",
      "    </td>\n",
      "    <td>\n",
      "     <span class=\"comments\">\n",
      "      53\n",
      "     </span>\n",
      "    </td>\n",
      "   </tr>\n",
      "   <tr>\n",
      "    <td>\n",
      "     Zosia\n",
      "    </td>\n",
      "    <td>\n",
      "     <span class=\"comments\">\n",
      "      52\n",
      "     </span>\n",
      "    </td>\n",
      "   </tr>\n",
      "   <tr>\n",
      "    <td>\n",
      "     Laiba\n",
      "    </td>\n",
      "    <td>\n",
      "     <span class=\"comments\">\n",
      "      49\n",
      "     </span>\n",
      "    </td>\n",
      "   </tr>\n",
      "   <tr>\n",
      "    <td>\n",
      "     Ina\n",
      "    </td>\n",
      "    <td>\n",
      "     <span class=\"comments\">\n",
      "      48\n",
      "     </span>\n",
      "    </td>\n",
      "   </tr>\n",
      "   <tr>\n",
      "    <td>\n",
      "     Zinto\n",
      "    </td>\n",
      "    <td>\n",
      "     <span class=\"comments\">\n",
      "      47\n",
      "     </span>\n",
      "    </td>\n",
      "   </tr>\n",
      "   <tr>\n",
      "    <td>\n",
      "     Ice\n",
      "    </td>\n",
      "    <td>\n",
      "     <span class=\"comments\">\n",
      "      45\n",
      "     </span>\n",
      "    </td>\n",
      "   </tr>\n",
      "   <tr>\n",
      "    <td>\n",
      "     Mairin\n",
      "    </td>\n",
      "    <td>\n",
      "     <span class=\"comments\">\n",
      "      40\n",
      "     </span>\n",
      "    </td>\n",
      "   </tr>\n",
      "   <tr>\n",
      "    <td>\n",
      "     Dobrawa\n",
      "    </td>\n",
      "    <td>\n",
      "     <span class=\"comments\">\n",
      "      35\n",
      "     </span>\n",
      "    </td>\n",
      "   </tr>\n",
      "   <tr>\n",
      "    <td>\n",
      "     Naia\n",
      "    </td>\n",
      "    <td>\n",
      "     <span class=\"comments\">\n",
      "      33\n",
      "     </span>\n",
      "    </td>\n",
      "   </tr>\n",
      "   <tr>\n",
      "    <td>\n",
      "     Montague\n",
      "    </td>\n",
      "    <td>\n",
      "     <span class=\"comments\">\n",
      "      33\n",
      "     </span>\n",
      "    </td>\n",
      "   </tr>\n",
      "   <tr>\n",
      "    <td>\n",
      "     Nontando\n",
      "    </td>\n",
      "    <td>\n",
      "     <span class=\"comments\">\n",
      "      27\n",
      "     </span>\n",
      "    </td>\n",
      "   </tr>\n",
      "   <tr>\n",
      "    <td>\n",
      "     Shaarvin\n",
      "    </td>\n",
      "    <td>\n",
      "     <span class=\"comments\">\n",
      "      24\n",
      "     </span>\n",
      "    </td>\n",
      "   </tr>\n",
      "   <tr>\n",
      "    <td>\n",
      "     Jaymi\n",
      "    </td>\n",
      "    <td>\n",
      "     <span class=\"comments\">\n",
      "      23\n",
      "     </span>\n",
      "    </td>\n",
      "   </tr>\n",
      "   <tr>\n",
      "    <td>\n",
      "     Carmella\n",
      "    </td>\n",
      "    <td>\n",
      "     <span class=\"comments\">\n",
      "      19\n",
      "     </span>\n",
      "    </td>\n",
      "   </tr>\n",
      "   <tr>\n",
      "    <td>\n",
      "     Kdi\n",
      "    </td>\n",
      "    <td>\n",
      "     <span class=\"comments\">\n",
      "      19\n",
      "     </span>\n",
      "    </td>\n",
      "   </tr>\n",
      "   <tr>\n",
      "    <td>\n",
      "     Coll\n",
      "    </td>\n",
      "    <td>\n",
      "     <span class=\"comments\">\n",
      "      18\n",
      "     </span>\n",
      "    </td>\n",
      "   </tr>\n",
      "   <tr>\n",
      "    <td>\n",
      "     Lene\n",
      "    </td>\n",
      "    <td>\n",
      "     <span class=\"comments\">\n",
      "      14\n",
      "     </span>\n",
      "    </td>\n",
      "   </tr>\n",
      "   <tr>\n",
      "    <td>\n",
      "     Marshall\n",
      "    </td>\n",
      "    <td>\n",
      "     <span class=\"comments\">\n",
      "      12\n",
      "     </span>\n",
      "    </td>\n",
      "   </tr>\n",
      "   <tr>\n",
      "    <td>\n",
      "     Milla\n",
      "    </td>\n",
      "    <td>\n",
      "     <span class=\"comments\">\n",
      "      9\n",
      "     </span>\n",
      "    </td>\n",
      "   </tr>\n",
      "   <tr>\n",
      "    <td>\n",
      "     Edward\n",
      "    </td>\n",
      "    <td>\n",
      "     <span class=\"comments\">\n",
      "      8\n",
      "     </span>\n",
      "    </td>\n",
      "   </tr>\n",
      "   <tr>\n",
      "    <td>\n",
      "     Kitana\n",
      "    </td>\n",
      "    <td>\n",
      "     <span class=\"comments\">\n",
      "      5\n",
      "     </span>\n",
      "    </td>\n",
      "   </tr>\n",
      "   <tr>\n",
      "    <td>\n",
      "     Maneet\n",
      "    </td>\n",
      "    <td>\n",
      "     <span class=\"comments\">\n",
      "      1\n",
      "     </span>\n",
      "    </td>\n",
      "   </tr>\n",
      "  </table>\n",
      " </body>\n",
      "</html>\n",
      "\n"
     ]
    }
   ],
   "source": [
    "print(soup.prettify())"
   ]
  },
  {
   "cell_type": "code",
   "execution_count": 32,
   "metadata": {},
   "outputs": [
    {
     "data": {
      "text/plain": [
       "['\\n', <td>Name</td>, <td>Comments</td>, '\\n']"
      ]
     },
     "execution_count": 32,
     "metadata": {},
     "output_type": "execute_result"
    },
    {
     "data": {
      "text/plain": [
       "'\\n'"
      ]
     },
     "execution_count": 32,
     "metadata": {},
     "output_type": "execute_result"
    },
    {
     "data": {
      "text/plain": [
       "<td>Name</td>"
      ]
     },
     "execution_count": 32,
     "metadata": {},
     "output_type": "execute_result"
    },
    {
     "data": {
      "text/plain": [
       "<td>Comments</td>"
      ]
     },
     "execution_count": 32,
     "metadata": {},
     "output_type": "execute_result"
    },
    {
     "data": {
      "text/plain": [
       "'Name'"
      ]
     },
     "execution_count": 32,
     "metadata": {},
     "output_type": "execute_result"
    },
    {
     "data": {
      "text/plain": [
       "'\\n'"
      ]
     },
     "execution_count": 32,
     "metadata": {},
     "output_type": "execute_result"
    }
   ],
   "source": [
    "soup.tr.contents\n",
    "soup.tr.contents[0]\n",
    "soup.tr.contents[1]\n",
    "soup.tr.contents[2]\n",
    "soup.tr.contents[1].contents[0]\n",
    "soup.tr.contents[3]"
   ]
  },
  {
   "cell_type": "code",
   "execution_count": 33,
   "metadata": {},
   "outputs": [
    {
     "data": {
      "text/plain": [
       "<td>Name</td>"
      ]
     },
     "execution_count": 33,
     "metadata": {},
     "output_type": "execute_result"
    }
   ],
   "source": [
    "soup.tr.contents[1]"
   ]
  },
  {
   "cell_type": "code",
   "execution_count": 34,
   "metadata": {
    "scrolled": true
   },
   "outputs": [
    {
     "data": {
      "text/plain": [
       "['Sona', 'Harley', 'Florence', 'Tess', 'Cloe']"
      ]
     },
     "execution_count": 34,
     "metadata": {},
     "output_type": "execute_result"
    },
    {
     "data": {
      "text/plain": [
       "[100, 98, 95, 93, 90]"
      ]
     },
     "execution_count": 34,
     "metadata": {},
     "output_type": "execute_result"
    },
    {
     "data": {
      "text/plain": [
       "50"
      ]
     },
     "execution_count": 34,
     "metadata": {},
     "output_type": "execute_result"
    },
    {
     "data": {
      "text/plain": [
       "50"
      ]
     },
     "execution_count": 34,
     "metadata": {},
     "output_type": "execute_result"
    },
    {
     "data": {
      "text/html": [
       "<div>\n",
       "<table border=\"1\" class=\"dataframe\">\n",
       "  <thead>\n",
       "    <tr style=\"text-align: right;\">\n",
       "      <th></th>\n",
       "      <th>Comments</th>\n",
       "      <th>Name</th>\n",
       "    </tr>\n",
       "  </thead>\n",
       "  <tbody>\n",
       "    <tr>\n",
       "      <th>0</th>\n",
       "      <td>100</td>\n",
       "      <td>Sona</td>\n",
       "    </tr>\n",
       "    <tr>\n",
       "      <th>1</th>\n",
       "      <td>98</td>\n",
       "      <td>Harley</td>\n",
       "    </tr>\n",
       "    <tr>\n",
       "      <th>2</th>\n",
       "      <td>95</td>\n",
       "      <td>Florence</td>\n",
       "    </tr>\n",
       "    <tr>\n",
       "      <th>3</th>\n",
       "      <td>93</td>\n",
       "      <td>Tess</td>\n",
       "    </tr>\n",
       "    <tr>\n",
       "      <th>4</th>\n",
       "      <td>90</td>\n",
       "      <td>Cloe</td>\n",
       "    </tr>\n",
       "    <tr>\n",
       "      <th>5</th>\n",
       "      <td>89</td>\n",
       "      <td>Sajjad</td>\n",
       "    </tr>\n",
       "    <tr>\n",
       "      <th>6</th>\n",
       "      <td>89</td>\n",
       "      <td>Keetza</td>\n",
       "    </tr>\n",
       "    <tr>\n",
       "      <th>7</th>\n",
       "      <td>85</td>\n",
       "      <td>Sharlyn</td>\n",
       "    </tr>\n",
       "    <tr>\n",
       "      <th>8</th>\n",
       "      <td>85</td>\n",
       "      <td>Elody</td>\n",
       "    </tr>\n",
       "    <tr>\n",
       "      <th>9</th>\n",
       "      <td>85</td>\n",
       "      <td>Minaal</td>\n",
       "    </tr>\n",
       "    <tr>\n",
       "      <th>10</th>\n",
       "      <td>82</td>\n",
       "      <td>Leanna</td>\n",
       "    </tr>\n",
       "    <tr>\n",
       "      <th>11</th>\n",
       "      <td>82</td>\n",
       "      <td>Ally</td>\n",
       "    </tr>\n",
       "    <tr>\n",
       "      <th>12</th>\n",
       "      <td>76</td>\n",
       "      <td>Remei</td>\n",
       "    </tr>\n",
       "    <tr>\n",
       "      <th>13</th>\n",
       "      <td>75</td>\n",
       "      <td>Alphonse</td>\n",
       "    </tr>\n",
       "    <tr>\n",
       "      <th>14</th>\n",
       "      <td>72</td>\n",
       "      <td>Nichole</td>\n",
       "    </tr>\n",
       "    <tr>\n",
       "      <th>15</th>\n",
       "      <td>71</td>\n",
       "      <td>Edyn</td>\n",
       "    </tr>\n",
       "    <tr>\n",
       "      <th>16</th>\n",
       "      <td>67</td>\n",
       "      <td>Martin</td>\n",
       "    </tr>\n",
       "    <tr>\n",
       "      <th>17</th>\n",
       "      <td>66</td>\n",
       "      <td>Tiegan</td>\n",
       "    </tr>\n",
       "    <tr>\n",
       "      <th>18</th>\n",
       "      <td>66</td>\n",
       "      <td>Okeoghene</td>\n",
       "    </tr>\n",
       "    <tr>\n",
       "      <th>19</th>\n",
       "      <td>64</td>\n",
       "      <td>Hanna</td>\n",
       "    </tr>\n",
       "    <tr>\n",
       "      <th>20</th>\n",
       "      <td>62</td>\n",
       "      <td>Tieghan</td>\n",
       "    </tr>\n",
       "    <tr>\n",
       "      <th>21</th>\n",
       "      <td>62</td>\n",
       "      <td>Miah</td>\n",
       "    </tr>\n",
       "    <tr>\n",
       "      <th>22</th>\n",
       "      <td>60</td>\n",
       "      <td>Leyia</td>\n",
       "    </tr>\n",
       "    <tr>\n",
       "      <th>23</th>\n",
       "      <td>60</td>\n",
       "      <td>Atal</td>\n",
       "    </tr>\n",
       "    <tr>\n",
       "      <th>24</th>\n",
       "      <td>60</td>\n",
       "      <td>Rianne</td>\n",
       "    </tr>\n",
       "    <tr>\n",
       "      <th>25</th>\n",
       "      <td>59</td>\n",
       "      <td>Eireann</td>\n",
       "    </tr>\n",
       "    <tr>\n",
       "      <th>26</th>\n",
       "      <td>56</td>\n",
       "      <td>Ailey</td>\n",
       "    </tr>\n",
       "    <tr>\n",
       "      <th>27</th>\n",
       "      <td>55</td>\n",
       "      <td>Kaysha</td>\n",
       "    </tr>\n",
       "    <tr>\n",
       "      <th>28</th>\n",
       "      <td>53</td>\n",
       "      <td>Akan</td>\n",
       "    </tr>\n",
       "    <tr>\n",
       "      <th>29</th>\n",
       "      <td>52</td>\n",
       "      <td>Zosia</td>\n",
       "    </tr>\n",
       "    <tr>\n",
       "      <th>30</th>\n",
       "      <td>49</td>\n",
       "      <td>Laiba</td>\n",
       "    </tr>\n",
       "    <tr>\n",
       "      <th>31</th>\n",
       "      <td>48</td>\n",
       "      <td>Ina</td>\n",
       "    </tr>\n",
       "    <tr>\n",
       "      <th>32</th>\n",
       "      <td>47</td>\n",
       "      <td>Zinto</td>\n",
       "    </tr>\n",
       "    <tr>\n",
       "      <th>33</th>\n",
       "      <td>45</td>\n",
       "      <td>Ice</td>\n",
       "    </tr>\n",
       "    <tr>\n",
       "      <th>34</th>\n",
       "      <td>40</td>\n",
       "      <td>Mairin</td>\n",
       "    </tr>\n",
       "    <tr>\n",
       "      <th>35</th>\n",
       "      <td>35</td>\n",
       "      <td>Dobrawa</td>\n",
       "    </tr>\n",
       "    <tr>\n",
       "      <th>36</th>\n",
       "      <td>33</td>\n",
       "      <td>Naia</td>\n",
       "    </tr>\n",
       "    <tr>\n",
       "      <th>37</th>\n",
       "      <td>33</td>\n",
       "      <td>Montague</td>\n",
       "    </tr>\n",
       "    <tr>\n",
       "      <th>38</th>\n",
       "      <td>27</td>\n",
       "      <td>Nontando</td>\n",
       "    </tr>\n",
       "    <tr>\n",
       "      <th>39</th>\n",
       "      <td>24</td>\n",
       "      <td>Shaarvin</td>\n",
       "    </tr>\n",
       "    <tr>\n",
       "      <th>40</th>\n",
       "      <td>23</td>\n",
       "      <td>Jaymi</td>\n",
       "    </tr>\n",
       "    <tr>\n",
       "      <th>41</th>\n",
       "      <td>19</td>\n",
       "      <td>Carmella</td>\n",
       "    </tr>\n",
       "    <tr>\n",
       "      <th>42</th>\n",
       "      <td>19</td>\n",
       "      <td>Kdi</td>\n",
       "    </tr>\n",
       "    <tr>\n",
       "      <th>43</th>\n",
       "      <td>18</td>\n",
       "      <td>Coll</td>\n",
       "    </tr>\n",
       "    <tr>\n",
       "      <th>44</th>\n",
       "      <td>14</td>\n",
       "      <td>Lene</td>\n",
       "    </tr>\n",
       "    <tr>\n",
       "      <th>45</th>\n",
       "      <td>12</td>\n",
       "      <td>Marshall</td>\n",
       "    </tr>\n",
       "    <tr>\n",
       "      <th>46</th>\n",
       "      <td>9</td>\n",
       "      <td>Milla</td>\n",
       "    </tr>\n",
       "    <tr>\n",
       "      <th>47</th>\n",
       "      <td>8</td>\n",
       "      <td>Edward</td>\n",
       "    </tr>\n",
       "    <tr>\n",
       "      <th>48</th>\n",
       "      <td>5</td>\n",
       "      <td>Kitana</td>\n",
       "    </tr>\n",
       "    <tr>\n",
       "      <th>49</th>\n",
       "      <td>1</td>\n",
       "      <td>Maneet</td>\n",
       "    </tr>\n",
       "  </tbody>\n",
       "</table>\n",
       "</div>"
      ],
      "text/plain": [
       "    Comments       Name\n",
       "0        100       Sona\n",
       "1         98     Harley\n",
       "2         95   Florence\n",
       "3         93       Tess\n",
       "4         90       Cloe\n",
       "5         89     Sajjad\n",
       "6         89     Keetza\n",
       "7         85    Sharlyn\n",
       "8         85      Elody\n",
       "9         85     Minaal\n",
       "10        82     Leanna\n",
       "11        82       Ally\n",
       "12        76      Remei\n",
       "13        75   Alphonse\n",
       "14        72    Nichole\n",
       "15        71       Edyn\n",
       "16        67     Martin\n",
       "17        66     Tiegan\n",
       "18        66  Okeoghene\n",
       "19        64      Hanna\n",
       "20        62    Tieghan\n",
       "21        62       Miah\n",
       "22        60      Leyia\n",
       "23        60       Atal\n",
       "24        60     Rianne\n",
       "25        59    Eireann\n",
       "26        56      Ailey\n",
       "27        55     Kaysha\n",
       "28        53       Akan\n",
       "29        52      Zosia\n",
       "30        49      Laiba\n",
       "31        48        Ina\n",
       "32        47      Zinto\n",
       "33        45        Ice\n",
       "34        40     Mairin\n",
       "35        35    Dobrawa\n",
       "36        33       Naia\n",
       "37        33   Montague\n",
       "38        27   Nontando\n",
       "39        24   Shaarvin\n",
       "40        23      Jaymi\n",
       "41        19   Carmella\n",
       "42        19        Kdi\n",
       "43        18       Coll\n",
       "44        14       Lene\n",
       "45        12   Marshall\n",
       "46         9      Milla\n",
       "47         8     Edward\n",
       "48         5     Kitana\n",
       "49         1     Maneet"
      ]
     },
     "execution_count": 34,
     "metadata": {},
     "output_type": "execute_result"
    }
   ],
   "source": [
    "# 将表格数据提取出来 \n",
    "import numpy as np\n",
    "nametag = soup('tr')\n",
    "namelist = [tag.contents[0] for tag in nametag]\n",
    "name = [namelist[i].contents[0] for i in np.arange(1,51)]\n",
    "name[:5]\n",
    "\n",
    "comments = [int(tag.contents[0]) for tag in tags]\n",
    "comments[:5]\n",
    "len(name)\n",
    "len(comments)\n",
    "import pandas as pd\n",
    "data = pd.DataFrame({'Name':name,'Comments':comments})\n",
    "data"
   ]
  },
  {
   "cell_type": "markdown",
   "metadata": {},
   "source": [
    "### Week4_Assignment2"
   ]
  },
  {
   "cell_type": "markdown",
   "metadata": {},
   "source": [
    "The program will use urllib to read the HTML from the data files below, extract the href= vaues from the anchor tags, scan for a tag that is in a particular position relative to the first name in the list, follow that link and repeat the process a number of times and report the last name you find.\n",
    "\n",
    "We provide two files for this assignment. One is a sample file where we give you the name for your testing and the other is the actual data you need to process for the assignment\n",
    "\n",
    "Sample problem: Start at http://py4e-data.dr-chuck.net/known_by_Fikret.html \n",
    "Find the link at position 3 (the first name is 1). Follow that link. Repeat this process 4 times. The answer is the last name that you retrieve.\n",
    "Sequence of names: Fikret Montgomery Mhairade Butchi Anayah \n",
    "Last name in sequence: Anayah\n",
    "Actual problem: Start at: http://py4e-data.dr-chuck.net/known_by_Hailie.html \n",
    "Find the link at position 18 (the first name is 1). Follow that link. Repeat this process 7 times. The answer is the last name that you retrieve.\n",
    "Hint: The first character of the name of the last page that you will load is: L"
   ]
  },
  {
   "cell_type": "code",
   "execution_count": 35,
   "metadata": {},
   "outputs": [
    {
     "name": "stdout",
     "output_type": "stream",
     "text": [
      "Enter URL- http://py4e-data.dr-chuck.net/known_by_Fikret.html\n",
      "Enter start poisition number: 18\n",
      "Enter the number of steps: 7\n",
      "Retrieving:  http://py4e-data.dr-chuck.net/known_by_Fikret.html\n",
      "Retrieving:  http://py4e-data.dr-chuck.net/known_by_Margaret.html\n",
      "Retrieving:  http://py4e-data.dr-chuck.net/known_by_Ailee.html\n",
      "Retrieving:  http://py4e-data.dr-chuck.net/known_by_Banan.html\n",
      "Retrieving:  http://py4e-data.dr-chuck.net/known_by_Kealcy.html\n",
      "Retrieving:  http://py4e-data.dr-chuck.net/known_by_Mykie.html\n",
      "Retrieving:  http://py4e-data.dr-chuck.net/known_by_Lucy.html\n",
      "Retrieving:  http://py4e-data.dr-chuck.net/known_by_Archibald.html\n"
     ]
    }
   ],
   "source": [
    "import urllib.request, urllib.parse, urllib.error\n",
    "from bs4 import BeautifulSoup\n",
    "import ssl\n",
    "\n",
    "# Ignore SSL certificate errors\n",
    "ctx = ssl.create_default_context()\n",
    "ctx.check_hostname = False\n",
    "ctx.verify_mode = ssl.CERT_NONE\n",
    "\n",
    "# Retrieve all of the anchor tags\n",
    "# 从初始url开始，查找每一个链接打开后的第三个链接，连续4次，所以url需要循环\n",
    "url = input('Enter URL- ')\n",
    "position = int(input('Enter start poisition number: '))\n",
    "steps = int(input('Enter the number of steps: '))\n",
    "# sample data  http://py4e-data.dr-chuck.net/known_by_Fikret.html\n",
    "# actual data  http://py4e-data.dr-chuck.net/known_by_Hailie.html\n",
    "i=0\n",
    "while i < steps+1:\n",
    "    html = urllib.request.urlopen(url, context=ctx).read()\n",
    "    soup = BeautifulSoup(html, 'html.parser')\n",
    "    tags = soup('a')\n",
    "    print('Retrieving: ', url)\n",
    "    url = tags[position-1].get('href', None)\n",
    "    i += 1"
   ]
  },
  {
   "cell_type": "code",
   "execution_count": 36,
   "metadata": {},
   "outputs": [
    {
     "name": "stdout",
     "output_type": "stream",
     "text": [
      "<html>\n",
      " <head>\n",
      "  <title>\n",
      "   People that Archibald knows\n",
      "  </title>\n",
      "  <style>\n",
      "   .overlay{\n",
      "    opacity:0.99;\n",
      "    background-color:#eee;\n",
      "    position:fixed;\n",
      "    width:100%;\n",
      "    height:100%;\n",
      "    top:0px;\n",
      "    left:0px;\n",
      "    z-index:1000;\n",
      "}\n",
      "  </style>\n",
      " </head>\n",
      " <body>\n",
      "  <h1>\n",
      "   People that Archibald knows\n",
      "  </h1>\n",
      "  <div class=\"overlay\" id=\"overlay\" style=\"display:none\">\n",
      "   <center>\n",
      "    <h2>\n",
      "     This screen randomly changes the height between list items and vanishes \n",
      "after a while to make sure that you retrieve and process the data\n",
      "in a Python program rather than simply counting down pressing links, and \n",
      "doing the assignment without writing a Python program :).\n",
      "The names are in the same order in the HTML even though they \n",
      "shift around on the screen visually.\n",
      "Your Python program can look at the page as long as it likes.\n",
      "    </h2>\n",
      "   </center>\n",
      "  </div>\n",
      "  <ul>\n",
      "   <li style=\"margin-top: 6px;\">\n",
      "    <a href=\"http://py4e-data.dr-chuck.net/known_by_Kaia.html\">\n",
      "     Kaia\n",
      "    </a>\n",
      "   </li>\n",
      "   <li style=\"margin-top: 18px;\">\n",
      "    <a href=\"http://py4e-data.dr-chuck.net/known_by_Ashley.html\">\n",
      "     Ashley\n",
      "    </a>\n",
      "   </li>\n",
      "   <li style=\"margin-top: 16px;\">\n",
      "    <a href=\"http://py4e-data.dr-chuck.net/known_by_Hui.html\">\n",
      "     Hui\n",
      "    </a>\n",
      "   </li>\n",
      "   <li style=\"margin-top: 20px;\">\n",
      "    <a href=\"http://py4e-data.dr-chuck.net/known_by_Skie.html\">\n",
      "     Skie\n",
      "    </a>\n",
      "   </li>\n",
      "   <li style=\"margin-top: 2px;\">\n",
      "    <a href=\"http://py4e-data.dr-chuck.net/known_by_Nairne.html\">\n",
      "     Nairne\n",
      "    </a>\n",
      "   </li>\n",
      "   <li style=\"margin-top: 21px;\">\n",
      "    <a href=\"http://py4e-data.dr-chuck.net/known_by_Gabriel.html\">\n",
      "     Gabriel\n",
      "    </a>\n",
      "   </li>\n",
      "   <li style=\"margin-top: 13px;\">\n",
      "    <a href=\"http://py4e-data.dr-chuck.net/known_by_Krzysiek.html\">\n",
      "     Krzysiek\n",
      "    </a>\n",
      "   </li>\n",
      "   <li style=\"margin-top: 4px;\">\n",
      "    <a href=\"http://py4e-data.dr-chuck.net/known_by_Laiba.html\">\n",
      "     Laiba\n",
      "    </a>\n",
      "   </li>\n",
      "   <li style=\"margin-top: 18px;\">\n",
      "    <a href=\"http://py4e-data.dr-chuck.net/known_by_Teiyib.html\">\n",
      "     Teiyib\n",
      "    </a>\n",
      "   </li>\n",
      "   <li style=\"margin-top: 9px;\">\n",
      "    <a href=\"http://py4e-data.dr-chuck.net/known_by_Lennox.html\">\n",
      "     Lennox\n",
      "    </a>\n",
      "   </li>\n",
      "   <li style=\"margin-top: 1px;\">\n",
      "    <a href=\"http://py4e-data.dr-chuck.net/known_by_Tommy.html\">\n",
      "     Tommy\n",
      "    </a>\n",
      "   </li>\n",
      "   <li style=\"margin-top: 15px;\">\n",
      "    <a href=\"http://py4e-data.dr-chuck.net/known_by_Esmeralda.html\">\n",
      "     Esmeralda\n",
      "    </a>\n",
      "   </li>\n",
      "   <li style=\"margin-top: 7px;\">\n",
      "    <a href=\"http://py4e-data.dr-chuck.net/known_by_Kararose.html\">\n",
      "     Kararose\n",
      "    </a>\n",
      "   </li>\n",
      "   <li style=\"margin-top: 23px;\">\n",
      "    <a href=\"http://py4e-data.dr-chuck.net/known_by_Jazib.html\">\n",
      "     Jazib\n",
      "    </a>\n",
      "   </li>\n",
      "   <li style=\"margin-top: 28px;\">\n",
      "    <a href=\"http://py4e-data.dr-chuck.net/known_by_Finnley.html\">\n",
      "     Finnley\n",
      "    </a>\n",
      "   </li>\n",
      "   <li style=\"margin-top: 37px;\">\n",
      "    <a href=\"http://py4e-data.dr-chuck.net/known_by_Talya.html\">\n",
      "     Talya\n",
      "    </a>\n",
      "   </li>\n",
      "   <li style=\"margin-top: 29px;\">\n",
      "    <a href=\"http://py4e-data.dr-chuck.net/known_by_Alec.html\">\n",
      "     Alec\n",
      "    </a>\n",
      "   </li>\n",
      "   <li style=\"margin-top: 40px;\">\n",
      "    <a href=\"http://py4e-data.dr-chuck.net/known_by_Keirra.html\">\n",
      "     Keirra\n",
      "    </a>\n",
      "   </li>\n",
      "   <li style=\"margin-top: 33px;\">\n",
      "    <a href=\"http://py4e-data.dr-chuck.net/known_by_Jasveer.html\">\n",
      "     Jasveer\n",
      "    </a>\n",
      "   </li>\n",
      "   <li style=\"margin-top: 22px;\">\n",
      "    <a href=\"http://py4e-data.dr-chuck.net/known_by_Raees.html\">\n",
      "     Raees\n",
      "    </a>\n",
      "   </li>\n",
      "   <li style=\"margin-top: 27px;\">\n",
      "    <a href=\"http://py4e-data.dr-chuck.net/known_by_Kristina.html\">\n",
      "     Kristina\n",
      "    </a>\n",
      "   </li>\n",
      "   <li style=\"margin-top: 13px;\">\n",
      "    <a href=\"http://py4e-data.dr-chuck.net/known_by_Shanade.html\">\n",
      "     Shanade\n",
      "    </a>\n",
      "   </li>\n",
      "   <li style=\"margin-top: 40px;\">\n",
      "    <a href=\"http://py4e-data.dr-chuck.net/known_by_Charlize.html\">\n",
      "     Charlize\n",
      "    </a>\n",
      "   </li>\n",
      "   <li style=\"margin-top: 16px;\">\n",
      "    <a href=\"http://py4e-data.dr-chuck.net/known_by_Greg.html\">\n",
      "     Greg\n",
      "    </a>\n",
      "   </li>\n",
      "   <li style=\"margin-top: 35px;\">\n",
      "    <a href=\"http://py4e-data.dr-chuck.net/known_by_Adana.html\">\n",
      "     Adana\n",
      "    </a>\n",
      "   </li>\n",
      "   <li style=\"margin-top: 6px;\">\n",
      "    <a href=\"http://py4e-data.dr-chuck.net/known_by_Fikret.html\">\n",
      "     Fikret\n",
      "    </a>\n",
      "   </li>\n",
      "   <li style=\"margin-top: 28px;\">\n",
      "    <a href=\"http://py4e-data.dr-chuck.net/known_by_Aaliyah.html\">\n",
      "     Aaliyah\n",
      "    </a>\n",
      "   </li>\n",
      "   <li style=\"margin-top: 39px;\">\n",
      "    <a href=\"http://py4e-data.dr-chuck.net/known_by_Girls.html\">\n",
      "     Girls\n",
      "    </a>\n",
      "   </li>\n",
      "   <li style=\"margin-top: 21px;\">\n",
      "    <a href=\"http://py4e-data.dr-chuck.net/known_by_Eibhlin.html\">\n",
      "     Eibhlin\n",
      "    </a>\n",
      "   </li>\n",
      "   <li style=\"margin-top: 43px;\">\n",
      "    <a href=\"http://py4e-data.dr-chuck.net/known_by_Msughter.html\">\n",
      "     Msughter\n",
      "    </a>\n",
      "   </li>\n",
      "   <li style=\"margin-top: 13px;\">\n",
      "    <a href=\"http://py4e-data.dr-chuck.net/known_by_Hector.html\">\n",
      "     Hector\n",
      "    </a>\n",
      "   </li>\n",
      "   <li style=\"margin-top: 29px;\">\n",
      "    <a href=\"http://py4e-data.dr-chuck.net/known_by_Maighdlin.html\">\n",
      "     Maighdlin\n",
      "    </a>\n",
      "   </li>\n",
      "   <li style=\"margin-top: 11px;\">\n",
      "    <a href=\"http://py4e-data.dr-chuck.net/known_by_Nikol.html\">\n",
      "     Nikol\n",
      "    </a>\n",
      "   </li>\n",
      "   <li style=\"margin-top: 30px;\">\n",
      "    <a href=\"http://py4e-data.dr-chuck.net/known_by_Eilidh.html\">\n",
      "     Eilidh\n",
      "    </a>\n",
      "   </li>\n",
      "   <li style=\"margin-top: 22px;\">\n",
      "    <a href=\"http://py4e-data.dr-chuck.net/known_by_Miguel.html\">\n",
      "     Miguel\n",
      "    </a>\n",
      "   </li>\n",
      "   <li style=\"margin-top: 10px;\">\n",
      "    <a href=\"http://py4e-data.dr-chuck.net/known_by_Colby.html\">\n",
      "     Colby\n",
      "    </a>\n",
      "   </li>\n",
      "   <li style=\"margin-top: 25px;\">\n",
      "    <a href=\"http://py4e-data.dr-chuck.net/known_by_Shiraz.html\">\n",
      "     Shiraz\n",
      "    </a>\n",
      "   </li>\n",
      "   <li style=\"margin-top: 17px;\">\n",
      "    <a href=\"http://py4e-data.dr-chuck.net/known_by_Muhamadjavad.html\">\n",
      "     Muhamadjavad\n",
      "    </a>\n",
      "   </li>\n",
      "   <li style=\"margin-top: 41px;\">\n",
      "    <a href=\"http://py4e-data.dr-chuck.net/known_by_Aoibheann.html\">\n",
      "     Aoibheann\n",
      "    </a>\n",
      "   </li>\n",
      "   <li style=\"margin-top: 29px;\">\n",
      "    <a href=\"http://py4e-data.dr-chuck.net/known_by_Luic.html\">\n",
      "     Luic\n",
      "    </a>\n",
      "   </li>\n",
      "   <li style=\"margin-top: 4px;\">\n",
      "    <a href=\"http://py4e-data.dr-chuck.net/known_by_Tehzeeba.html\">\n",
      "     Tehzeeba\n",
      "    </a>\n",
      "   </li>\n",
      "   <li style=\"margin-top: 8px;\">\n",
      "    <a href=\"http://py4e-data.dr-chuck.net/known_by_Kaitlin.html\">\n",
      "     Kaitlin\n",
      "    </a>\n",
      "   </li>\n",
      "   <li style=\"margin-top: 44px;\">\n",
      "    <a href=\"http://py4e-data.dr-chuck.net/known_by_Jubin.html\">\n",
      "     Jubin\n",
      "    </a>\n",
      "   </li>\n",
      "   <li style=\"margin-top: 68px;\">\n",
      "    <a href=\"http://py4e-data.dr-chuck.net/known_by_Veera.html\">\n",
      "     Veera\n",
      "    </a>\n",
      "   </li>\n",
      "   <li style=\"margin-top: 39px;\">\n",
      "    <a href=\"http://py4e-data.dr-chuck.net/known_by_Josi.html\">\n",
      "     Josi\n",
      "    </a>\n",
      "   </li>\n",
      "   <li style=\"margin-top: 16px;\">\n",
      "    <a href=\"http://py4e-data.dr-chuck.net/known_by_Schekina.html\">\n",
      "     Schekina\n",
      "    </a>\n",
      "   </li>\n",
      "   <li style=\"margin-top: 22px;\">\n",
      "    <a href=\"http://py4e-data.dr-chuck.net/known_by_A.html\">\n",
      "     A\n",
      "    </a>\n",
      "   </li>\n",
      "   <li style=\"margin-top: 8px;\">\n",
      "    <a href=\"http://py4e-data.dr-chuck.net/known_by_Jo.html\">\n",
      "     Jo\n",
      "    </a>\n",
      "   </li>\n",
      "   <li style=\"margin-top: 12px;\">\n",
      "    <a href=\"http://py4e-data.dr-chuck.net/known_by_Mena.html\">\n",
      "     Mena\n",
      "    </a>\n",
      "   </li>\n",
      "   <li style=\"margin-top: 12px;\">\n",
      "    <a href=\"http://py4e-data.dr-chuck.net/known_by_Warrick.html\">\n",
      "     Warrick\n",
      "    </a>\n",
      "   </li>\n",
      "   <li style=\"margin-top: 9px;\">\n",
      "    <a href=\"http://py4e-data.dr-chuck.net/known_by_Kady.html\">\n",
      "     Kady\n",
      "    </a>\n",
      "   </li>\n",
      "   <li style=\"margin-top: 11px;\">\n",
      "    <a href=\"http://py4e-data.dr-chuck.net/known_by_Nicholas.html\">\n",
      "     Nicholas\n",
      "    </a>\n",
      "   </li>\n",
      "   <li style=\"margin-top: 28px;\">\n",
      "    <a href=\"http://py4e-data.dr-chuck.net/known_by_Baylie.html\">\n",
      "     Baylie\n",
      "    </a>\n",
      "   </li>\n",
      "   <li style=\"margin-top: 67px;\">\n",
      "    <a href=\"http://py4e-data.dr-chuck.net/known_by_Gjan.html\">\n",
      "     Gjan\n",
      "    </a>\n",
      "   </li>\n",
      "   <li style=\"margin-top: 15px;\">\n",
      "    <a href=\"http://py4e-data.dr-chuck.net/known_by_Wynn.html\">\n",
      "     Wynn\n",
      "    </a>\n",
      "   </li>\n",
      "   <li style=\"margin-top: 16px;\">\n",
      "    <a href=\"http://py4e-data.dr-chuck.net/known_by_Valentin.html\">\n",
      "     Valentin\n",
      "    </a>\n",
      "   </li>\n",
      "   <li style=\"margin-top: 73px;\">\n",
      "    <a href=\"http://py4e-data.dr-chuck.net/known_by_Corey.html\">\n",
      "     Corey\n",
      "    </a>\n",
      "   </li>\n",
      "   <li style=\"margin-top: 21px;\">\n",
      "    <a href=\"http://py4e-data.dr-chuck.net/known_by_Benji.html\">\n",
      "     Benji\n",
      "    </a>\n",
      "   </li>\n",
      "   <li style=\"margin-top: 47px;\">\n",
      "    <a href=\"http://py4e-data.dr-chuck.net/known_by_Kiran.html\">\n",
      "     Kiran\n",
      "    </a>\n",
      "   </li>\n",
      "   <li style=\"margin-top: 55px;\">\n",
      "    <a href=\"http://py4e-data.dr-chuck.net/known_by_Pamela.html\">\n",
      "     Pamela\n",
      "    </a>\n",
      "   </li>\n",
      "   <li style=\"margin-top: 7px;\">\n",
      "    <a href=\"http://py4e-data.dr-chuck.net/known_by_Pascoe.html\">\n",
      "     Pascoe\n",
      "    </a>\n",
      "   </li>\n",
      "   <li style=\"margin-top: 4px;\">\n",
      "    <a href=\"http://py4e-data.dr-chuck.net/known_by_Izabel.html\">\n",
      "     Izabel\n",
      "    </a>\n",
      "   </li>\n",
      "   <li style=\"margin-top: 47px;\">\n",
      "    <a href=\"http://py4e-data.dr-chuck.net/known_by_Torquil.html\">\n",
      "     Torquil\n",
      "    </a>\n",
      "   </li>\n",
      "   <li style=\"margin-top: 50px;\">\n",
      "    <a href=\"http://py4e-data.dr-chuck.net/known_by_Kayleigh.html\">\n",
      "     Kayleigh\n",
      "    </a>\n",
      "   </li>\n",
      "   <li style=\"margin-top: 83px;\">\n",
      "    <a href=\"http://py4e-data.dr-chuck.net/known_by_Puja.html\">\n",
      "     Puja\n",
      "    </a>\n",
      "   </li>\n",
      "   <li style=\"margin-top: 7px;\">\n",
      "    <a href=\"http://py4e-data.dr-chuck.net/known_by_Cahlum.html\">\n",
      "     Cahlum\n",
      "    </a>\n",
      "   </li>\n",
      "   <li style=\"margin-top: 91px;\">\n",
      "    <a href=\"http://py4e-data.dr-chuck.net/known_by_Pyper.html\">\n",
      "     Pyper\n",
      "    </a>\n",
      "   </li>\n",
      "   <li style=\"margin-top: 14px;\">\n",
      "    <a href=\"http://py4e-data.dr-chuck.net/known_by_Jessamy.html\">\n",
      "     Jessamy\n",
      "    </a>\n",
      "   </li>\n",
      "   <li style=\"margin-top: 15px;\">\n",
      "    <a href=\"http://py4e-data.dr-chuck.net/known_by_Kerryanne.html\">\n",
      "     Kerryanne\n",
      "    </a>\n",
      "   </li>\n",
      "   <li style=\"margin-top: 28px;\">\n",
      "    <a href=\"http://py4e-data.dr-chuck.net/known_by_Caedan.html\">\n",
      "     Caedan\n",
      "    </a>\n",
      "   </li>\n",
      "   <li style=\"margin-top: 54px;\">\n",
      "    <a href=\"http://py4e-data.dr-chuck.net/known_by_Niro.html\">\n",
      "     Niro\n",
      "    </a>\n",
      "   </li>\n",
      "   <li style=\"margin-top: 22px;\">\n",
      "    <a href=\"http://py4e-data.dr-chuck.net/known_by_Lauryn.html\">\n",
      "     Lauryn\n",
      "    </a>\n",
      "   </li>\n",
      "   <li style=\"margin-top: 34px;\">\n",
      "    <a href=\"http://py4e-data.dr-chuck.net/known_by_Jian.html\">\n",
      "     Jian\n",
      "    </a>\n",
      "   </li>\n",
      "   <li style=\"margin-top: 42px;\">\n",
      "    <a href=\"http://py4e-data.dr-chuck.net/known_by_Decklan.html\">\n",
      "     Decklan\n",
      "    </a>\n",
      "   </li>\n",
      "   <li style=\"margin-top: 77px;\">\n",
      "    <a href=\"http://py4e-data.dr-chuck.net/known_by_Ghalya.html\">\n",
      "     Ghalya\n",
      "    </a>\n",
      "   </li>\n",
      "   <li style=\"margin-top: 60px;\">\n",
      "    <a href=\"http://py4e-data.dr-chuck.net/known_by_Kellyanne.html\">\n",
      "     Kellyanne\n",
      "    </a>\n",
      "   </li>\n",
      "   <li style=\"margin-top: 54px;\">\n",
      "    <a href=\"http://py4e-data.dr-chuck.net/known_by_Lorne.html\">\n",
      "     Lorne\n",
      "    </a>\n",
      "   </li>\n",
      "   <li style=\"margin-top: 79px;\">\n",
      "    <a href=\"http://py4e-data.dr-chuck.net/known_by_Umaima.html\">\n",
      "     Umaima\n",
      "    </a>\n",
      "   </li>\n",
      "   <li style=\"margin-top: 1px;\">\n",
      "    <a href=\"http://py4e-data.dr-chuck.net/known_by_Emile.html\">\n",
      "     Emile\n",
      "    </a>\n",
      "   </li>\n",
      "   <li style=\"margin-top: 101px;\">\n",
      "    <a href=\"http://py4e-data.dr-chuck.net/known_by_Mathew.html\">\n",
      "     Mathew\n",
      "    </a>\n",
      "   </li>\n",
      "   <li style=\"margin-top: 3px;\">\n",
      "    <a href=\"http://py4e-data.dr-chuck.net/known_by_Ann.html\">\n",
      "     Ann\n",
      "    </a>\n",
      "   </li>\n",
      "   <li style=\"margin-top: 21px;\">\n",
      "    <a href=\"http://py4e-data.dr-chuck.net/known_by_Robyn.html\">\n",
      "     Robyn\n",
      "    </a>\n",
      "   </li>\n",
      "   <li style=\"margin-top: 93px;\">\n",
      "    <a href=\"http://py4e-data.dr-chuck.net/known_by_Malika.html\">\n",
      "     Malika\n",
      "    </a>\n",
      "   </li>\n",
      "   <li style=\"margin-top: 51px;\">\n",
      "    <a href=\"http://py4e-data.dr-chuck.net/known_by_Orlaidh.html\">\n",
      "     Orlaidh\n",
      "    </a>\n",
      "   </li>\n",
      "   <li style=\"margin-top: 59px;\">\n",
      "    <a href=\"http://py4e-data.dr-chuck.net/known_by_Alexa.html\">\n",
      "     Alexa\n",
      "    </a>\n",
      "   </li>\n",
      "   <li style=\"margin-top: 42px;\">\n",
      "    <a href=\"http://py4e-data.dr-chuck.net/known_by_Carmen.html\">\n",
      "     Carmen\n",
      "    </a>\n",
      "   </li>\n",
      "   <li style=\"margin-top: 84px;\">\n",
      "    <a href=\"http://py4e-data.dr-chuck.net/known_by_Luci.html\">\n",
      "     Luci\n",
      "    </a>\n",
      "   </li>\n",
      "   <li style=\"margin-top: 15px;\">\n",
      "    <a href=\"http://py4e-data.dr-chuck.net/known_by_Marci.html\">\n",
      "     Marci\n",
      "    </a>\n",
      "   </li>\n",
      "   <li style=\"margin-top: 46px;\">\n",
      "    <a href=\"http://py4e-data.dr-chuck.net/known_by_Griffin.html\">\n",
      "     Griffin\n",
      "    </a>\n",
      "   </li>\n",
      "   <li style=\"margin-top: 46px;\">\n",
      "    <a href=\"http://py4e-data.dr-chuck.net/known_by_Wilson.html\">\n",
      "     Wilson\n",
      "    </a>\n",
      "   </li>\n",
      "   <li style=\"margin-top: 15px;\">\n",
      "    <a href=\"http://py4e-data.dr-chuck.net/known_by_Matt.html\">\n",
      "     Matt\n",
      "    </a>\n",
      "   </li>\n",
      "   <li style=\"margin-top: 56px;\">\n",
      "    <a href=\"http://py4e-data.dr-chuck.net/known_by_Ezri.html\">\n",
      "     Ezri\n",
      "    </a>\n",
      "   </li>\n",
      "   <li style=\"margin-top: 68px;\">\n",
      "    <a href=\"http://py4e-data.dr-chuck.net/known_by_Jing.html\">\n",
      "     Jing\n",
      "    </a>\n",
      "   </li>\n",
      "   <li style=\"margin-top: 88px;\">\n",
      "    <a href=\"http://py4e-data.dr-chuck.net/known_by_Kadin.html\">\n",
      "     Kadin\n",
      "    </a>\n",
      "   </li>\n",
      "   <li style=\"margin-top: 92px;\">\n",
      "    <a href=\"http://py4e-data.dr-chuck.net/known_by_Lilliana.html\">\n",
      "     Lilliana\n",
      "    </a>\n",
      "   </li>\n",
      "   <li style=\"margin-top: 83px;\">\n",
      "    <a href=\"http://py4e-data.dr-chuck.net/known_by_Gracealexandra.html\">\n",
      "     Gracealexandra\n",
      "    </a>\n",
      "   </li>\n",
      "   <li style=\"margin-top: 30px;\">\n",
      "    <a href=\"http://py4e-data.dr-chuck.net/known_by_Connel.html\">\n",
      "     Connel\n",
      "    </a>\n",
      "   </li>\n",
      "   <li style=\"margin-top: 121px;\">\n",
      "    <a href=\"http://py4e-data.dr-chuck.net/known_by_Truli.html\">\n",
      "     Truli\n",
      "    </a>\n",
      "   </li>\n",
      "   <li style=\"margin-top: 113px;\">\n",
      "    <a href=\"http://py4e-data.dr-chuck.net/known_by_Connar.html\">\n",
      "     Connar\n",
      "    </a>\n",
      "   </li>\n",
      "   <li style=\"margin-top: 57px;\">\n",
      "    <a href=\"http://py4e-data.dr-chuck.net/known_by_Jessamea.html\">\n",
      "     Jessamea\n",
      "    </a>\n",
      "   </li>\n",
      "  </ul>\n",
      "  <script>\n",
      "   // http://stackoverflow.com/questions/20423322/simple-setting-off-display-none-block-with-javascript\n",
      "function showHide(id) {\n",
      "    var el = document.getElementById(id);\n",
      "    if( el && el.style.display == 'none')    \n",
      "        el.style.display = 'block';\n",
      "    else \n",
      "        el.style.display = 'none';\n",
      "}\n",
      "setTimeout('showHide(\"overlay\");', 2500);\n",
      "  </script>\n",
      " </body>\n",
      "</html>\n",
      "\n"
     ]
    }
   ],
   "source": [
    "print(soup.prettify()) #需要加上print函数"
   ]
  },
  {
   "cell_type": "code",
   "execution_count": 37,
   "metadata": {},
   "outputs": [
    {
     "data": {
      "text/plain": [
       "[<a href=\"http://py4e-data.dr-chuck.net/known_by_Kaia.html\">Kaia</a>,\n",
       " <a href=\"http://py4e-data.dr-chuck.net/known_by_Ashley.html\">Ashley</a>,\n",
       " <a href=\"http://py4e-data.dr-chuck.net/known_by_Hui.html\">Hui</a>,\n",
       " <a href=\"http://py4e-data.dr-chuck.net/known_by_Skie.html\">Skie</a>]"
      ]
     },
     "execution_count": 37,
     "metadata": {},
     "output_type": "execute_result"
    }
   ],
   "source": [
    " soup('a')[:4]"
   ]
  },
  {
   "cell_type": "code",
   "execution_count": 38,
   "metadata": {},
   "outputs": [
    {
     "name": "stdout",
     "output_type": "stream",
     "text": [
      "Enter a number:5\n"
     ]
    },
    {
     "data": {
      "text/plain": [
       "int"
      ]
     },
     "execution_count": 38,
     "metadata": {},
     "output_type": "execute_result"
    }
   ],
   "source": [
    "steps = int(input('Enter a number:'))\n",
    "type(steps)"
   ]
  },
  {
   "cell_type": "markdown",
   "metadata": {},
   "source": [
    "### Week5_Assignment1"
   ]
  },
  {
   "cell_type": "markdown",
   "metadata": {},
   "source": [
    "In this assignment you will write a Python program somewhat similar to http://www.py4e.com/code3/geoxml.py. The program will prompt for a URL, read the XML data from that URL using urllib and then parse and extract the comment counts from the XML data, compute the sum of the numbers in the file.\n",
    "\n",
    "We provide two files for this assignment. One is a sample file where we give you the sum for your testing and the other is the actual data you need to process for the assignment.\n",
    "\n",
    "Sample data: http://py4e-data.dr-chuck.net/comments_42.xml (Sum=2553)\n",
    "Actual data: http://py4e-data.dr-chuck.net/comments_11613.xml (Sum ends with 0)\n",
    "\n",
    "You are to look through all the <comment> tags and find the <count> values sum the numbers. To make the code a little simpler, you can use an XPath selector string to look through the entire tree of XML for any tag named 'count' with the following line of code:$counts = tree.findall('.//count')$"
   ]
  },
  {
   "cell_type": "code",
   "execution_count": 41,
   "metadata": {},
   "outputs": [
    {
     "name": "stdout",
     "output_type": "stream",
     "text": [
      "Enter URL - http://py4e-data.dr-chuck.net/comments_42.xml\n",
      "2553\n",
      "2553\n"
     ]
    }
   ],
   "source": [
    "import urllib.request, urllib.parse, urllib.error\n",
    "import xml.etree.ElementTree as ET\n",
    "\n",
    "url = input('Enter URL - ')\n",
    "xml = urllib.request.urlopen(url).read()\n",
    "# soup = BeautifulSoup(xml)\n",
    "\n",
    "tree=ET.fromstring(xml)\n",
    "\n",
    "total = 0\n",
    "counts = tree.findall('.//count')\n",
    "for count in counts:\n",
    "    total += int(count.text)\n",
    "print(total)\n",
    "\n",
    "# or the easier way:\n",
    "print(sum([int(count.text) for count in tree.findall('.//count')]))"
   ]
  },
  {
   "cell_type": "code",
   "execution_count": 42,
   "metadata": {
    "collapsed": true
   },
   "outputs": [],
   "source": [
    "tree = ET.parse('comments_42.xml')"
   ]
  },
  {
   "cell_type": "code",
   "execution_count": 43,
   "metadata": {},
   "outputs": [
    {
     "data": {
      "text/plain": [
       "<Element 'commentinfo' at 0x000001977FDF45E8>"
      ]
     },
     "execution_count": 43,
     "metadata": {},
     "output_type": "execute_result"
    }
   ],
   "source": [
    "tree1 = ET.fromstring(urllib.request.urlopen('http://py4e-data.dr-chuck.net/comments_42.xml').read())\n",
    "tree1"
   ]
  },
  {
   "cell_type": "code",
   "execution_count": 44,
   "metadata": {},
   "outputs": [
    {
     "data": {
      "text/plain": [
       "<Element 'commentinfo' at 0x000001977FDC4728>"
      ]
     },
     "execution_count": 44,
     "metadata": {},
     "output_type": "execute_result"
    }
   ],
   "source": [
    "root = tree.getroot(); root"
   ]
  },
  {
   "cell_type": "code",
   "execution_count": 45,
   "metadata": {},
   "outputs": [
    {
     "data": {
      "text/plain": [
       "'commentinfo'"
      ]
     },
     "execution_count": 45,
     "metadata": {},
     "output_type": "execute_result"
    }
   ],
   "source": [
    "root.tag"
   ]
  },
  {
   "cell_type": "code",
   "execution_count": 46,
   "metadata": {},
   "outputs": [
    {
     "data": {
      "text/plain": [
       "2"
      ]
     },
     "execution_count": 46,
     "metadata": {},
     "output_type": "execute_result"
    }
   ],
   "source": [
    "len(root)"
   ]
  },
  {
   "cell_type": "code",
   "execution_count": 47,
   "metadata": {},
   "outputs": [
    {
     "name": "stdout",
     "output_type": "stream",
     "text": [
      "<Element 'note' at 0x000001977FDC4368>\n",
      "<Element 'comments' at 0x000001977FDF4D18>\n"
     ]
    }
   ],
   "source": [
    "for child in root:\n",
    "    print(child)"
   ]
  },
  {
   "cell_type": "code",
   "execution_count": 48,
   "metadata": {},
   "outputs": [
    {
     "data": {
      "text/plain": [
       "{}"
      ]
     },
     "execution_count": 48,
     "metadata": {},
     "output_type": "execute_result"
    }
   ],
   "source": [
    "root.attrib"
   ]
  },
  {
   "cell_type": "code",
   "execution_count": 49,
   "metadata": {},
   "outputs": [
    {
     "data": {
      "text/plain": [
       "{}"
      ]
     },
     "execution_count": 49,
     "metadata": {},
     "output_type": "execute_result"
    }
   ],
   "source": [
    "root[1].attrib"
   ]
  },
  {
   "cell_type": "code",
   "execution_count": 50,
   "metadata": {},
   "outputs": [
    {
     "data": {
      "text/plain": [
       "[]"
      ]
     },
     "execution_count": 50,
     "metadata": {},
     "output_type": "execute_result"
    }
   ],
   "source": [
    "root.findall('commentinfo')"
   ]
  },
  {
   "cell_type": "code",
   "execution_count": 51,
   "metadata": {},
   "outputs": [
    {
     "data": {
      "text/plain": [
       "[<Element 'comments' at 0x000001977FDF4D18>]"
      ]
     },
     "execution_count": 51,
     "metadata": {},
     "output_type": "execute_result"
    }
   ],
   "source": [
    "root.findall('comments')"
   ]
  },
  {
   "cell_type": "code",
   "execution_count": 52,
   "metadata": {},
   "outputs": [
    {
     "data": {
      "text/plain": [
       "[<Element 'comments' at 0x000001977FDF4D18>]"
      ]
     },
     "execution_count": 52,
     "metadata": {},
     "output_type": "execute_result"
    },
    {
     "data": {
      "text/plain": [
       "1"
      ]
     },
     "execution_count": 52,
     "metadata": {},
     "output_type": "execute_result"
    }
   ],
   "source": [
    "comments = tree.findall('comments')\n",
    "comments\n",
    "len(comments)"
   ]
  },
  {
   "cell_type": "code",
   "execution_count": 53,
   "metadata": {},
   "outputs": [
    {
     "data": {
      "text/plain": [
       "[<Element 'count' at 0x000001977FDF4E58>,\n",
       " <Element 'count' at 0x000001977FDF4F48>,\n",
       " <Element 'count' at 0x000001977FDF8098>,\n",
       " <Element 'count' at 0x000001977FDF8188>,\n",
       " <Element 'count' at 0x000001977FDF8278>]"
      ]
     },
     "execution_count": 53,
     "metadata": {},
     "output_type": "execute_result"
    },
    {
     "data": {
      "text/plain": [
       "'90'"
      ]
     },
     "execution_count": 53,
     "metadata": {},
     "output_type": "execute_result"
    },
    {
     "data": {
      "text/plain": [
       "50"
      ]
     },
     "execution_count": 53,
     "metadata": {},
     "output_type": "execute_result"
    }
   ],
   "source": [
    "counts = tree.findall('.//count')\n",
    "counts[:5] # = tree.findall('comments/comment/count')[:5]\n",
    "counts[2].text\n",
    "len(counts)"
   ]
  },
  {
   "cell_type": "code",
   "execution_count": 54,
   "metadata": {},
   "outputs": [
    {
     "data": {
      "text/plain": [
       "[<Element 'name' at 0x000001977FDF4E08>,\n",
       " <Element 'name' at 0x000001977FDF4EF8>,\n",
       " <Element 'name' at 0x000001977FDF8048>,\n",
       " <Element 'name' at 0x000001977FDF8138>,\n",
       " <Element 'name' at 0x000001977FDF8228>]"
      ]
     },
     "execution_count": 54,
     "metadata": {},
     "output_type": "execute_result"
    },
    {
     "data": {
      "text/plain": [
       "'Bayli'"
      ]
     },
     "execution_count": 54,
     "metadata": {},
     "output_type": "execute_result"
    },
    {
     "data": {
      "text/plain": [
       "50"
      ]
     },
     "execution_count": 54,
     "metadata": {},
     "output_type": "execute_result"
    }
   ],
   "source": [
    "name = tree.findall('.//name')\n",
    "name[:5]\n",
    "name[2].text\n",
    "len(name)"
   ]
  },
  {
   "cell_type": "code",
   "execution_count": 55,
   "metadata": {},
   "outputs": [
    {
     "data": {
      "text/html": [
       "<div>\n",
       "<table border=\"1\" class=\"dataframe\">\n",
       "  <thead>\n",
       "    <tr style=\"text-align: right;\">\n",
       "      <th></th>\n",
       "      <th>count</th>\n",
       "      <th>name</th>\n",
       "    </tr>\n",
       "  </thead>\n",
       "  <tbody>\n",
       "    <tr>\n",
       "      <th>0</th>\n",
       "      <td>97</td>\n",
       "      <td>Romina</td>\n",
       "    </tr>\n",
       "    <tr>\n",
       "      <th>1</th>\n",
       "      <td>97</td>\n",
       "      <td>Laurie</td>\n",
       "    </tr>\n",
       "    <tr>\n",
       "      <th>2</th>\n",
       "      <td>90</td>\n",
       "      <td>Bayli</td>\n",
       "    </tr>\n",
       "    <tr>\n",
       "      <th>3</th>\n",
       "      <td>90</td>\n",
       "      <td>Siyona</td>\n",
       "    </tr>\n",
       "    <tr>\n",
       "      <th>4</th>\n",
       "      <td>88</td>\n",
       "      <td>Taisha</td>\n",
       "    </tr>\n",
       "  </tbody>\n",
       "</table>\n",
       "</div>"
      ],
      "text/plain": [
       "   count    name\n",
       "0     97  Romina\n",
       "1     97  Laurie\n",
       "2     90   Bayli\n",
       "3     90  Siyona\n",
       "4     88  Taisha"
      ]
     },
     "execution_count": 55,
     "metadata": {},
     "output_type": "execute_result"
    }
   ],
   "source": [
    "countdata=[int(counts[i].text) for i in np.arange(50)]\n",
    "namedata=[name[i].text for i in np.arange(50)]\n",
    "\n",
    "data = pd.DataFrame({'count':countdata, 'name':namedata})\n",
    "data.head()"
   ]
  },
  {
   "cell_type": "markdown",
   "metadata": {},
   "source": [
    "## Actual data"
   ]
  },
  {
   "cell_type": "code",
   "execution_count": 56,
   "metadata": {},
   "outputs": [
    {
     "data": {
      "text/plain": [
       "<Element 'bookstore' at 0x000001977FDE94F8>"
      ]
     },
     "execution_count": 56,
     "metadata": {},
     "output_type": "execute_result"
    }
   ],
   "source": [
    "# http://www.w3school.com.cn/example/xmle/books.xml\n",
    "tree1 = ET.parse('books.xml') \n",
    "root1 = tree1.getroot()\n",
    "root1"
   ]
  },
  {
   "cell_type": "code",
   "execution_count": 57,
   "metadata": {},
   "outputs": [
    {
     "data": {
      "text/plain": [
       "'bookstore'"
      ]
     },
     "execution_count": 57,
     "metadata": {},
     "output_type": "execute_result"
    }
   ],
   "source": [
    "root1.tag"
   ]
  },
  {
   "cell_type": "code",
   "execution_count": 58,
   "metadata": {
    "scrolled": true
   },
   "outputs": [
    {
     "data": {
      "text/plain": [
       "4"
      ]
     },
     "execution_count": 58,
     "metadata": {},
     "output_type": "execute_result"
    }
   ],
   "source": [
    "len(root1) #判断根节点下有多少个直接子节点"
   ]
  },
  {
   "cell_type": "code",
   "execution_count": 59,
   "metadata": {},
   "outputs": [
    {
     "data": {
      "text/plain": [
       "4"
      ]
     },
     "execution_count": 59,
     "metadata": {},
     "output_type": "execute_result"
    }
   ],
   "source": [
    "len(root1.getchildren())"
   ]
  },
  {
   "cell_type": "code",
   "execution_count": 111,
   "metadata": {},
   "outputs": [
    {
     "data": {
      "text/plain": [
       "[<Element 'book' at 0x000001977FE062C8>,\n",
       " <Element 'book' at 0x000001977FE06EA8>,\n",
       " <Element 'book' at 0x000001977FE06F48>,\n",
       " <Element 'book' at 0x000001977FE0C138>]"
      ]
     },
     "execution_count": 111,
     "metadata": {},
     "output_type": "execute_result"
    }
   ],
   "source": [
    "root1.getchildren()  # List format doesn't have the attrib\n",
    "# 版本3.2以后去除此用"
   ]
  },
  {
   "cell_type": "code",
   "execution_count": 179,
   "metadata": {},
   "outputs": [
    {
     "ename": "AttributeError",
     "evalue": "'xml.etree.ElementTree.Element' object has no attribute 'elem'",
     "output_type": "error",
     "traceback": [
      "\u001b[0;31m---------------------------------------------------------------------------\u001b[0m",
      "\u001b[0;31mAttributeError\u001b[0m                            Traceback (most recent call last)",
      "\u001b[0;32m<ipython-input-179-2c12e0a79e76>\u001b[0m in \u001b[0;36m<module>\u001b[0;34m()\u001b[0m\n\u001b[0;32m----> 1\u001b[0;31m \u001b[0mlist\u001b[0m\u001b[1;33m(\u001b[0m\u001b[0mroot1\u001b[0m\u001b[1;33m.\u001b[0m\u001b[0melem\u001b[0m\u001b[1;33m)\u001b[0m\u001b[1;33m\u001b[0m\u001b[0m\n\u001b[0m",
      "\u001b[0;31mAttributeError\u001b[0m: 'xml.etree.ElementTree.Element' object has no attribute 'elem'"
     ]
    }
   ],
   "source": [
    "list(root1.elem)"
   ]
  },
  {
   "cell_type": "code",
   "execution_count": 109,
   "metadata": {
    "scrolled": true
   },
   "outputs": [
    {
     "name": "stdout",
     "output_type": "stream",
     "text": [
      "book {'category': 'children'}\n",
      "book {'category': 'cooking'}\n",
      "book {'category': 'web', 'cover': 'paperback'}\n",
      "book {'category': 'web'}\n"
     ]
    }
   ],
   "source": [
    "for child in root1:\n",
    "    print(child.tag, child.attrib)       # same as root1.getchildren()"
   ]
  },
  {
   "cell_type": "code",
   "execution_count": 61,
   "metadata": {},
   "outputs": [
    {
     "data": {
      "text/plain": [
       "[<Element 'author' at 0x000001977FE064F8>,\n",
       " <Element 'author' at 0x000001977FE06C78>,\n",
       " <Element 'author' at 0x000001977FE0C048>,\n",
       " <Element 'author' at 0x000001977FE0C1D8>,\n",
       " <Element 'author' at 0x000001977FE0C228>,\n",
       " <Element 'author' at 0x000001977FE0C278>,\n",
       " <Element 'author' at 0x000001977FE0C2C8>,\n",
       " <Element 'author' at 0x000001977FE0C318>]"
      ]
     },
     "execution_count": 61,
     "metadata": {},
     "output_type": "execute_result"
    },
    {
     "data": {
      "text/plain": [
       "'J K. Rowling'"
      ]
     },
     "execution_count": 61,
     "metadata": {},
     "output_type": "execute_result"
    }
   ],
   "source": [
    "tree1.findall('book/author') # findall是找出根节点的直接子节点，若是孙节点，则返回空值\n",
    "tree1.findall('book')[0].find('author').text"
   ]
  },
  {
   "cell_type": "code",
   "execution_count": 62,
   "metadata": {},
   "outputs": [
    {
     "data": {
      "text/plain": [
       "8"
      ]
     },
     "execution_count": 62,
     "metadata": {},
     "output_type": "execute_result"
    }
   ],
   "source": [
    "len(tree1.findall('book/author'))"
   ]
  },
  {
   "cell_type": "code",
   "execution_count": 63,
   "metadata": {},
   "outputs": [
    {
     "data": {
      "text/plain": [
       "['J K. Rowling',\n",
       " 'Giada De Laurentiis',\n",
       " 'Erik T. Ray',\n",
       " 'James McGovern',\n",
       " 'Per Bothner',\n",
       " 'Kurt Cagle',\n",
       " 'James Linn',\n",
       " 'Vaidyanathan Nagarajan']"
      ]
     },
     "execution_count": 63,
     "metadata": {},
     "output_type": "execute_result"
    }
   ],
   "source": [
    "[tree1.findall('.//author')[i].text for i in np.arange(8)]"
   ]
  },
  {
   "cell_type": "code",
   "execution_count": 112,
   "metadata": {},
   "outputs": [
    {
     "name": "stdout",
     "output_type": "stream",
     "text": [
      "J K. Rowling {}\n",
      "Giada De Laurentiis {}\n",
      "Erik T. Ray {}\n",
      "James McGovern {}\n",
      "Per Bothner {}\n",
      "Kurt Cagle {}\n",
      "James Linn {}\n",
      "Vaidyanathan Nagarajan {}\n"
     ]
    }
   ],
   "source": [
    "# iterate recursively over all the sub-tree below it (its children, their children, and so on)\n",
    "# iter(tag=None) Creates a tree iterator with the current element as the root.\n",
    "# The iterator iterates over this element and all elements below it, \n",
    "# in document (depth first) order\n",
    "\n",
    "\n",
    "for author in root1.iter('author'):\n",
    "    print(author.text, author.attrib)"
   ]
  },
  {
   "cell_type": "code",
   "execution_count": 183,
   "metadata": {},
   "outputs": [
    {
     "name": "stdout",
     "output_type": "stream",
     "text": [
      "\n",
      "\n",
      "\n",
      "\n",
      "Harry Potter\n",
      "J K. Rowling\n",
      "2005\n",
      "29.99\n",
      "\n",
      "\n",
      "Everyday Italian\n",
      "Giada De Laurentiis\n",
      "2005\n",
      "30.00\n",
      "\n",
      "\n",
      "Learning XML\n",
      "Erik T. Ray\n",
      "2003\n",
      "39.95\n",
      "\n",
      "\n",
      "XQuery Kick Start\n",
      "James McGovern\n",
      "Per Bothner\n",
      "Kurt Cagle\n",
      "James Linn\n",
      "Vaidyanathan Nagarajan\n",
      "2003\n",
      "49.99\n"
     ]
    }
   ],
   "source": [
    "# 遍历每个book节点所有的内容\n",
    "for contents in root1.iter():\n",
    "    print(contents.text)"
   ]
  },
  {
   "cell_type": "code",
   "execution_count": 65,
   "metadata": {},
   "outputs": [
    {
     "data": {
      "text/plain": [
       "['2005', '2005', '2003', '2003']"
      ]
     },
     "execution_count": 65,
     "metadata": {},
     "output_type": "execute_result"
    }
   ],
   "source": [
    "[tree1.findall('.//year')[i].text for i in np.arange(4)]"
   ]
  },
  {
   "cell_type": "code",
   "execution_count": 66,
   "metadata": {},
   "outputs": [
    {
     "data": {
      "text/plain": [
       "['Harry Potter', 'Everyday Italian', 'Learning XML', 'XQuery Kick Start']"
      ]
     },
     "execution_count": 66,
     "metadata": {},
     "output_type": "execute_result"
    }
   ],
   "source": [
    "[tree1.findall('.//title')[i].text for i in np.arange(4)]"
   ]
  },
  {
   "cell_type": "code",
   "execution_count": 67,
   "metadata": {},
   "outputs": [
    {
     "data": {
      "text/plain": [
       "['29.99', '30.00', '39.95', '49.99']"
      ]
     },
     "execution_count": 67,
     "metadata": {},
     "output_type": "execute_result"
    }
   ],
   "source": [
    "[tree1.findall('.//price')[i].text for i in np.arange(4)]"
   ]
  },
  {
   "cell_type": "code",
   "execution_count": 116,
   "metadata": {
    "scrolled": true
   },
   "outputs": [
    {
     "name": "stdout",
     "output_type": "stream",
     "text": [
      "J K. Rowling children\n",
      "Giada De Laurentiis cooking\n",
      "Erik T. Ray web\n",
      "James McGovern web\n"
     ]
    }
   ],
   "source": [
    "# Element.findall() finds only elements with a tag which are direct children of the current element.\n",
    "# Element.find() finds the first child with a particular tag, and \n",
    "# Element.text accesses the element’s text content. \n",
    "# Element.get() accesses the element’s attributes:\n",
    "\n",
    "for book in root1.findall('book'):\n",
    "    author = book.find('.//author').text\n",
    "    category = book.get('category')\n",
    "    print(author, category)"
   ]
  },
  {
   "cell_type": "code",
   "execution_count": 106,
   "metadata": {},
   "outputs": [
    {
     "name": "stdout",
     "output_type": "stream",
     "text": [
      "children\n",
      "J K. Rowling\n",
      "cooking\n",
      "Giada De Laurentiis\n",
      "web\n",
      "Erik T. Ray\n",
      "web\n",
      "James McGovern\n"
     ]
    }
   ],
   "source": [
    "for book in root1.iter('book'):\n",
    "    print(book.get('category'))\n",
    "    print(book.find('author').text)"
   ]
  },
  {
   "cell_type": "code",
   "execution_count": 99,
   "metadata": {},
   "outputs": [
    {
     "data": {
      "text/plain": [
       "[<Element 'book' at 0x000001977FE062C8>,\n",
       " <Element 'book' at 0x000001977FE06EA8>,\n",
       " <Element 'book' at 0x000001977FE06F48>,\n",
       " <Element 'book' at 0x000001977FE0C138>]"
      ]
     },
     "execution_count": 99,
     "metadata": {},
     "output_type": "execute_result"
    }
   ],
   "source": [
    "root1.findall('book')"
   ]
  },
  {
   "cell_type": "code",
   "execution_count": 71,
   "metadata": {},
   "outputs": [
    {
     "data": {
      "text/plain": [
       "'James McGovern'"
      ]
     },
     "execution_count": 71,
     "metadata": {},
     "output_type": "execute_result"
    }
   ],
   "source": [
    "root1.findall('book')[3].find('author').text"
   ]
  },
  {
   "cell_type": "code",
   "execution_count": 72,
   "metadata": {},
   "outputs": [
    {
     "name": "stdout",
     "output_type": "stream",
     "text": [
      "children\n",
      "cooking\n",
      "web\n",
      "web\n"
     ]
    }
   ],
   "source": [
    "for category in root1.findall('book'):\n",
    "    print(category.get('category'))"
   ]
  },
  {
   "cell_type": "code",
   "execution_count": 107,
   "metadata": {
    "scrolled": false
   },
   "outputs": [
    {
     "name": "stdout",
     "output_type": "stream",
     "text": [
      "children\n",
      "cooking\n",
      "web\n",
      "web\n"
     ]
    }
   ],
   "source": [
    "for category in root1.iter('book'):\n",
    "    print(category.get('category'))"
   ]
  },
  {
   "cell_type": "code",
   "execution_count": 131,
   "metadata": {},
   "outputs": [
    {
     "name": "stdout",
     "output_type": "stream",
     "text": [
      "30.00\n",
      "39.95\n",
      "49.99\n"
     ]
    }
   ],
   "source": [
    "for book in root1.findall('book'):\n",
    "    price = book.find('price').text\n",
    "    if float(price) >= 30:\n",
    "        print(price)"
   ]
  },
  {
   "cell_type": "code",
   "execution_count": 143,
   "metadata": {},
   "outputs": [
    {
     "data": {
      "text/plain": [
       "[<Element 'book' at 0x000001977FE06F48>]"
      ]
     },
     "execution_count": 143,
     "metadata": {},
     "output_type": "execute_result"
    },
    {
     "data": {
      "text/plain": [
       "'2003'"
      ]
     },
     "execution_count": 143,
     "metadata": {},
     "output_type": "execute_result"
    }
   ],
   "source": [
    "# .//title selects all title elements in the entire tree.\n",
    "# .. Selects the parent element\n",
    "# . Selects the current node. This is mostly useful at the beginning of the path, to indicate it's a relative path\n",
    "# * selects all child elements. */title selects all grandchildren named egg\n",
    "\n",
    "# nodes with cover='paperback' that chave a 'title' child\n",
    "root1.findall('.//title/..[@cover=\"paperback\"]')\n",
    "root1.findall(\".//title/..[@cover='paperback']\")[0].find('year').text\n",
    "# 找到的是包含子节点title的且cover=‘paperback‘的book节点"
   ]
  },
  {
   "cell_type": "code",
   "execution_count": 140,
   "metadata": {},
   "outputs": [
    {
     "data": {
      "text/plain": [
       "[<Element 'title' at 0x000001977FE06F98>]"
      ]
     },
     "execution_count": 140,
     "metadata": {},
     "output_type": "execute_result"
    },
    {
     "data": {
      "text/plain": [
       "'Learning XML'"
      ]
     },
     "execution_count": 140,
     "metadata": {},
     "output_type": "execute_result"
    }
   ],
   "source": [
    "# 'title' nodes that are children of nodes with cover='paperback'\n",
    "root1.findall(\".//*[@cover='paperback']/title\")\n",
    "root1.findall(\".//*[@cover='paperback']/title\")[0].text\n",
    "# 找到节点里包含属性cover=‘paperback’的title节点"
   ]
  },
  {
   "cell_type": "code",
   "execution_count": 141,
   "metadata": {},
   "outputs": [
    {
     "data": {
      "text/plain": [
       "[<Element 'bookstore' at 0x000001977FDE94F8>]"
      ]
     },
     "execution_count": 141,
     "metadata": {},
     "output_type": "execute_result"
    }
   ],
   "source": [
    "# top-level elements\n",
    "root1.findall('.')"
   ]
  },
  {
   "cell_type": "code",
   "execution_count": 145,
   "metadata": {},
   "outputs": [
    {
     "data": {
      "text/plain": [
       "'Kurt Cagle'"
      ]
     },
     "execution_count": 145,
     "metadata": {},
     "output_type": "execute_result"
    }
   ],
   "source": [
    "root1.findall('.//author[3]')[0].text"
   ]
  },
  {
   "cell_type": "code",
   "execution_count": 159,
   "metadata": {},
   "outputs": [
    {
     "data": {
      "text/plain": [
       "[<Element 'book' at 0x000001977FE062C8>,\n",
       " <Element 'book' at 0x000001977FE06EA8>,\n",
       " <Element 'book' at 0x000001977FE06F48>,\n",
       " <Element 'book' at 0x000001977FE0C138>]"
      ]
     },
     "execution_count": 159,
     "metadata": {},
     "output_type": "execute_result"
    }
   ],
   "source": [
    "root1.findall('book')"
   ]
  },
  {
   "cell_type": "code",
   "execution_count": 167,
   "metadata": {},
   "outputs": [
    {
     "data": {
      "text/plain": [
       "[<Element 'book' at 0x000001977FE062C8>]"
      ]
     },
     "execution_count": 167,
     "metadata": {},
     "output_type": "execute_result"
    },
    {
     "data": {
      "text/plain": [
       "[<Element 'book' at 0x000001977FE062C8>]"
      ]
     },
     "execution_count": 167,
     "metadata": {},
     "output_type": "execute_result"
    },
    {
     "data": {
      "text/plain": [
       "[<Element 'book' at 0x000001977FE0C138>]"
      ]
     },
     "execution_count": 167,
     "metadata": {},
     "output_type": "execute_result"
    },
    {
     "data": {
      "text/plain": [
       "[<Element 'book' at 0x000001977FE06F48>]"
      ]
     },
     "execution_count": 167,
     "metadata": {},
     "output_type": "execute_result"
    }
   ],
   "source": [
    "root1.findall('.//book[1]')\n",
    "root1.findall('book[1]')\n",
    "root1.findall('book[last()]')\n",
    "root1.findall('book[last()-1]')\n",
    "# root1.findall('book[position()=3]') 出现错误\n",
    "# root1.findall('book[float(price)>35.00]/title') 出现错误"
   ]
  },
  {
   "cell_type": "code",
   "execution_count": 177,
   "metadata": {},
   "outputs": [
    {
     "data": {
      "text/plain": [
       "[('category', 'web'), ('cover', 'paperback')]"
      ]
     },
     "execution_count": 177,
     "metadata": {},
     "output_type": "execute_result"
    }
   ],
   "source": [
    "# Returns the element attributes as a sequence of (name, value) pairs. \n",
    "root1.findall('book')[2].items()"
   ]
  },
  {
   "cell_type": "code",
   "execution_count": 187,
   "metadata": {},
   "outputs": [
    {
     "data": {
      "text/plain": [
       "[<Element 'author' at 0x000001977FE064F8>,\n",
       " <Element 'author' at 0x000001977FE06C78>,\n",
       " <Element 'author' at 0x000001977FE0C048>,\n",
       " <Element 'author' at 0x000001977FE0C1D8>,\n",
       " <Element 'author' at 0x000001977FE0C228>,\n",
       " <Element 'author' at 0x000001977FE0C278>,\n",
       " <Element 'author' at 0x000001977FE0C2C8>,\n",
       " <Element 'author' at 0x000001977FE0C318>]"
      ]
     },
     "execution_count": 187,
     "metadata": {},
     "output_type": "execute_result"
    }
   ],
   "source": [
    "list(root1.iter('author'))"
   ]
  },
  {
   "cell_type": "code",
   "execution_count": 194,
   "metadata": {},
   "outputs": [
    {
     "name": "stdout",
     "output_type": "stream",
     "text": [
      "James McGovern\n",
      "Per Bothner\n",
      "Kurt Cagle\n",
      "James Linn\n",
      "Vaidyanathan Nagarajan\n"
     ]
    }
   ],
   "source": [
    "for author in book.iter('author'):\n",
    "    print(author.text)"
   ]
  },
  {
   "cell_type": "markdown",
   "metadata": {},
   "source": [
    "## Explore XML files"
   ]
  },
  {
   "cell_type": "code",
   "execution_count": 128,
   "metadata": {},
   "outputs": [
    {
     "data": {
      "text/plain": [
       "str"
      ]
     },
     "execution_count": 128,
     "metadata": {},
     "output_type": "execute_result"
    }
   ],
   "source": [
    "type(price)"
   ]
  },
  {
   "cell_type": "markdown",
   "metadata": {},
   "source": [
    "### Paring XML"
   ]
  },
  {
   "cell_type": "code",
   "execution_count": 73,
   "metadata": {
    "collapsed": true
   },
   "outputs": [],
   "source": [
    "import xml.etree.ElementTree as etree"
   ]
  },
  {
   "cell_type": "code",
   "execution_count": 74,
   "metadata": {},
   "outputs": [
    {
     "data": {
      "text/plain": [
       "<xml.etree.ElementTree.ElementTree at 0x1977fe22208>"
      ]
     },
     "execution_count": 74,
     "metadata": {},
     "output_type": "execute_result"
    }
   ],
   "source": [
    "tree = ET.parse('feed.xml')\n",
    "tree"
   ]
  },
  {
   "cell_type": "code",
   "execution_count": 75,
   "metadata": {},
   "outputs": [
    {
     "data": {
      "text/plain": [
       "<Element '{http://www.w3.org/2005/Atom}feed' at 0x000001977FE12BD8>"
      ]
     },
     "execution_count": 75,
     "metadata": {},
     "output_type": "execute_result"
    }
   ],
   "source": [
    "root = tree.getroot() # 获得root节点\n",
    "root"
   ]
  },
  {
   "cell_type": "markdown",
   "metadata": {},
   "source": [
    "### Elements are Lists"
   ]
  },
  {
   "cell_type": "code",
   "execution_count": 76,
   "metadata": {},
   "outputs": [
    {
     "data": {
      "text/plain": [
       "'{http://www.w3.org/2005/Atom}feed'"
      ]
     },
     "execution_count": 76,
     "metadata": {},
     "output_type": "execute_result"
    }
   ],
   "source": [
    "root.tag"
   ]
  },
  {
   "cell_type": "code",
   "execution_count": 77,
   "metadata": {},
   "outputs": [
    {
     "data": {
      "text/plain": [
       "8"
      ]
     },
     "execution_count": 77,
     "metadata": {},
     "output_type": "execute_result"
    }
   ],
   "source": [
    "len(root) #根节点feed的长度，即feed下共有8个子节点"
   ]
  },
  {
   "cell_type": "code",
   "execution_count": 78,
   "metadata": {},
   "outputs": [
    {
     "name": "stdout",
     "output_type": "stream",
     "text": [
      "<Element '{http://www.w3.org/2005/Atom}title' at 0x000001977FE12E58>\n",
      "<Element '{http://www.w3.org/2005/Atom}subtitle' at 0x000001977FE12EA8>\n",
      "<Element '{http://www.w3.org/2005/Atom}id' at 0x000001977FE12F98>\n",
      "<Element '{http://www.w3.org/2005/Atom}updated' at 0x000001977FE24048>\n",
      "<Element '{http://www.w3.org/2005/Atom}link' at 0x000001977FE240E8>\n",
      "<Element '{http://www.w3.org/2005/Atom}entry' at 0x000001977FE24138>\n",
      "<Element '{http://www.w3.org/2005/Atom}entry' at 0x000001977FE245E8>\n",
      "<Element '{http://www.w3.org/2005/Atom}entry' at 0x000001977FE249A8>\n"
     ]
    }
   ],
   "source": [
    "for child in root:\n",
    "    print(child)"
   ]
  },
  {
   "cell_type": "markdown",
   "metadata": {},
   "source": [
    "### Attributes are Dictonaries"
   ]
  },
  {
   "cell_type": "code",
   "execution_count": 79,
   "metadata": {},
   "outputs": [
    {
     "data": {
      "text/plain": [
       "{'{http://www.w3.org/XML/1998/namespace}lang': 'en'}"
      ]
     },
     "execution_count": 79,
     "metadata": {},
     "output_type": "execute_result"
    }
   ],
   "source": [
    "root.attrib # 根节点的属性"
   ]
  },
  {
   "cell_type": "code",
   "execution_count": 80,
   "metadata": {},
   "outputs": [
    {
     "data": {
      "text/plain": [
       "<Element '{http://www.w3.org/2005/Atom}link' at 0x000001977FE240E8>"
      ]
     },
     "execution_count": 80,
     "metadata": {},
     "output_type": "execute_result"
    },
    {
     "data": {
      "text/plain": [
       "{'href': 'http://diveintomark.org/', 'rel': 'alternate', 'type': 'text/html'}"
      ]
     },
     "execution_count": 80,
     "metadata": {},
     "output_type": "execute_result"
    }
   ],
   "source": [
    "root[4]\n",
    "root[4].attrib"
   ]
  },
  {
   "cell_type": "code",
   "execution_count": 81,
   "metadata": {},
   "outputs": [
    {
     "data": {
      "text/plain": [
       "<Element '{http://www.w3.org/2005/Atom}updated' at 0x000001977FE24048>"
      ]
     },
     "execution_count": 81,
     "metadata": {},
     "output_type": "execute_result"
    },
    {
     "data": {
      "text/plain": [
       "{}"
      ]
     },
     "execution_count": 81,
     "metadata": {},
     "output_type": "execute_result"
    }
   ],
   "source": [
    "root[3]\n",
    "root[3].attrib #没有属性返回空字典"
   ]
  },
  {
   "cell_type": "markdown",
   "metadata": {},
   "source": [
    "### Searching for Nodes Within an XML Documents"
   ]
  },
  {
   "cell_type": "code",
   "execution_count": 82,
   "metadata": {},
   "outputs": [
    {
     "data": {
      "text/plain": [
       "[<Element '{http://www.w3.org/2005/Atom}entry' at 0x000001977FE24138>,\n",
       " <Element '{http://www.w3.org/2005/Atom}entry' at 0x000001977FE245E8>,\n",
       " <Element '{http://www.w3.org/2005/Atom}entry' at 0x000001977FE249A8>]"
      ]
     },
     "execution_count": 82,
     "metadata": {},
     "output_type": "execute_result"
    }
   ],
   "source": [
    "root.findall('{http://www.w3.org/2005/Atom}entry') #找出他们的子节点"
   ]
  },
  {
   "cell_type": "code",
   "execution_count": 83,
   "metadata": {},
   "outputs": [
    {
     "data": {
      "text/plain": [
       "'{http://www.w3.org/2005/Atom}feed'"
      ]
     },
     "execution_count": 83,
     "metadata": {},
     "output_type": "execute_result"
    }
   ],
   "source": [
    "root.tag"
   ]
  },
  {
   "cell_type": "code",
   "execution_count": 84,
   "metadata": {},
   "outputs": [
    {
     "data": {
      "text/plain": [
       "[]"
      ]
     },
     "execution_count": 84,
     "metadata": {},
     "output_type": "execute_result"
    }
   ],
   "source": [
    "root.findall('{http://www.w3.org/2005/Atom}feed') #feed下面没有子节点叫feed"
   ]
  },
  {
   "cell_type": "code",
   "execution_count": 85,
   "metadata": {},
   "outputs": [
    {
     "data": {
      "text/plain": [
       "[]"
      ]
     },
     "execution_count": 85,
     "metadata": {},
     "output_type": "execute_result"
    }
   ],
   "source": [
    "root.findall('{http://www.w3.org/2005/Atom}author')\n",
    "# 文档中虽然有三个author，分别在3个entry节点下，但不是feed的直接子节点\n",
    "# author是feed的孙节点，所以返回空值"
   ]
  },
  {
   "cell_type": "code",
   "execution_count": 86,
   "metadata": {},
   "outputs": [
    {
     "data": {
      "text/plain": [
       "3"
      ]
     },
     "execution_count": 86,
     "metadata": {},
     "output_type": "execute_result"
    }
   ],
   "source": [
    "entries = tree.findall('{http://www.w3.org/2005/Atom}entry')\n",
    "len(entries)\n",
    "# root = tree.getroot()"
   ]
  },
  {
   "cell_type": "code",
   "execution_count": 87,
   "metadata": {},
   "outputs": [
    {
     "data": {
      "text/plain": [
       "<Element '{http://www.w3.org/2005/Atom}title' at 0x000001977FE242C8>"
      ]
     },
     "execution_count": 87,
     "metadata": {},
     "output_type": "execute_result"
    },
    {
     "data": {
      "text/plain": [
       "'Dive into history, 2009 edition'"
      ]
     },
     "execution_count": 87,
     "metadata": {},
     "output_type": "execute_result"
    }
   ],
   "source": [
    "# find函数返回第一个值\n",
    "title_element = entries[0].find('{http://www.w3.org/2005/Atom}title')\n",
    "title_element\n",
    "title_element.text"
   ]
  },
  {
   "cell_type": "code",
   "execution_count": 88,
   "metadata": {},
   "outputs": [
    {
     "data": {
      "text/plain": [
       "NoneType"
      ]
     },
     "execution_count": 88,
     "metadata": {},
     "output_type": "execute_result"
    }
   ],
   "source": [
    "foo_element = entries[0].find('{http://www.w3.org/2005/Atom}foo')\n",
    "foo_element\n",
    "type(foo_element)\n",
    "# 没有元素叫foo的，所以返回空值"
   ]
  },
  {
   "cell_type": "code",
   "execution_count": 89,
   "metadata": {
    "scrolled": true
   },
   "outputs": [
    {
     "data": {
      "text/plain": [
       "[<Element '{http://www.w3.org/2005/Atom}link' at 0x000001977FE240E8>,\n",
       " <Element '{http://www.w3.org/2005/Atom}link' at 0x000001977FE24368>,\n",
       " <Element '{http://www.w3.org/2005/Atom}link' at 0x000001977FE247C8>,\n",
       " <Element '{http://www.w3.org/2005/Atom}link' at 0x000001977FE24AE8>]"
      ]
     },
     "execution_count": 89,
     "metadata": {},
     "output_type": "execute_result"
    }
   ],
   "source": [
    "all_links = tree.findall('.//{http://www.w3.org/2005/Atom}link')\n",
    "all_links\n",
    "# 前面两个//反斜杠意思是不要只查找direct children，我要所有的元素，不管在哪个层面上"
   ]
  },
  {
   "cell_type": "code",
   "execution_count": 90,
   "metadata": {},
   "outputs": [
    {
     "data": {
      "text/plain": [
       "{'href': 'http://diveintomark.org/', 'rel': 'alternate', 'type': 'text/html'}"
      ]
     },
     "execution_count": 90,
     "metadata": {},
     "output_type": "execute_result"
    }
   ],
   "source": [
    "all_links[0].attrib # 第一个查找值是根节点的直接子节点，另外三个是entry级别的"
   ]
  },
  {
   "cell_type": "code",
   "execution_count": 91,
   "metadata": {},
   "outputs": [
    {
     "data": {
      "text/plain": [
       "{'href': 'http://diveintomark.org/archives/2009/03/27/dive-into-history-2009-edition',\n",
       " 'rel': 'alternate',\n",
       " 'type': 'text/html'}"
      ]
     },
     "execution_count": 91,
     "metadata": {},
     "output_type": "execute_result"
    }
   ],
   "source": [
    "all_links[1].attrib"
   ]
  },
  {
   "cell_type": "code",
   "execution_count": 92,
   "metadata": {},
   "outputs": [
    {
     "data": {
      "text/plain": [
       "{'href': 'http://diveintomark.org/archives/2009/03/21/accessibility-is-a-harsh-mistress',\n",
       " 'rel': 'alternate',\n",
       " 'type': 'text/html'}"
      ]
     },
     "execution_count": 92,
     "metadata": {},
     "output_type": "execute_result"
    }
   ],
   "source": [
    "all_links[2].attrib"
   ]
  },
  {
   "cell_type": "markdown",
   "metadata": {},
   "source": [
    "### Generating XML"
   ]
  },
  {
   "cell_type": "code",
   "execution_count": 93,
   "metadata": {},
   "outputs": [
    {
     "name": "stdout",
     "output_type": "stream",
     "text": [
      "b'<ns0:feed xmlns:ns0=\"http://www.w3.org/2005/Atom\" xml:lang=\"en\" />'\n"
     ]
    }
   ],
   "source": [
    "new_feed = ET.Element('{http://www.w3.org/2005/Atom}feed',\n",
    "                     attrib={'{http://www.w3.org/XML/1998/namespace}lang': 'en'})\n",
    "print(ET.tostring(new_feed ))"
   ]
  },
  {
   "cell_type": "code",
   "execution_count": null,
   "metadata": {
    "collapsed": true
   },
   "outputs": [],
   "source": []
  },
  {
   "cell_type": "code",
   "execution_count": null,
   "metadata": {
    "collapsed": true
   },
   "outputs": [],
   "source": []
  }
 ],
 "metadata": {
  "kernelspec": {
   "display_name": "Python 3",
   "language": "python",
   "name": "python3"
  },
  "language_info": {
   "codemirror_mode": {
    "name": "ipython",
    "version": 3
   },
   "file_extension": ".py",
   "mimetype": "text/x-python",
   "name": "python",
   "nbconvert_exporter": "python",
   "pygments_lexer": "ipython3",
   "version": "3.6.1"
  },
  "toc": {
   "colors": {
    "hover_highlight": "#DAA520",
    "navigate_num": "#000000",
    "navigate_text": "#333333",
    "running_highlight": "#FF0000",
    "selected_highlight": "#FFD700",
    "sidebar_border": "#EEEEEE",
    "wrapper_background": "#FFFFFF"
   },
   "moveMenuLeft": true,
   "nav_menu": {
    "height": "245px",
    "width": "252px"
   },
   "navigate_menu": true,
   "number_sections": true,
   "sideBar": true,
   "threshold": 4,
   "toc_cell": false,
   "toc_section_display": "block",
   "toc_window_display": true,
   "widenNotebook": false
  }
 },
 "nbformat": 4,
 "nbformat_minor": 2
}
